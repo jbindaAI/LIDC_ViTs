{
 "cells": [
  {
   "cell_type": "code",
   "execution_count": 2,
   "id": "3a6be6f8-8f1b-47f5-b29b-ad7f6ddae1d3",
   "metadata": {},
   "outputs": [],
   "source": [
    "from End2End_Model import End2End_Model"
   ]
  },
  {
   "cell_type": "code",
   "execution_count": 10,
   "id": "7a35aeaf-5582-4820-a40e-58575f5642e9",
   "metadata": {},
   "outputs": [],
   "source": [
    "from typing import Literal, Union\n",
    "import torch\n",
    "from torchinfo import summary"
   ]
  },
  {
   "cell_type": "code",
   "execution_count": 4,
   "id": "7a9f5407-a3fd-4ce6-a2e0-c20d3bb5d792",
   "metadata": {},
   "outputs": [],
   "source": [
    "torch.cuda.empty_cache()"
   ]
  },
  {
   "cell_type": "code",
   "execution_count": 5,
   "id": "a9197d5e-cff2-4b68-a977-a88652fdbe93",
   "metadata": {},
   "outputs": [],
   "source": [
    "## HYPERPARAMETERS:\n",
    "MODEL_NR:int = 34\n",
    "WANDB_PROJECT:str = \"3DViT_E2E\"\n",
    "MODEL_TYPE:Literal[\"dino_vits8\", \"dino_vitb8\", \"dino_vits16\", \"dino_vitb16\", \"vit_b_16\", \"vit_l_16\", \"3Dvit_8\", \"3Dvit_16\"]=\"3Dvit_16\"\n",
    "FULL_VOLUME:bool = True\n",
    "BOOTSTRAP_METHOD:Literal[\"centering\", \"inflation\", None] = \"centering\"\n",
    "EPOCHS:int = 60\n",
    "BATCH_SIZE:int = 16\n",
    "MAX_LR:float = 1e-5\n",
    "DIV_FACTOR:int = 100 # Base LR is computed as MAX_LR/DIV_FACTOR.\n",
    "N_CYCLES:int = 6\n",
    "TRAINABLE_LAYERS:Union[int, Literal[\"all\"]] = \"all\"\n",
    "BCKB_DROPOUT:float = 0.12\n",
    "LOCAL:bool = True\n",
    "SAVE_TOP_CKPTS:int = 0"
   ]
  },
  {
   "cell_type": "code",
   "execution_count": 7,
   "id": "732d7ba5-f74c-4abe-a686-dc4e06b226ef",
   "metadata": {},
   "outputs": [
    {
     "name": "stdout",
     "output_type": "stream",
     "text": [
      "<All keys matched successfully>\n"
     ]
    }
   ],
   "source": [
    "model = End2End_Model(\n",
    "        model_type=MODEL_TYPE,\n",
    "        trainable_layers=TRAINABLE_LAYERS,\n",
    "        backbone_dropout=BCKB_DROPOUT,\n",
    "        max_lr=MAX_LR,\n",
    "        div_factor=DIV_FACTOR,\n",
    "        steps_per_epoch=50,\n",
    "        epochs=EPOCHS,\n",
    "        n_cycles=N_CYCLES,\n",
    "        bootstrap_method=BOOTSTRAP_METHOD\n",
    "    )"
   ]
  },
  {
   "cell_type": "code",
   "execution_count": 11,
   "id": "51b516a5-5ace-414b-872b-63686c78ccd3",
   "metadata": {},
   "outputs": [
    {
     "data": {
      "text/plain": [
       "============================================================================================================================================\n",
       "Layer (type:depth-idx)                   Input Shape               Output Shape              Param #                   Trainable\n",
       "============================================================================================================================================\n",
       "End2End_Model                            [16, 1, 32, 224, 224]     [16, 1]                   --                        True\n",
       "├─VisionTransformer3D: 1-1               [16, 1, 32, 224, 224]     [16, 768]                 152,064                   True\n",
       "│    └─PatchEmbed: 2-1                   [16, 1, 32, 224, 224]     [16, 196, 768]            --                        True\n",
       "│    │    └─Conv3d: 3-1                  [16, 1, 32, 224, 224]     [16, 768, 1, 14, 14]      6,292,224                 True\n",
       "│    └─Dropout: 2-2                      [16, 197, 768]            [16, 197, 768]            --                        --\n",
       "│    └─ModuleList: 2-3                   --                        --                        --                        True\n",
       "│    │    └─Block: 3-2                   [16, 197, 768]            [16, 197, 768]            7,087,872                 True\n",
       "│    │    └─Block: 3-3                   [16, 197, 768]            [16, 197, 768]            7,087,872                 True\n",
       "│    │    └─Block: 3-4                   [16, 197, 768]            [16, 197, 768]            7,087,872                 True\n",
       "│    │    └─Block: 3-5                   [16, 197, 768]            [16, 197, 768]            7,087,872                 True\n",
       "│    │    └─Block: 3-6                   [16, 197, 768]            [16, 197, 768]            7,087,872                 True\n",
       "│    │    └─Block: 3-7                   [16, 197, 768]            [16, 197, 768]            7,087,872                 True\n",
       "│    │    └─Block: 3-8                   [16, 197, 768]            [16, 197, 768]            7,087,872                 True\n",
       "│    │    └─Block: 3-9                   [16, 197, 768]            [16, 197, 768]            7,087,872                 True\n",
       "│    │    └─Block: 3-10                  [16, 197, 768]            [16, 197, 768]            7,087,872                 True\n",
       "│    │    └─Block: 3-11                  [16, 197, 768]            [16, 197, 768]            7,087,872                 True\n",
       "│    │    └─Block: 3-12                  [16, 197, 768]            [16, 197, 768]            7,087,872                 True\n",
       "│    │    └─Block: 3-13                  [16, 197, 768]            [16, 197, 768]            7,087,872                 True\n",
       "│    └─LayerNorm: 2-4                    [16, 197, 768]            [16, 197, 768]            1,536                     True\n",
       "├─Sequential: 1-2                        [16, 768]                 [16, 1]                   --                        True\n",
       "│    └─Linear: 2-5                       [16, 768]                 [16, 1]                   769                       True\n",
       "============================================================================================================================================\n",
       "Total params: 91,501,057\n",
       "Trainable params: 91,501,057\n",
       "Non-trainable params: 0\n",
       "Total mult-adds (Units.GIGABYTES): 21.09\n",
       "============================================================================================================================================\n",
       "Input size (MB): 102.76\n",
       "Forward/backward pass size (MB): 2594.93\n",
       "Params size (MB): 365.40\n",
       "Estimated Total Size (MB): 3063.09\n",
       "============================================================================================================================================"
      ]
     },
     "execution_count": 11,
     "metadata": {},
     "output_type": "execute_result"
    }
   ],
   "source": [
    "batch_size = 16\n",
    "summary(model, input_size=(batch_size, 1, 32, 224, 224),\n",
    "        col_names=[\"input_size\",\n",
    "                \"output_size\",\n",
    "                \"num_params\",\n",
    "                \"trainable\"])"
   ]
  },
  {
   "cell_type": "code",
   "execution_count": 1,
   "id": "81a9b6b0-41fa-4fef-8407-1654860dd5be",
   "metadata": {},
   "outputs": [],
   "source": [
    "from LIDC_Dataset import LIDC_Dataset"
   ]
  },
  {
   "cell_type": "code",
   "execution_count": 2,
   "id": "07ade29a-14de-4cec-b33f-dbc2f636da16",
   "metadata": {},
   "outputs": [],
   "source": [
    "datapath=\"/home/jbinda/INFORM/LIDC_ViTs/dataset/\""
   ]
  },
  {
   "cell_type": "code",
   "execution_count": 3,
   "id": "eff22893-6ad1-44f1-8b03-1ef4ce5ac7be",
   "metadata": {},
   "outputs": [],
   "source": [
    "train_ds = LIDC_Dataset(\n",
    "            datapath=datapath,\n",
    "            fold=1,\n",
    "            transform=None,\n",
    "            label_transform=None,\n",
    "            mode=\"train\",\n",
    "            task=\"Classification\",\n",
    "            full_volume=True\n",
    "        )"
   ]
  },
  {
   "cell_type": "code",
   "execution_count": 5,
   "id": "6c11ca79-5035-43db-8642-c6aac0085c30",
   "metadata": {},
   "outputs": [
    {
     "data": {
      "text/plain": [
       "torch.Size([32, 32, 32])"
      ]
     },
     "execution_count": 5,
     "metadata": {},
     "output_type": "execute_result"
    }
   ],
   "source": [
    "train_ds[0][0].shape"
   ]
  },
  {
   "cell_type": "code",
   "execution_count": null,
   "id": "44075687-9f02-4afe-94ce-2bcf4db9cc52",
   "metadata": {},
   "outputs": [],
   "source": []
  },
  {
   "cell_type": "code",
   "execution_count": null,
   "id": "513e2f88-0011-4738-9261-a19957deb206",
   "metadata": {},
   "outputs": [],
   "source": []
  },
  {
   "cell_type": "code",
   "execution_count": null,
   "id": "f06ca5d5-7861-4966-8c1f-3902e9bcc443",
   "metadata": {},
   "outputs": [],
   "source": []
  },
  {
   "cell_type": "code",
   "execution_count": null,
   "id": "4b621af2-e8cc-4ae1-8d4c-f7b3ad7e107c",
   "metadata": {},
   "outputs": [],
   "source": []
  },
  {
   "cell_type": "markdown",
   "id": "8cee58b1-8057-45d6-929d-6f84c5373b04",
   "metadata": {
    "jp-MarkdownHeadingCollapsed": true
   },
   "source": [
    "# ViT"
   ]
  },
  {
   "cell_type": "code",
   "execution_count": 24,
   "id": "ee59c25f-42e3-48ad-b311-64fe8c6aa4e7",
   "metadata": {},
   "outputs": [],
   "source": [
    "import torchvision\n",
    "from torchinfo import summary"
   ]
  },
  {
   "cell_type": "code",
   "execution_count": 34,
   "id": "b51a1621-8006-4792-a1f4-39675d5d9a4d",
   "metadata": {},
   "outputs": [
    {
     "name": "stderr",
     "output_type": "stream",
     "text": [
      "Downloading: \"https://download.pytorch.org/models/vit_h_14_swag-80465313.pth\" to /home/jbinda/.cache/torch/hub/checkpoints/vit_h_14_swag-80465313.pth\n",
      "100%|██████████████████████████████████████████████████████████████████████████████| 2.36G/2.36G [23:39<00:00, 1.79MB/s]\n"
     ]
    }
   ],
   "source": [
    "model = torchvision.models.vit_h_14(weights='IMAGENET1K_SWAG_E2E_V1')"
   ]
  },
  {
   "cell_type": "code",
   "execution_count": 37,
   "id": "565ef7a4-f800-489f-860e-9ba0a5079272",
   "metadata": {},
   "outputs": [
    {
     "data": {
      "text/plain": [
       "======================================================================================================================================================\n",
       "Layer (type:depth-idx)                             Input Shape               Output Shape              Param #                   Trainable\n",
       "======================================================================================================================================================\n",
       "VisionTransformer                                  [4, 3, 518, 518]          [4, 1000]                 1,280                     True\n",
       "├─Conv2d: 1-1                                      [4, 3, 518, 518]          [4, 1280, 37, 37]         753,920                   True\n",
       "├─Encoder: 1-2                                     [4, 1370, 1280]           [4, 1370, 1280]           1,753,600                 True\n",
       "│    └─Dropout: 2-1                                [4, 1370, 1280]           [4, 1370, 1280]           --                        --\n",
       "│    └─Sequential: 2-2                             [4, 1370, 1280]           [4, 1370, 1280]           --                        True\n",
       "│    │    └─EncoderBlock: 3-1                      [4, 1370, 1280]           [4, 1370, 1280]           19,677,440                True\n",
       "│    │    └─EncoderBlock: 3-2                      [4, 1370, 1280]           [4, 1370, 1280]           19,677,440                True\n",
       "│    │    └─EncoderBlock: 3-3                      [4, 1370, 1280]           [4, 1370, 1280]           19,677,440                True\n",
       "│    │    └─EncoderBlock: 3-4                      [4, 1370, 1280]           [4, 1370, 1280]           19,677,440                True\n",
       "│    │    └─EncoderBlock: 3-5                      [4, 1370, 1280]           [4, 1370, 1280]           19,677,440                True\n",
       "│    │    └─EncoderBlock: 3-6                      [4, 1370, 1280]           [4, 1370, 1280]           19,677,440                True\n",
       "│    │    └─EncoderBlock: 3-7                      [4, 1370, 1280]           [4, 1370, 1280]           19,677,440                True\n",
       "│    │    └─EncoderBlock: 3-8                      [4, 1370, 1280]           [4, 1370, 1280]           19,677,440                True\n",
       "│    │    └─EncoderBlock: 3-9                      [4, 1370, 1280]           [4, 1370, 1280]           19,677,440                True\n",
       "│    │    └─EncoderBlock: 3-10                     [4, 1370, 1280]           [4, 1370, 1280]           19,677,440                True\n",
       "│    │    └─EncoderBlock: 3-11                     [4, 1370, 1280]           [4, 1370, 1280]           19,677,440                True\n",
       "│    │    └─EncoderBlock: 3-12                     [4, 1370, 1280]           [4, 1370, 1280]           19,677,440                True\n",
       "│    │    └─EncoderBlock: 3-13                     [4, 1370, 1280]           [4, 1370, 1280]           19,677,440                True\n",
       "│    │    └─EncoderBlock: 3-14                     [4, 1370, 1280]           [4, 1370, 1280]           19,677,440                True\n",
       "│    │    └─EncoderBlock: 3-15                     [4, 1370, 1280]           [4, 1370, 1280]           19,677,440                True\n",
       "│    │    └─EncoderBlock: 3-16                     [4, 1370, 1280]           [4, 1370, 1280]           19,677,440                True\n",
       "│    │    └─EncoderBlock: 3-17                     [4, 1370, 1280]           [4, 1370, 1280]           19,677,440                True\n",
       "│    │    └─EncoderBlock: 3-18                     [4, 1370, 1280]           [4, 1370, 1280]           19,677,440                True\n",
       "│    │    └─EncoderBlock: 3-19                     [4, 1370, 1280]           [4, 1370, 1280]           19,677,440                True\n",
       "│    │    └─EncoderBlock: 3-20                     [4, 1370, 1280]           [4, 1370, 1280]           19,677,440                True\n",
       "│    │    └─EncoderBlock: 3-21                     [4, 1370, 1280]           [4, 1370, 1280]           19,677,440                True\n",
       "│    │    └─EncoderBlock: 3-22                     [4, 1370, 1280]           [4, 1370, 1280]           19,677,440                True\n",
       "│    │    └─EncoderBlock: 3-23                     [4, 1370, 1280]           [4, 1370, 1280]           19,677,440                True\n",
       "│    │    └─EncoderBlock: 3-24                     [4, 1370, 1280]           [4, 1370, 1280]           19,677,440                True\n",
       "│    │    └─EncoderBlock: 3-25                     [4, 1370, 1280]           [4, 1370, 1280]           19,677,440                True\n",
       "│    │    └─EncoderBlock: 3-26                     [4, 1370, 1280]           [4, 1370, 1280]           19,677,440                True\n",
       "│    │    └─EncoderBlock: 3-27                     [4, 1370, 1280]           [4, 1370, 1280]           19,677,440                True\n",
       "│    │    └─EncoderBlock: 3-28                     [4, 1370, 1280]           [4, 1370, 1280]           19,677,440                True\n",
       "│    │    └─EncoderBlock: 3-29                     [4, 1370, 1280]           [4, 1370, 1280]           19,677,440                True\n",
       "│    │    └─EncoderBlock: 3-30                     [4, 1370, 1280]           [4, 1370, 1280]           19,677,440                True\n",
       "│    │    └─EncoderBlock: 3-31                     [4, 1370, 1280]           [4, 1370, 1280]           19,677,440                True\n",
       "│    │    └─EncoderBlock: 3-32                     [4, 1370, 1280]           [4, 1370, 1280]           19,677,440                True\n",
       "│    └─LayerNorm: 2-3                              [4, 1370, 1280]           [4, 1370, 1280]           2,560                     True\n",
       "├─Sequential: 1-3                                  [4, 1280]                 [4, 1000]                 --                        True\n",
       "│    └─Linear: 2-4                                 [4, 1280]                 [4, 1000]                 1,281,000                 True\n",
       "======================================================================================================================================================\n",
       "Total params: 633,470,440\n",
       "Trainable params: 633,470,440\n",
       "Non-trainable params: 0\n",
       "Total mult-adds (Units.GIGABYTES): 5.81\n",
       "======================================================================================================================================================\n",
       "Input size (MB): 12.88\n",
       "Forward/backward pass size (MB): 12682.03\n",
       "Params size (MB): 1687.35\n",
       "Estimated Total Size (MB): 14382.25\n",
       "======================================================================================================================================================"
      ]
     },
     "execution_count": 37,
     "metadata": {},
     "output_type": "execute_result"
    }
   ],
   "source": [
    "batch_size = 4\n",
    "summary(model, input_size=(batch_size, 3, 518, 518),\n",
    "        col_names=[\"input_size\",\n",
    "                \"output_size\",\n",
    "                \"num_params\",\n",
    "                \"trainable\"])"
   ]
  },
  {
   "cell_type": "code",
   "execution_count": 38,
   "id": "41c2fc57-0af7-4a9f-86ae-91ccba3ee341",
   "metadata": {},
   "outputs": [
    {
     "data": {
      "text/plain": [
       "Sequential(\n",
       "  (head): Linear(in_features=1280, out_features=1000, bias=True)\n",
       ")"
      ]
     },
     "execution_count": 38,
     "metadata": {},
     "output_type": "execute_result"
    }
   ],
   "source": [
    "model.heads"
   ]
  },
  {
   "cell_type": "code",
   "execution_count": 31,
   "id": "216d2dea-a9b0-44b9-9455-eed0a045bab7",
   "metadata": {},
   "outputs": [
    {
     "data": {
      "text/plain": [
       "1024"
      ]
     },
     "execution_count": 31,
     "metadata": {},
     "output_type": "execute_result"
    }
   ],
   "source": [
    "model.hidden_dim"
   ]
  },
  {
   "cell_type": "code",
   "execution_count": 21,
   "id": "b0d76063-e2f2-431f-810d-fd5416edc9fa",
   "metadata": {},
   "outputs": [],
   "source": [
    "model.heads = torch.nn.Identity(768)"
   ]
  },
  {
   "cell_type": "code",
   "execution_count": 22,
   "id": "7b70ca5f-c7b3-41de-b4f1-83397e04788d",
   "metadata": {},
   "outputs": [
    {
     "name": "stdout",
     "output_type": "stream",
     "text": [
      "End2End_Model(\n",
      "  (backbone): VisionTransformer(\n",
      "    (patch_embed): PatchEmbed(\n",
      "      (proj): Conv2d(3, 384, kernel_size=(16, 16), stride=(16, 16))\n",
      "    )\n",
      "    (pos_drop): Dropout(p=0.15, inplace=False)\n",
      "    (blocks): ModuleList(\n",
      "      (0-11): 12 x Block(\n",
      "        (norm1): LayerNorm((384,), eps=1e-06, elementwise_affine=True)\n",
      "        (attn): Attention(\n",
      "          (qkv): Linear(in_features=384, out_features=1152, bias=True)\n",
      "          (attn_drop): Dropout(p=0.15, inplace=False)\n",
      "          (proj): Linear(in_features=384, out_features=384, bias=True)\n",
      "          (proj_drop): Dropout(p=0.15, inplace=False)\n",
      "        )\n",
      "        (drop_path): Identity()\n",
      "        (norm2): LayerNorm((384,), eps=1e-06, elementwise_affine=True)\n",
      "        (mlp): Mlp(\n",
      "          (fc1): Linear(in_features=384, out_features=1536, bias=True)\n",
      "          (act): GELU(approximate='none')\n",
      "          (fc2): Linear(in_features=1536, out_features=384, bias=True)\n",
      "          (drop): Dropout(p=0.15, inplace=False)\n",
      "        )\n",
      "      )\n",
      "    )\n",
      "    (norm): LayerNorm((384,), eps=1e-06, elementwise_affine=True)\n",
      "    (head): Identity()\n",
      "  )\n",
      "  (mlp_head): Sequential(\n",
      "    (0): Linear(in_features=384, out_features=1, bias=True)\n",
      "  )\n",
      "  (accuracy): BinaryAccuracy()\n",
      "  (heads): Identity()\n",
      ")\n"
     ]
    }
   ],
   "source": [
    "print(model)"
   ]
  }
 ],
 "metadata": {
  "kernelspec": {
   "display_name": "Python 3 (ipykernel)",
   "language": "python",
   "name": "python3"
  },
  "language_info": {
   "codemirror_mode": {
    "name": "ipython",
    "version": 3
   },
   "file_extension": ".py",
   "mimetype": "text/x-python",
   "name": "python",
   "nbconvert_exporter": "python",
   "pygments_lexer": "ipython3",
   "version": "3.12.2"
  }
 },
 "nbformat": 4,
 "nbformat_minor": 5
}
