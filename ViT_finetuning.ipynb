{
 "cells": [
  {
   "cell_type": "markdown",
   "id": "b76b7613-9740-45b7-9739-2dd1e4ad8989",
   "metadata": {},
   "source": [
    "## Finetuning pre-trained in a self-supervised manner ViT transformer on LIDC dataset."
   ]
  },
  {
   "cell_type": "code",
   "execution_count": 2,
   "id": "292aebee-36e9-4e91-8d9f-ab85e85d73e4",
   "metadata": {},
   "outputs": [],
   "source": [
    "from pathlib import Path\n",
    "import pandas as pd\n",
    "from sklearn.model_selection import StratifiedKFold\n",
    "from sklearn.preprocessing import StandardScaler\n",
    "import pickle\n",
    "import torch\n",
    "from torchvision import transforms\n",
    "from lightning import Trainer\n",
    "import lightning as L\n",
    "import numpy as np\n",
    "from typing import Optional, Dict\n",
    "from prettytable import PrettyTable"
   ]
  },
  {
   "cell_type": "code",
   "execution_count": 4,
   "id": "a67e7e91-c2ea-4db8-b8fe-4464bf73c380",
   "metadata": {
    "scrolled": true
   },
   "outputs": [
    {
     "name": "stdout",
     "output_type": "stream",
     "text": [
      "The autoreload extension is already loaded. To reload it, use:\n",
      "  %reload_ext autoreload\n"
     ]
    }
   ],
   "source": [
    "%load_ext autoreload\n",
    "%autoreload 2\n",
    "    \n",
    "from my_utils.plot_utils import plot_hists\n",
    "from my_utils.norm_factors import compute_norm_factors\n",
    "from End2End_Model import End2End_Model\n",
    "from LIDC_DataModule import DataModule"
   ]
  },
  {
   "cell_type": "markdown",
   "id": "43ff76f4-dbaa-4d90-b3f0-f99fd489fbd1",
   "metadata": {},
   "source": [
    "### Dividing dataset into three sets: training, validation and test sets."
   ]
  },
  {
   "cell_type": "code",
   "execution_count": 5,
   "id": "b091f3ca-054e-4698-b07b-802b6e268fe9",
   "metadata": {},
   "outputs": [],
   "source": [
    "# Paths\n",
    "local = False\n",
    "if local:\n",
    "    datapath = \"/home/jbinda/INFORM/LIDC/dataset/\"\n",
    "    subsets_saving_path = \"/home/jbinda/INFORM/LIDC_ViTs/dataset/splitted_sets/\"\n",
    "    checkpoints_path=\"/home/jbinda/INFORM/LIDC_ViTs/ckpt/End2End/\"\n",
    "    Path(subsets_saving_path).mkdir(parents=True, exist_ok=True)\n",
    "else:\n",
    "    datapath = \"/home/dzban112/LIDC_ViTs/dataset/\"\n",
    "    subsets_saving_path = \"/home/dzban112/LIDC_ViTs/dataset/splitted_sets/\"\n",
    "    checkpoints_path=\"/home/dzban112/LIDC_ViTs/ckpt/End2End/\"\n",
    "    Path(subsets_saving_path).mkdir(parents=True, exist_ok=True)"
   ]
  },
  {
   "cell_type": "code",
   "execution_count": 6,
   "id": "991502ac-ed27-4e45-a3ae-6cabbc611445",
   "metadata": {},
   "outputs": [],
   "source": [
    "#Reading all annotations and extracting paths, target: benign, malignant.\n",
    "df = pd.read_pickle(f\"{datapath}/ALL_annotations_df.pkl\")"
   ]
  },
  {
   "cell_type": "code",
   "execution_count": 7,
   "id": "04ffc878-30f1-4139-b773-c0a8c5dffeb1",
   "metadata": {},
   "outputs": [],
   "source": [
    "skf = StratifiedKFold(n_splits=5, shuffle=True, random_state=44)\n",
    "folds = skf.split(X=df[\"path\"], y=df[\"target\"])"
   ]
  },
  {
   "cell_type": "code",
   "execution_count": 8,
   "id": "69db924b-2c3c-476f-bee5-0d01ded31c5e",
   "metadata": {},
   "outputs": [],
   "source": [
    "for i, (train_indices, test_indices) in enumerate(folds):\n",
    "    with open(subsets_saving_path+f\"train_fold_{i+1}.pkl\", 'wb') as file:\n",
    "        pickle.dump(list(train_indices), file)\n",
    "    with open(subsets_saving_path+f\"test_fold_{i+1}.pkl\", 'wb') as file:\n",
    "        pickle.dump(list(test_indices), file)"
   ]
  },
  {
   "cell_type": "code",
   "execution_count": 9,
   "id": "d47f2546-fe6e-4ddc-9a49-e83958fdcf61",
   "metadata": {},
   "outputs": [
    {
     "data": {
      "image/png": "[encoded data removed]",
      "text/plain": [
       "<Figure size 750x500 with 2 Axes>"
      ]
     },
     "metadata": {},
     "output_type": "display_data"
    }
   ],
   "source": [
    "plot_hists(fold=1, datapath=datapath, subsets_saving_path=subsets_saving_path)"
   ]
  },
  {
   "cell_type": "markdown",
   "id": "566f49da-e7e2-4094-8d0f-45fd2c516e6d",
   "metadata": {},
   "source": [
    "### Computing Normalization Factors"
   ]
  },
  {
   "cell_type": "code",
   "execution_count": 11,
   "id": "9c5c7927-4e9f-4662-8fca-6038098e423b",
   "metadata": {},
   "outputs": [
    {
     "name": "stdout",
     "output_type": "stream",
     "text": [
      "(tensor(-625.8784), tensor(363.2248))\n",
      "(tensor(-631.0611), tensor(357.2651))\n",
      "(tensor(-629.7866), tensor(362.4995))\n",
      "(tensor(-633.4309), tensor(356.7941))\n",
      "(tensor(-632.3697), tensor(356.8558))\n"
     ]
    }
   ],
   "source": [
    "def prepare_norm_factors(n_splits=5):\n",
    "    df = pd.read_pickle(f\"{datapath}/ALL_annotations_df.pkl\")\n",
    "    fitted_factors = {}\n",
    "    for fold in range(1, n_splits+1):\n",
    "        # Computing mean and std of image pixels values.\n",
    "        with open(datapath+f\"/splitted_sets/train_fold_{fold}.pkl\", 'rb') as file:\n",
    "            train_indices = pickle.load(file)\n",
    "            X_train = df.iloc[train_indices][\"path\"]\n",
    "            mean, std = compute_norm_factors(X_train, datapath)\n",
    "            \n",
    "            # Creating instance of biomarker scaler\n",
    "            biomarkers = df.iloc[train_indices][[\"subtlety\", \"calcification\",\n",
    "                                                 \"margin\", \"lobulation\",\n",
    "                                                 \"spiculation\", \"diameter\",\n",
    "                                                 \"texture\", \"sphericity\"]].to_numpy() #without targets\n",
    "            scaler = StandardScaler().fit(biomarkers)\n",
    "\n",
    "            # Saving in dictionary object:\n",
    "            fitted_factors[f\"fold_{fold}\"] = (mean, std, scaler)\n",
    "        \n",
    "\n",
    "    with open(subsets_saving_path+\"/\"+\"fitted_factors.pkl\", 'wb') as f:\n",
    "        pickle.dump(fitted_factors, f)\n",
    "    \n",
    "    return fitted_factors\n",
    "\n",
    "fitted_factors = prepare_norm_factors(n_splits=5)\n",
    "\n",
    "print(fitted_factors[\"fold_1\"][0:2])\n",
    "print(fitted_factors[\"fold_2\"][0:2])\n",
    "print(fitted_factors[\"fold_3\"][0:2])\n",
    "print(fitted_factors[\"fold_4\"][0:2])\n",
    "print(fitted_factors[\"fold_5\"][0:2])"
   ]
  },
  {
   "cell_type": "markdown",
   "id": "8ca3f99c-549f-4586-b5b7-9c2a9ee9966f",
   "metadata": {},
   "source": [
    "## Finetuning End2End Model"
   ]
  },
  {
   "cell_type": "markdown",
   "id": "3df6e7b8-1ac8-4b0e-81be-fa5388257e2c",
   "metadata": {},
   "source": [
    "Finetuning was performed with GPU accelaration. To train model I have used python script `train_End2End.py`.\n",
    "Using first fold I have searched for the best hyperparameters and hyperparameters yielding the best model, were used to train model on five folds."
   ]
  },
  {
   "cell_type": "markdown",
   "id": "467855ac-19bb-4914-9372-e195b2c8c6d0",
   "metadata": {},
   "source": [
    "## End2End model evaluation on the test set"
   ]
  },
  {
   "cell_type": "code",
   "execution_count": 4,
   "id": "5e6664db-8c02-4fbf-a6f8-31ea879b23bd",
   "metadata": {},
   "outputs": [],
   "source": [
    "def E2E_model_evaluation(model_name:str, version:Optional[str]=None):\n",
    "    res={}\n",
    "    for fold in range(1,6):\n",
    "        print(f\"fold: {fold}\")\n",
    "        dm = DataModule(\n",
    "            fold=fold,\n",
    "            datapath=datapath,\n",
    "            batch_size=16,\n",
    "            num_workers=8,\n",
    "            task=\"Classification\")\n",
    "\n",
    "        if version is None:\n",
    "            ckpt_path = checkpoints_path+model_name+f\"_{fold}\"+\".ckpt\"\n",
    "        else:\n",
    "            ckpt_path = checkpoints_path+model_name+f\"_{fold}\"+f\"-{version}\"+\".ckpt\"\n",
    "        model = End2End_Model.load_from_checkpoint(ckpt_path)\n",
    "        torch.set_float32_matmul_precision('medium')\n",
    "        trainer = pl.Trainer(accelerator=\"gpu\", devices=1, precision=32)\n",
    "        model.eval()\n",
    "        res[f\"fold_{fold}\"] = trainer.test(model, dm)\n",
    "    return res\n",
    "\n",
    "\n",
    "def compute_results(raw_results:Dict[str, list]):\n",
    "    ACC = []\n",
    "    folds = []\n",
    "    mean_ACC = 0\n",
    "    n = 0\n",
    "    for fold in raw_results.keys():\n",
    "        cur_ACC = raw_results[fold][0][\"test_acc\"]\n",
    "        ACC.append(cur_ACC)\n",
    "        folds.append(f\"Fold {fold}\")\n",
    "        mean_ACC += cur_ACC\n",
    "        n += 1\n",
    "    mean_ACC = mean_ACC/n\n",
    "\n",
    "    df = pd.DataFrame({\"Fold\": folds, \"Accuracy\": ACC})\n",
    "    df.loc[len(df)] = ['Mean Accuracy', mean_ACC]\n",
    "    \n",
    "    table = PrettyTable()\n",
    "    table.field_names = df.columns.tolist()\n",
    "\n",
    "    for row in df.itertuples(index=False):\n",
    "        table.add_row(row)\n",
    "\n",
    "    # Optionally, align columns\n",
    "    for field in df.columns:\n",
    "        table.align[field] = 'l'  # 'l' for left align, 'r' for right alig\n",
    "    \n",
    "    return table"
   ]
  },
  {
   "cell_type": "markdown",
   "id": "f9061acd-068c-434e-ab71-8577483ce04a",
   "metadata": {
    "jp-MarkdownHeadingCollapsed": true
   },
   "source": [
    "#### DINO_vits16"
   ]
  },
  {
   "cell_type": "code",
   "execution_count": null,
   "id": "a9b63ac3-4890-4dd2-8c84-9bdeb569a8cb",
   "metadata": {
    "scrolled": true
   },
   "outputs": [],
   "source": [
    "# dino_vits16_30 - version 0\n",
    "res = E2E_model_evaluation(model_name=\"dino_vits16_30\")"
   ]
  },
  {
   "cell_type": "code",
   "execution_count": 36,
   "id": "01bd146e-d983-4b43-a4bc-ebdadaf7049a",
   "metadata": {},
   "outputs": [
    {
     "name": "stdout",
     "output_type": "stream",
     "text": [
      "+---------------+--------------------+\n",
      "| Fold          | Accuracy           |\n",
      "+---------------+--------------------+\n",
      "| Fold fold_1   | 0.8421052694320679 |\n",
      "| Fold fold_2   | 0.8830409646034241 |\n",
      "| Fold fold_3   | 0.8245614171028137 |\n",
      "| Fold fold_4   | 0.8187134265899658 |\n",
      "| Fold fold_5   | 0.8764705657958984 |\n",
      "| Mean Accuracy | 0.848978328704834  |\n",
      "+---------------+--------------------+\n"
     ]
    }
   ],
   "source": [
    "results = compute_results(res)\n",
    "print(results)"
   ]
  },
  {
   "cell_type": "code",
   "execution_count": null,
   "id": "2065e99f-fa0c-4ebd-a010-6c4f6793abd4",
   "metadata": {},
   "outputs": [],
   "source": [
    "# dino_vits16_30 - version v1\n",
    "res = E2E_model_evaluation(model_name=\"dino_vits16_30\", version=\"v1\")"
   ]
  },
  {
   "cell_type": "code",
   "execution_count": 39,
   "id": "7ae1acfa-81b0-4fca-a4fc-d4a2958b25a6",
   "metadata": {},
   "outputs": [
    {
     "name": "stdout",
     "output_type": "stream",
     "text": [
      "+---------------+--------------------+\n",
      "| Fold          | Accuracy           |\n",
      "+---------------+--------------------+\n",
      "| Fold fold_1   | 0.8421052694320679 |\n",
      "| Fold fold_2   | 0.8538011908531189 |\n",
      "| Fold fold_3   | 0.8421052694320679 |\n",
      "| Fold fold_4   | 0.8830409646034241 |\n",
      "| Fold fold_5   | 0.8588235378265381 |\n",
      "| Mean Accuracy | 0.8559752464294433 |\n",
      "+---------------+--------------------+\n"
     ]
    }
   ],
   "source": [
    "results = compute_results(res)\n",
    "print(results)"
   ]
  },
  {
   "cell_type": "code",
   "execution_count": null,
   "id": "3cc13781-3915-410e-9855-b6b4b9b942ba",
   "metadata": {
    "scrolled": true
   },
   "outputs": [],
   "source": [
    "# dino_vits16_30 - version v2\n",
    "res = E2E_model_evaluation(model_name=\"dino_vits16_30\", version=\"v2\")"
   ]
  },
  {
   "cell_type": "code",
   "execution_count": 43,
   "id": "165f1623-a1dd-457c-99aa-871a01b07090",
   "metadata": {},
   "outputs": [
    {
     "name": "stdout",
     "output_type": "stream",
     "text": [
      "+---------------+--------------------+\n",
      "| Fold          | Accuracy           |\n",
      "+---------------+--------------------+\n",
      "| Fold fold_1   | 0.8245614171028137 |\n",
      "| Fold fold_2   | 0.8421052694320679 |\n",
      "| Fold fold_3   | 0.8421052694320679 |\n",
      "| Fold fold_4   | 0.8538011908531189 |\n",
      "| Fold fold_5   | 0.8823529481887817 |\n",
      "| Mean Accuracy | 0.84898521900177   |\n",
      "+---------------+--------------------+\n"
     ]
    }
   ],
   "source": [
    "results = compute_results(res)\n",
    "print(results)"
   ]
  },
  {
   "cell_type": "markdown",
   "id": "021fa840-3c50-4ad3-8057-687bd3d55ac0",
   "metadata": {
    "jp-MarkdownHeadingCollapsed": true
   },
   "source": [
    "#### DINO_vitb16"
   ]
  },
  {
   "cell_type": "code",
   "execution_count": null,
   "id": "3532e212-a730-47cf-8912-f5d0a014fd6e",
   "metadata": {},
   "outputs": [],
   "source": [
    "# dino_vitb16_31 - version 0\n",
    "res = E2E_model_evaluation(model_name=\"dino_vitb16_31\")"
   ]
  },
  {
   "cell_type": "code",
   "execution_count": 54,
   "id": "ef9f331e-7c00-4078-a28d-f283c9f19203",
   "metadata": {},
   "outputs": [
    {
     "name": "stdout",
     "output_type": "stream",
     "text": [
      "+---------------+--------------------+\n",
      "| Fold          | Accuracy           |\n",
      "+---------------+--------------------+\n",
      "| Fold fold_1   | 0.9005848169326782 |\n",
      "| Fold fold_2   | 0.8538011908531189 |\n",
      "| Fold fold_3   | 0.8421052694320679 |\n",
      "| Fold fold_4   | 0.8888888955116272 |\n",
      "| Fold fold_5   | 0.8764705657958984 |\n",
      "| Mean Accuracy | 0.8723701477050781 |\n",
      "+---------------+--------------------+\n"
     ]
    }
   ],
   "source": [
    "results = compute_results(res)\n",
    "print(results)"
   ]
  },
  {
   "cell_type": "code",
   "execution_count": null,
   "id": "14297155-130b-4e38-8f97-ae9bed924bb5",
   "metadata": {
    "scrolled": true
   },
   "outputs": [],
   "source": [
    "# dino_vitb16_31 - version v1\n",
    "res = E2E_model_evaluation(model_name=\"dino_vitb16_31\", version=\"v1\")"
   ]
  },
  {
   "cell_type": "code",
   "execution_count": 56,
   "id": "fdace0ad-5abe-49a1-b280-41571948881c",
   "metadata": {},
   "outputs": [
    {
     "name": "stdout",
     "output_type": "stream",
     "text": [
      "+---------------+--------------------+\n",
      "| Fold          | Accuracy           |\n",
      "+---------------+--------------------+\n",
      "| Fold fold_1   | 0.8947368264198303 |\n",
      "| Fold fold_2   | 0.871345043182373  |\n",
      "| Fold fold_3   | 0.8538011908531189 |\n",
      "| Fold fold_4   | 0.8888888955116272 |\n",
      "| Fold fold_5   | 0.8941176533699036 |\n",
      "| Mean Accuracy | 0.8805779218673706 |\n",
      "+---------------+--------------------+\n"
     ]
    }
   ],
   "source": [
    "results = compute_results(res)\n",
    "print(results)"
   ]
  },
  {
   "cell_type": "code",
   "execution_count": null,
   "id": "a9c81b0b-faec-4e7e-a8f6-3346d520a367",
   "metadata": {
    "scrolled": true
   },
   "outputs": [],
   "source": [
    "# dino_vitb16_31 - version v2\n",
    "res = E2E_model_evaluation(model_name=\"dino_vitb16_31\", version=\"v2\")"
   ]
  },
  {
   "cell_type": "code",
   "execution_count": 58,
   "id": "e8a69e5c-db1a-421f-b6be-25e5c3a445b8",
   "metadata": {},
   "outputs": [
    {
     "name": "stdout",
     "output_type": "stream",
     "text": [
      "+---------------+--------------------+\n",
      "| Fold          | Accuracy           |\n",
      "+---------------+--------------------+\n",
      "| Fold fold_1   | 0.8947368264198303 |\n",
      "| Fold fold_2   | 0.8654970526695251 |\n",
      "| Fold fold_3   | 0.847953200340271  |\n",
      "| Fold fold_4   | 0.8830409646034241 |\n",
      "| Fold fold_5   | 0.8823529481887817 |\n",
      "| Mean Accuracy | 0.8747161984443664 |\n",
      "+---------------+--------------------+\n"
     ]
    }
   ],
   "source": [
    "results = compute_results(res)\n",
    "print(results)"
   ]
  },
  {
   "cell_type": "markdown",
   "id": "e3d40ea5-a989-44e0-a703-20ed919d3300",
   "metadata": {
    "jp-MarkdownHeadingCollapsed": true
   },
   "source": [
    "#### SL ViTb16"
   ]
  },
  {
   "cell_type": "code",
   "execution_count": 23,
   "id": "9d78513b-5d2c-41c1-9de2-a6acfea678ec",
   "metadata": {
    "scrolled": true
   },
   "outputs": [
    {
     "name": "stdout",
     "output_type": "stream",
     "text": [
      "fold: 1\n"
     ]
    },
    {
     "name": "stderr",
     "output_type": "stream",
     "text": [
      "GPU available: True (cuda), used: True\n",
      "TPU available: False, using: 0 TPU cores\n",
      "HPU available: False, using: 0 HPUs\n",
      "LOCAL_RANK: 0 - CUDA_VISIBLE_DEVICES: [0]\n"
     ]
    },
    {
     "data": {
      "application/vnd.jupyter.widget-view+json": {
       "model_id": "f2ddf79e87da42289a418404e77f1639",
       "version_major": 2,
       "version_minor": 0
      },
      "text/plain": [
       "Testing: |                                                                                        | 0/? [00:00…"
      ]
     },
     "metadata": {},
     "output_type": "display_data"
    },
    {
     "ename": "AttributeError",
     "evalue": "'list' object has no attribute 'shape'",
     "output_type": "error",
     "traceback": [
      "\u001b[0;31m---------------------------------------------------------------------------\u001b[0m",
      "\u001b[0;31mAttributeError\u001b[0m                            Traceback (most recent call last)",
      "Cell \u001b[0;32mIn[23], line 2\u001b[0m\n\u001b[1;32m      1\u001b[0m \u001b[38;5;66;03m# vitb16_31 - version 0\u001b[39;00m\n\u001b[0;32m----> 2\u001b[0m res \u001b[38;5;241m=\u001b[39m \u001b[43mE2E_model_evaluation\u001b[49m\u001b[43m(\u001b[49m\u001b[43mmodel_name\u001b[49m\u001b[38;5;241;43m=\u001b[39;49m\u001b[38;5;124;43m\"\u001b[39;49m\u001b[38;5;124;43mvit_b_16_6\u001b[39;49m\u001b[38;5;124;43m\"\u001b[39;49m\u001b[43m)\u001b[49m\n",
      "Cell \u001b[0;32mIn[4], line 20\u001b[0m, in \u001b[0;36mE2E_model_evaluation\u001b[0;34m(model_name, version)\u001b[0m\n\u001b[1;32m     18\u001b[0m     trainer \u001b[38;5;241m=\u001b[39m pl\u001b[38;5;241m.\u001b[39mTrainer(accelerator\u001b[38;5;241m=\u001b[39m\u001b[38;5;124m\"\u001b[39m\u001b[38;5;124mgpu\u001b[39m\u001b[38;5;124m\"\u001b[39m, devices\u001b[38;5;241m=\u001b[39m\u001b[38;5;241m1\u001b[39m, precision\u001b[38;5;241m=\u001b[39m\u001b[38;5;241m32\u001b[39m)\n\u001b[1;32m     19\u001b[0m     model\u001b[38;5;241m.\u001b[39meval()\n\u001b[0;32m---> 20\u001b[0m     res[\u001b[38;5;124mf\u001b[39m\u001b[38;5;124m\"\u001b[39m\u001b[38;5;124mfold_\u001b[39m\u001b[38;5;132;01m{\u001b[39;00mfold\u001b[38;5;132;01m}\u001b[39;00m\u001b[38;5;124m\"\u001b[39m] \u001b[38;5;241m=\u001b[39m \u001b[43mtrainer\u001b[49m\u001b[38;5;241;43m.\u001b[39;49m\u001b[43mtest\u001b[49m\u001b[43m(\u001b[49m\u001b[43mmodel\u001b[49m\u001b[43m,\u001b[49m\u001b[43m \u001b[49m\u001b[43mdm\u001b[49m\u001b[43m)\u001b[49m\n\u001b[1;32m     21\u001b[0m \u001b[38;5;28;01mreturn\u001b[39;00m res\n",
      "File \u001b[0;32m~/miniconda3/envs/python_ML/lib/python3.12/site-packages/pytorch_lightning/trainer/trainer.py:753\u001b[0m, in \u001b[0;36mTrainer.test\u001b[0;34m(self, model, dataloaders, ckpt_path, verbose, datamodule)\u001b[0m\n\u001b[1;32m    751\u001b[0m \u001b[38;5;28mself\u001b[39m\u001b[38;5;241m.\u001b[39mstate\u001b[38;5;241m.\u001b[39mstatus \u001b[38;5;241m=\u001b[39m TrainerStatus\u001b[38;5;241m.\u001b[39mRUNNING\n\u001b[1;32m    752\u001b[0m \u001b[38;5;28mself\u001b[39m\u001b[38;5;241m.\u001b[39mtesting \u001b[38;5;241m=\u001b[39m \u001b[38;5;28;01mTrue\u001b[39;00m\n\u001b[0;32m--> 753\u001b[0m \u001b[38;5;28;01mreturn\u001b[39;00m \u001b[43mcall\u001b[49m\u001b[38;5;241;43m.\u001b[39;49m\u001b[43m_call_and_handle_interrupt\u001b[49m\u001b[43m(\u001b[49m\n\u001b[1;32m    754\u001b[0m \u001b[43m    \u001b[49m\u001b[38;5;28;43mself\u001b[39;49m\u001b[43m,\u001b[49m\u001b[43m \u001b[49m\u001b[38;5;28;43mself\u001b[39;49m\u001b[38;5;241;43m.\u001b[39;49m\u001b[43m_test_impl\u001b[49m\u001b[43m,\u001b[49m\u001b[43m \u001b[49m\u001b[43mmodel\u001b[49m\u001b[43m,\u001b[49m\u001b[43m \u001b[49m\u001b[43mdataloaders\u001b[49m\u001b[43m,\u001b[49m\u001b[43m \u001b[49m\u001b[43mckpt_path\u001b[49m\u001b[43m,\u001b[49m\u001b[43m \u001b[49m\u001b[43mverbose\u001b[49m\u001b[43m,\u001b[49m\u001b[43m \u001b[49m\u001b[43mdatamodule\u001b[49m\n\u001b[1;32m    755\u001b[0m \u001b[43m\u001b[49m\u001b[43m)\u001b[49m\n",
      "File \u001b[0;32m~/miniconda3/envs/python_ML/lib/python3.12/site-packages/pytorch_lightning/trainer/call.py:44\u001b[0m, in \u001b[0;36m_call_and_handle_interrupt\u001b[0;34m(trainer, trainer_fn, *args, **kwargs)\u001b[0m\n\u001b[1;32m     42\u001b[0m     \u001b[38;5;28;01mif\u001b[39;00m trainer\u001b[38;5;241m.\u001b[39mstrategy\u001b[38;5;241m.\u001b[39mlauncher \u001b[38;5;129;01mis\u001b[39;00m \u001b[38;5;129;01mnot\u001b[39;00m \u001b[38;5;28;01mNone\u001b[39;00m:\n\u001b[1;32m     43\u001b[0m         \u001b[38;5;28;01mreturn\u001b[39;00m trainer\u001b[38;5;241m.\u001b[39mstrategy\u001b[38;5;241m.\u001b[39mlauncher\u001b[38;5;241m.\u001b[39mlaunch(trainer_fn, \u001b[38;5;241m*\u001b[39margs, trainer\u001b[38;5;241m=\u001b[39mtrainer, \u001b[38;5;241m*\u001b[39m\u001b[38;5;241m*\u001b[39mkwargs)\n\u001b[0;32m---> 44\u001b[0m     \u001b[38;5;28;01mreturn\u001b[39;00m \u001b[43mtrainer_fn\u001b[49m\u001b[43m(\u001b[49m\u001b[38;5;241;43m*\u001b[39;49m\u001b[43margs\u001b[49m\u001b[43m,\u001b[49m\u001b[43m \u001b[49m\u001b[38;5;241;43m*\u001b[39;49m\u001b[38;5;241;43m*\u001b[39;49m\u001b[43mkwargs\u001b[49m\u001b[43m)\u001b[49m\n\u001b[1;32m     46\u001b[0m \u001b[38;5;28;01mexcept\u001b[39;00m _TunerExitException:\n\u001b[1;32m     47\u001b[0m     _call_teardown_hook(trainer)\n",
      "File \u001b[0;32m~/miniconda3/envs/python_ML/lib/python3.12/site-packages/pytorch_lightning/trainer/trainer.py:793\u001b[0m, in \u001b[0;36mTrainer._test_impl\u001b[0;34m(self, model, dataloaders, ckpt_path, verbose, datamodule)\u001b[0m\n\u001b[1;32m    789\u001b[0m \u001b[38;5;28;01massert\u001b[39;00m \u001b[38;5;28mself\u001b[39m\u001b[38;5;241m.\u001b[39mstate\u001b[38;5;241m.\u001b[39mfn \u001b[38;5;129;01mis\u001b[39;00m \u001b[38;5;129;01mnot\u001b[39;00m \u001b[38;5;28;01mNone\u001b[39;00m\n\u001b[1;32m    790\u001b[0m ckpt_path \u001b[38;5;241m=\u001b[39m \u001b[38;5;28mself\u001b[39m\u001b[38;5;241m.\u001b[39m_checkpoint_connector\u001b[38;5;241m.\u001b[39m_select_ckpt_path(\n\u001b[1;32m    791\u001b[0m     \u001b[38;5;28mself\u001b[39m\u001b[38;5;241m.\u001b[39mstate\u001b[38;5;241m.\u001b[39mfn, ckpt_path, model_provided\u001b[38;5;241m=\u001b[39mmodel_provided, model_connected\u001b[38;5;241m=\u001b[39m\u001b[38;5;28mself\u001b[39m\u001b[38;5;241m.\u001b[39mlightning_module \u001b[38;5;129;01mis\u001b[39;00m \u001b[38;5;129;01mnot\u001b[39;00m \u001b[38;5;28;01mNone\u001b[39;00m\n\u001b[1;32m    792\u001b[0m )\n\u001b[0;32m--> 793\u001b[0m results \u001b[38;5;241m=\u001b[39m \u001b[38;5;28;43mself\u001b[39;49m\u001b[38;5;241;43m.\u001b[39;49m\u001b[43m_run\u001b[49m\u001b[43m(\u001b[49m\u001b[43mmodel\u001b[49m\u001b[43m,\u001b[49m\u001b[43m \u001b[49m\u001b[43mckpt_path\u001b[49m\u001b[38;5;241;43m=\u001b[39;49m\u001b[43mckpt_path\u001b[49m\u001b[43m)\u001b[49m\n\u001b[1;32m    794\u001b[0m \u001b[38;5;66;03m# remove the tensors from the test results\u001b[39;00m\n\u001b[1;32m    795\u001b[0m results \u001b[38;5;241m=\u001b[39m convert_tensors_to_scalars(results)\n",
      "File \u001b[0;32m~/miniconda3/envs/python_ML/lib/python3.12/site-packages/pytorch_lightning/trainer/trainer.py:986\u001b[0m, in \u001b[0;36mTrainer._run\u001b[0;34m(self, model, ckpt_path)\u001b[0m\n\u001b[1;32m    981\u001b[0m \u001b[38;5;28mself\u001b[39m\u001b[38;5;241m.\u001b[39m_signal_connector\u001b[38;5;241m.\u001b[39mregister_signal_handlers()\n\u001b[1;32m    983\u001b[0m \u001b[38;5;66;03m# ----------------------------\u001b[39;00m\n\u001b[1;32m    984\u001b[0m \u001b[38;5;66;03m# RUN THE TRAINER\u001b[39;00m\n\u001b[1;32m    985\u001b[0m \u001b[38;5;66;03m# ----------------------------\u001b[39;00m\n\u001b[0;32m--> 986\u001b[0m results \u001b[38;5;241m=\u001b[39m \u001b[38;5;28;43mself\u001b[39;49m\u001b[38;5;241;43m.\u001b[39;49m\u001b[43m_run_stage\u001b[49m\u001b[43m(\u001b[49m\u001b[43m)\u001b[49m\n\u001b[1;32m    988\u001b[0m \u001b[38;5;66;03m# ----------------------------\u001b[39;00m\n\u001b[1;32m    989\u001b[0m \u001b[38;5;66;03m# POST-Training CLEAN UP\u001b[39;00m\n\u001b[1;32m    990\u001b[0m \u001b[38;5;66;03m# ----------------------------\u001b[39;00m\n\u001b[1;32m    991\u001b[0m log\u001b[38;5;241m.\u001b[39mdebug(\u001b[38;5;124mf\u001b[39m\u001b[38;5;124m\"\u001b[39m\u001b[38;5;132;01m{\u001b[39;00m\u001b[38;5;28mself\u001b[39m\u001b[38;5;241m.\u001b[39m\u001b[38;5;18m__class__\u001b[39m\u001b[38;5;241m.\u001b[39m\u001b[38;5;18m__name__\u001b[39m\u001b[38;5;132;01m}\u001b[39;00m\u001b[38;5;124m: trainer tearing down\u001b[39m\u001b[38;5;124m\"\u001b[39m)\n",
      "File \u001b[0;32m~/miniconda3/envs/python_ML/lib/python3.12/site-packages/pytorch_lightning/trainer/trainer.py:1023\u001b[0m, in \u001b[0;36mTrainer._run_stage\u001b[0;34m(self)\u001b[0m\n\u001b[1;32m   1020\u001b[0m \u001b[38;5;28mself\u001b[39m\u001b[38;5;241m.\u001b[39mlightning_module\u001b[38;5;241m.\u001b[39mzero_grad()\n\u001b[1;32m   1022\u001b[0m \u001b[38;5;28;01mif\u001b[39;00m \u001b[38;5;28mself\u001b[39m\u001b[38;5;241m.\u001b[39mevaluating:\n\u001b[0;32m-> 1023\u001b[0m     \u001b[38;5;28;01mreturn\u001b[39;00m \u001b[38;5;28;43mself\u001b[39;49m\u001b[38;5;241;43m.\u001b[39;49m\u001b[43m_evaluation_loop\u001b[49m\u001b[38;5;241;43m.\u001b[39;49m\u001b[43mrun\u001b[49m\u001b[43m(\u001b[49m\u001b[43m)\u001b[49m\n\u001b[1;32m   1024\u001b[0m \u001b[38;5;28;01mif\u001b[39;00m \u001b[38;5;28mself\u001b[39m\u001b[38;5;241m.\u001b[39mpredicting:\n\u001b[1;32m   1025\u001b[0m     \u001b[38;5;28;01mreturn\u001b[39;00m \u001b[38;5;28mself\u001b[39m\u001b[38;5;241m.\u001b[39mpredict_loop\u001b[38;5;241m.\u001b[39mrun()\n",
      "File \u001b[0;32m~/miniconda3/envs/python_ML/lib/python3.12/site-packages/pytorch_lightning/loops/utilities.py:182\u001b[0m, in \u001b[0;36m_no_grad_context.<locals>._decorator\u001b[0;34m(self, *args, **kwargs)\u001b[0m\n\u001b[1;32m    180\u001b[0m     context_manager \u001b[38;5;241m=\u001b[39m torch\u001b[38;5;241m.\u001b[39mno_grad\n\u001b[1;32m    181\u001b[0m \u001b[38;5;28;01mwith\u001b[39;00m context_manager():\n\u001b[0;32m--> 182\u001b[0m     \u001b[38;5;28;01mreturn\u001b[39;00m \u001b[43mloop_run\u001b[49m\u001b[43m(\u001b[49m\u001b[38;5;28;43mself\u001b[39;49m\u001b[43m,\u001b[49m\u001b[43m \u001b[49m\u001b[38;5;241;43m*\u001b[39;49m\u001b[43margs\u001b[49m\u001b[43m,\u001b[49m\u001b[43m \u001b[49m\u001b[38;5;241;43m*\u001b[39;49m\u001b[38;5;241;43m*\u001b[39;49m\u001b[43mkwargs\u001b[49m\u001b[43m)\u001b[49m\n",
      "File \u001b[0;32m~/miniconda3/envs/python_ML/lib/python3.12/site-packages/pytorch_lightning/loops/evaluation_loop.py:135\u001b[0m, in \u001b[0;36m_EvaluationLoop.run\u001b[0;34m(self)\u001b[0m\n\u001b[1;32m    133\u001b[0m     \u001b[38;5;28mself\u001b[39m\u001b[38;5;241m.\u001b[39mbatch_progress\u001b[38;5;241m.\u001b[39mis_last_batch \u001b[38;5;241m=\u001b[39m data_fetcher\u001b[38;5;241m.\u001b[39mdone\n\u001b[1;32m    134\u001b[0m     \u001b[38;5;66;03m# run step hooks\u001b[39;00m\n\u001b[0;32m--> 135\u001b[0m     \u001b[38;5;28;43mself\u001b[39;49m\u001b[38;5;241;43m.\u001b[39;49m\u001b[43m_evaluation_step\u001b[49m\u001b[43m(\u001b[49m\u001b[43mbatch\u001b[49m\u001b[43m,\u001b[49m\u001b[43m \u001b[49m\u001b[43mbatch_idx\u001b[49m\u001b[43m,\u001b[49m\u001b[43m \u001b[49m\u001b[43mdataloader_idx\u001b[49m\u001b[43m,\u001b[49m\u001b[43m \u001b[49m\u001b[43mdataloader_iter\u001b[49m\u001b[43m)\u001b[49m\n\u001b[1;32m    136\u001b[0m \u001b[38;5;28;01mexcept\u001b[39;00m \u001b[38;5;167;01mStopIteration\u001b[39;00m:\n\u001b[1;32m    137\u001b[0m     \u001b[38;5;66;03m# this needs to wrap the `*_step` call too (not just `next`) for `dataloader_iter` support\u001b[39;00m\n\u001b[1;32m    138\u001b[0m     \u001b[38;5;28;01mbreak\u001b[39;00m\n",
      "File \u001b[0;32m~/miniconda3/envs/python_ML/lib/python3.12/site-packages/pytorch_lightning/loops/evaluation_loop.py:396\u001b[0m, in \u001b[0;36m_EvaluationLoop._evaluation_step\u001b[0;34m(self, batch, batch_idx, dataloader_idx, dataloader_iter)\u001b[0m\n\u001b[1;32m    390\u001b[0m hook_name \u001b[38;5;241m=\u001b[39m \u001b[38;5;124m\"\u001b[39m\u001b[38;5;124mtest_step\u001b[39m\u001b[38;5;124m\"\u001b[39m \u001b[38;5;28;01mif\u001b[39;00m trainer\u001b[38;5;241m.\u001b[39mtesting \u001b[38;5;28;01melse\u001b[39;00m \u001b[38;5;124m\"\u001b[39m\u001b[38;5;124mvalidation_step\u001b[39m\u001b[38;5;124m\"\u001b[39m\n\u001b[1;32m    391\u001b[0m step_args \u001b[38;5;241m=\u001b[39m (\n\u001b[1;32m    392\u001b[0m     \u001b[38;5;28mself\u001b[39m\u001b[38;5;241m.\u001b[39m_build_step_args_from_hook_kwargs(hook_kwargs, hook_name)\n\u001b[1;32m    393\u001b[0m     \u001b[38;5;28;01mif\u001b[39;00m \u001b[38;5;129;01mnot\u001b[39;00m using_dataloader_iter\n\u001b[1;32m    394\u001b[0m     \u001b[38;5;28;01melse\u001b[39;00m (dataloader_iter,)\n\u001b[1;32m    395\u001b[0m )\n\u001b[0;32m--> 396\u001b[0m output \u001b[38;5;241m=\u001b[39m \u001b[43mcall\u001b[49m\u001b[38;5;241;43m.\u001b[39;49m\u001b[43m_call_strategy_hook\u001b[49m\u001b[43m(\u001b[49m\u001b[43mtrainer\u001b[49m\u001b[43m,\u001b[49m\u001b[43m \u001b[49m\u001b[43mhook_name\u001b[49m\u001b[43m,\u001b[49m\u001b[43m \u001b[49m\u001b[38;5;241;43m*\u001b[39;49m\u001b[43mstep_args\u001b[49m\u001b[43m)\u001b[49m\n\u001b[1;32m    398\u001b[0m \u001b[38;5;28mself\u001b[39m\u001b[38;5;241m.\u001b[39mbatch_progress\u001b[38;5;241m.\u001b[39mincrement_processed()\n\u001b[1;32m    400\u001b[0m \u001b[38;5;28;01mif\u001b[39;00m using_dataloader_iter:\n\u001b[1;32m    401\u001b[0m     \u001b[38;5;66;03m# update the hook kwargs now that the step method might have consumed the iterator\u001b[39;00m\n",
      "File \u001b[0;32m~/miniconda3/envs/python_ML/lib/python3.12/site-packages/pytorch_lightning/trainer/call.py:311\u001b[0m, in \u001b[0;36m_call_strategy_hook\u001b[0;34m(trainer, hook_name, *args, **kwargs)\u001b[0m\n\u001b[1;32m    308\u001b[0m     \u001b[38;5;28;01mreturn\u001b[39;00m \u001b[38;5;28;01mNone\u001b[39;00m\n\u001b[1;32m    310\u001b[0m \u001b[38;5;28;01mwith\u001b[39;00m trainer\u001b[38;5;241m.\u001b[39mprofiler\u001b[38;5;241m.\u001b[39mprofile(\u001b[38;5;124mf\u001b[39m\u001b[38;5;124m\"\u001b[39m\u001b[38;5;124m[Strategy]\u001b[39m\u001b[38;5;132;01m{\u001b[39;00mtrainer\u001b[38;5;241m.\u001b[39mstrategy\u001b[38;5;241m.\u001b[39m\u001b[38;5;18m__class__\u001b[39m\u001b[38;5;241m.\u001b[39m\u001b[38;5;18m__name__\u001b[39m\u001b[38;5;132;01m}\u001b[39;00m\u001b[38;5;124m.\u001b[39m\u001b[38;5;132;01m{\u001b[39;00mhook_name\u001b[38;5;132;01m}\u001b[39;00m\u001b[38;5;124m\"\u001b[39m):\n\u001b[0;32m--> 311\u001b[0m     output \u001b[38;5;241m=\u001b[39m \u001b[43mfn\u001b[49m\u001b[43m(\u001b[49m\u001b[38;5;241;43m*\u001b[39;49m\u001b[43margs\u001b[49m\u001b[43m,\u001b[49m\u001b[43m \u001b[49m\u001b[38;5;241;43m*\u001b[39;49m\u001b[38;5;241;43m*\u001b[39;49m\u001b[43mkwargs\u001b[49m\u001b[43m)\u001b[49m\n\u001b[1;32m    313\u001b[0m \u001b[38;5;66;03m# restore current_fx when nested context\u001b[39;00m\n\u001b[1;32m    314\u001b[0m pl_module\u001b[38;5;241m.\u001b[39m_current_fx_name \u001b[38;5;241m=\u001b[39m prev_fx_name\n",
      "File \u001b[0;32m~/miniconda3/envs/python_ML/lib/python3.12/site-packages/pytorch_lightning/strategies/strategy.py:424\u001b[0m, in \u001b[0;36mStrategy.test_step\u001b[0;34m(self, *args, **kwargs)\u001b[0m\n\u001b[1;32m    422\u001b[0m \u001b[38;5;28;01mif\u001b[39;00m \u001b[38;5;28mself\u001b[39m\u001b[38;5;241m.\u001b[39mmodel \u001b[38;5;241m!=\u001b[39m \u001b[38;5;28mself\u001b[39m\u001b[38;5;241m.\u001b[39mlightning_module:\n\u001b[1;32m    423\u001b[0m     \u001b[38;5;28;01mreturn\u001b[39;00m \u001b[38;5;28mself\u001b[39m\u001b[38;5;241m.\u001b[39m_forward_redirection(\u001b[38;5;28mself\u001b[39m\u001b[38;5;241m.\u001b[39mmodel, \u001b[38;5;28mself\u001b[39m\u001b[38;5;241m.\u001b[39mlightning_module, \u001b[38;5;124m\"\u001b[39m\u001b[38;5;124mtest_step\u001b[39m\u001b[38;5;124m\"\u001b[39m, \u001b[38;5;241m*\u001b[39margs, \u001b[38;5;241m*\u001b[39m\u001b[38;5;241m*\u001b[39mkwargs)\n\u001b[0;32m--> 424\u001b[0m \u001b[38;5;28;01mreturn\u001b[39;00m \u001b[38;5;28;43mself\u001b[39;49m\u001b[38;5;241;43m.\u001b[39;49m\u001b[43mlightning_module\u001b[49m\u001b[38;5;241;43m.\u001b[39;49m\u001b[43mtest_step\u001b[49m\u001b[43m(\u001b[49m\u001b[38;5;241;43m*\u001b[39;49m\u001b[43margs\u001b[49m\u001b[43m,\u001b[49m\u001b[43m \u001b[49m\u001b[38;5;241;43m*\u001b[39;49m\u001b[38;5;241;43m*\u001b[39;49m\u001b[43mkwargs\u001b[49m\u001b[43m)\u001b[49m\n",
      "File \u001b[0;32m~/INFORM/LIDC_ViTs/End2End_Model.py:101\u001b[0m, in \u001b[0;36mEnd2End_Model.test_step\u001b[0;34m(self, batch, batch_idx)\u001b[0m\n\u001b[1;32m     99\u001b[0m \u001b[38;5;28;01mdef\u001b[39;00m \u001b[38;5;21mtest_step\u001b[39m(\u001b[38;5;28mself\u001b[39m, batch, batch_idx):\n\u001b[1;32m    100\u001b[0m     x, y \u001b[38;5;241m=\u001b[39m batch\n\u001b[0;32m--> 101\u001b[0m     y_hat \u001b[38;5;241m=\u001b[39m \u001b[38;5;28;43mself\u001b[39;49m\u001b[43m(\u001b[49m\u001b[43mx\u001b[49m\u001b[43m)\u001b[49m\u001b[38;5;241m.\u001b[39msqueeze()\n\u001b[1;32m    102\u001b[0m     \u001b[38;5;28;01mif\u001b[39;00m \u001b[38;5;28mlen\u001b[39m(y_hat\u001b[38;5;241m.\u001b[39msize()) \u001b[38;5;241m==\u001b[39m \u001b[38;5;241m0\u001b[39m:\n\u001b[1;32m    103\u001b[0m         y_hat \u001b[38;5;241m=\u001b[39m y_hat\u001b[38;5;241m.\u001b[39munsqueeze(dim\u001b[38;5;241m=\u001b[39m\u001b[38;5;241m0\u001b[39m)\n",
      "File \u001b[0;32m~/miniconda3/envs/python_ML/lib/python3.12/site-packages/torch/nn/modules/module.py:1511\u001b[0m, in \u001b[0;36mModule._wrapped_call_impl\u001b[0;34m(self, *args, **kwargs)\u001b[0m\n\u001b[1;32m   1509\u001b[0m     \u001b[38;5;28;01mreturn\u001b[39;00m \u001b[38;5;28mself\u001b[39m\u001b[38;5;241m.\u001b[39m_compiled_call_impl(\u001b[38;5;241m*\u001b[39margs, \u001b[38;5;241m*\u001b[39m\u001b[38;5;241m*\u001b[39mkwargs)  \u001b[38;5;66;03m# type: ignore[misc]\u001b[39;00m\n\u001b[1;32m   1510\u001b[0m \u001b[38;5;28;01melse\u001b[39;00m:\n\u001b[0;32m-> 1511\u001b[0m     \u001b[38;5;28;01mreturn\u001b[39;00m \u001b[38;5;28;43mself\u001b[39;49m\u001b[38;5;241;43m.\u001b[39;49m\u001b[43m_call_impl\u001b[49m\u001b[43m(\u001b[49m\u001b[38;5;241;43m*\u001b[39;49m\u001b[43margs\u001b[49m\u001b[43m,\u001b[49m\u001b[43m \u001b[49m\u001b[38;5;241;43m*\u001b[39;49m\u001b[38;5;241;43m*\u001b[39;49m\u001b[43mkwargs\u001b[49m\u001b[43m)\u001b[49m\n",
      "File \u001b[0;32m~/miniconda3/envs/python_ML/lib/python3.12/site-packages/torch/nn/modules/module.py:1520\u001b[0m, in \u001b[0;36mModule._call_impl\u001b[0;34m(self, *args, **kwargs)\u001b[0m\n\u001b[1;32m   1515\u001b[0m \u001b[38;5;66;03m# If we don't have any hooks, we want to skip the rest of the logic in\u001b[39;00m\n\u001b[1;32m   1516\u001b[0m \u001b[38;5;66;03m# this function, and just call forward.\u001b[39;00m\n\u001b[1;32m   1517\u001b[0m \u001b[38;5;28;01mif\u001b[39;00m \u001b[38;5;129;01mnot\u001b[39;00m (\u001b[38;5;28mself\u001b[39m\u001b[38;5;241m.\u001b[39m_backward_hooks \u001b[38;5;129;01mor\u001b[39;00m \u001b[38;5;28mself\u001b[39m\u001b[38;5;241m.\u001b[39m_backward_pre_hooks \u001b[38;5;129;01mor\u001b[39;00m \u001b[38;5;28mself\u001b[39m\u001b[38;5;241m.\u001b[39m_forward_hooks \u001b[38;5;129;01mor\u001b[39;00m \u001b[38;5;28mself\u001b[39m\u001b[38;5;241m.\u001b[39m_forward_pre_hooks\n\u001b[1;32m   1518\u001b[0m         \u001b[38;5;129;01mor\u001b[39;00m _global_backward_pre_hooks \u001b[38;5;129;01mor\u001b[39;00m _global_backward_hooks\n\u001b[1;32m   1519\u001b[0m         \u001b[38;5;129;01mor\u001b[39;00m _global_forward_hooks \u001b[38;5;129;01mor\u001b[39;00m _global_forward_pre_hooks):\n\u001b[0;32m-> 1520\u001b[0m     \u001b[38;5;28;01mreturn\u001b[39;00m \u001b[43mforward_call\u001b[49m\u001b[43m(\u001b[49m\u001b[38;5;241;43m*\u001b[39;49m\u001b[43margs\u001b[49m\u001b[43m,\u001b[49m\u001b[43m \u001b[49m\u001b[38;5;241;43m*\u001b[39;49m\u001b[38;5;241;43m*\u001b[39;49m\u001b[43mkwargs\u001b[49m\u001b[43m)\u001b[49m\n\u001b[1;32m   1522\u001b[0m \u001b[38;5;28;01mtry\u001b[39;00m:\n\u001b[1;32m   1523\u001b[0m     result \u001b[38;5;241m=\u001b[39m \u001b[38;5;28;01mNone\u001b[39;00m\n",
      "File \u001b[0;32m~/INFORM/LIDC_ViTs/End2End_Model.py:71\u001b[0m, in \u001b[0;36mEnd2End_Model.forward\u001b[0;34m(self, x)\u001b[0m\n\u001b[1;32m     70\u001b[0m \u001b[38;5;28;01mdef\u001b[39;00m \u001b[38;5;21mforward\u001b[39m(\u001b[38;5;28mself\u001b[39m, x):\n\u001b[0;32m---> 71\u001b[0m     x \u001b[38;5;241m=\u001b[39m \u001b[38;5;28;43mself\u001b[39;49m\u001b[38;5;241;43m.\u001b[39;49m\u001b[43mbackbone\u001b[49m\u001b[43m(\u001b[49m\u001b[43mx\u001b[49m\u001b[43m)\u001b[49m\n\u001b[1;32m     72\u001b[0m     x \u001b[38;5;241m=\u001b[39m \u001b[38;5;28mself\u001b[39m\u001b[38;5;241m.\u001b[39mmlp_head(x)\n\u001b[1;32m     73\u001b[0m     \u001b[38;5;28;01mreturn\u001b[39;00m x\n",
      "File \u001b[0;32m~/miniconda3/envs/python_ML/lib/python3.12/site-packages/torch/nn/modules/module.py:1511\u001b[0m, in \u001b[0;36mModule._wrapped_call_impl\u001b[0;34m(self, *args, **kwargs)\u001b[0m\n\u001b[1;32m   1509\u001b[0m     \u001b[38;5;28;01mreturn\u001b[39;00m \u001b[38;5;28mself\u001b[39m\u001b[38;5;241m.\u001b[39m_compiled_call_impl(\u001b[38;5;241m*\u001b[39margs, \u001b[38;5;241m*\u001b[39m\u001b[38;5;241m*\u001b[39mkwargs)  \u001b[38;5;66;03m# type: ignore[misc]\u001b[39;00m\n\u001b[1;32m   1510\u001b[0m \u001b[38;5;28;01melse\u001b[39;00m:\n\u001b[0;32m-> 1511\u001b[0m     \u001b[38;5;28;01mreturn\u001b[39;00m \u001b[38;5;28;43mself\u001b[39;49m\u001b[38;5;241;43m.\u001b[39;49m\u001b[43m_call_impl\u001b[49m\u001b[43m(\u001b[49m\u001b[38;5;241;43m*\u001b[39;49m\u001b[43margs\u001b[49m\u001b[43m,\u001b[49m\u001b[43m \u001b[49m\u001b[38;5;241;43m*\u001b[39;49m\u001b[38;5;241;43m*\u001b[39;49m\u001b[43mkwargs\u001b[49m\u001b[43m)\u001b[49m\n",
      "File \u001b[0;32m~/miniconda3/envs/python_ML/lib/python3.12/site-packages/torch/nn/modules/module.py:1520\u001b[0m, in \u001b[0;36mModule._call_impl\u001b[0;34m(self, *args, **kwargs)\u001b[0m\n\u001b[1;32m   1515\u001b[0m \u001b[38;5;66;03m# If we don't have any hooks, we want to skip the rest of the logic in\u001b[39;00m\n\u001b[1;32m   1516\u001b[0m \u001b[38;5;66;03m# this function, and just call forward.\u001b[39;00m\n\u001b[1;32m   1517\u001b[0m \u001b[38;5;28;01mif\u001b[39;00m \u001b[38;5;129;01mnot\u001b[39;00m (\u001b[38;5;28mself\u001b[39m\u001b[38;5;241m.\u001b[39m_backward_hooks \u001b[38;5;129;01mor\u001b[39;00m \u001b[38;5;28mself\u001b[39m\u001b[38;5;241m.\u001b[39m_backward_pre_hooks \u001b[38;5;129;01mor\u001b[39;00m \u001b[38;5;28mself\u001b[39m\u001b[38;5;241m.\u001b[39m_forward_hooks \u001b[38;5;129;01mor\u001b[39;00m \u001b[38;5;28mself\u001b[39m\u001b[38;5;241m.\u001b[39m_forward_pre_hooks\n\u001b[1;32m   1518\u001b[0m         \u001b[38;5;129;01mor\u001b[39;00m _global_backward_pre_hooks \u001b[38;5;129;01mor\u001b[39;00m _global_backward_hooks\n\u001b[1;32m   1519\u001b[0m         \u001b[38;5;129;01mor\u001b[39;00m _global_forward_hooks \u001b[38;5;129;01mor\u001b[39;00m _global_forward_pre_hooks):\n\u001b[0;32m-> 1520\u001b[0m     \u001b[38;5;28;01mreturn\u001b[39;00m \u001b[43mforward_call\u001b[49m\u001b[43m(\u001b[49m\u001b[38;5;241;43m*\u001b[39;49m\u001b[43margs\u001b[49m\u001b[43m,\u001b[49m\u001b[43m \u001b[49m\u001b[38;5;241;43m*\u001b[39;49m\u001b[38;5;241;43m*\u001b[39;49m\u001b[43mkwargs\u001b[49m\u001b[43m)\u001b[49m\n\u001b[1;32m   1522\u001b[0m \u001b[38;5;28;01mtry\u001b[39;00m:\n\u001b[1;32m   1523\u001b[0m     result \u001b[38;5;241m=\u001b[39m \u001b[38;5;28;01mNone\u001b[39;00m\n",
      "File \u001b[0;32m~/miniconda3/envs/python_ML/lib/python3.12/site-packages/torchvision/models/vision_transformer.py:291\u001b[0m, in \u001b[0;36mVisionTransformer.forward\u001b[0;34m(self, x)\u001b[0m\n\u001b[1;32m    289\u001b[0m \u001b[38;5;28;01mdef\u001b[39;00m \u001b[38;5;21mforward\u001b[39m(\u001b[38;5;28mself\u001b[39m, x: torch\u001b[38;5;241m.\u001b[39mTensor):\n\u001b[1;32m    290\u001b[0m     \u001b[38;5;66;03m# Reshape and permute the input tensor\u001b[39;00m\n\u001b[0;32m--> 291\u001b[0m     x \u001b[38;5;241m=\u001b[39m \u001b[38;5;28;43mself\u001b[39;49m\u001b[38;5;241;43m.\u001b[39;49m\u001b[43m_process_input\u001b[49m\u001b[43m(\u001b[49m\u001b[43mx\u001b[49m\u001b[43m)\u001b[49m\n\u001b[1;32m    292\u001b[0m     n \u001b[38;5;241m=\u001b[39m x\u001b[38;5;241m.\u001b[39mshape[\u001b[38;5;241m0\u001b[39m]\n\u001b[1;32m    294\u001b[0m     \u001b[38;5;66;03m# Expand the class token to the full batch\u001b[39;00m\n",
      "File \u001b[0;32m~/miniconda3/envs/python_ML/lib/python3.12/site-packages/torchvision/models/vision_transformer.py:269\u001b[0m, in \u001b[0;36mVisionTransformer._process_input\u001b[0;34m(self, x)\u001b[0m\n\u001b[1;32m    268\u001b[0m \u001b[38;5;28;01mdef\u001b[39;00m \u001b[38;5;21m_process_input\u001b[39m(\u001b[38;5;28mself\u001b[39m, x: torch\u001b[38;5;241m.\u001b[39mTensor) \u001b[38;5;241m-\u001b[39m\u001b[38;5;241m>\u001b[39m torch\u001b[38;5;241m.\u001b[39mTensor:\n\u001b[0;32m--> 269\u001b[0m     n, c, h, w \u001b[38;5;241m=\u001b[39m \u001b[43mx\u001b[49m\u001b[38;5;241;43m.\u001b[39;49m\u001b[43mshape\u001b[49m\n\u001b[1;32m    270\u001b[0m     p \u001b[38;5;241m=\u001b[39m \u001b[38;5;28mself\u001b[39m\u001b[38;5;241m.\u001b[39mpatch_size\n\u001b[1;32m    271\u001b[0m     torch\u001b[38;5;241m.\u001b[39m_assert(h \u001b[38;5;241m==\u001b[39m \u001b[38;5;28mself\u001b[39m\u001b[38;5;241m.\u001b[39mimage_size, \u001b[38;5;124mf\u001b[39m\u001b[38;5;124m\"\u001b[39m\u001b[38;5;124mWrong image height! Expected \u001b[39m\u001b[38;5;132;01m{\u001b[39;00m\u001b[38;5;28mself\u001b[39m\u001b[38;5;241m.\u001b[39mimage_size\u001b[38;5;132;01m}\u001b[39;00m\u001b[38;5;124m but got \u001b[39m\u001b[38;5;132;01m{\u001b[39;00mh\u001b[38;5;132;01m}\u001b[39;00m\u001b[38;5;124m!\u001b[39m\u001b[38;5;124m\"\u001b[39m)\n",
      "\u001b[0;31mAttributeError\u001b[0m: 'list' object has no attribute 'shape'"
     ]
    }
   ],
   "source": [
    "# vitb16_31 - version 0\n",
    "res = E2E_model_evaluation(model_name=\"vit_b_16_6\")"
   ]
  },
  {
   "cell_type": "code",
   "execution_count": null,
   "id": "2a67d27e-0f5b-41db-813f-e6d3a18c3b64",
   "metadata": {},
   "outputs": [],
   "source": [
    "results = compute_results(res)\n",
    "print(results)"
   ]
  },
  {
   "cell_type": "code",
   "execution_count": 15,
   "id": "715479c8-0864-4d1b-8cee-3b97f2fc6760",
   "metadata": {
    "scrolled": true
   },
   "outputs": [
    {
     "name": "stdout",
     "output_type": "stream",
     "text": [
      "fold: 1\n"
     ]
    },
    {
     "name": "stderr",
     "output_type": "stream",
     "text": [
      "GPU available: True (cuda), used: True\n",
      "TPU available: False, using: 0 TPU cores\n",
      "HPU available: False, using: 0 HPUs\n",
      "LOCAL_RANK: 0 - CUDA_VISIBLE_DEVICES: [0]\n"
     ]
    },
    {
     "data": {
      "application/vnd.jupyter.widget-view+json": {
       "model_id": "99f61475644648e8a0ffd011a57f9c2f",
       "version_major": 2,
       "version_minor": 0
      },
      "text/plain": [
       "Testing: |                                                                                        | 0/? [00:00…"
      ]
     },
     "metadata": {},
     "output_type": "display_data"
    },
    {
     "name": "stdout",
     "output_type": "stream",
     "text": [
      "────────────────────────────────────────────────────────────────────────────────────────────────────────────────────────\n",
      "       Test metric             DataLoader 0\n",
      "────────────────────────────────────────────────────────────────────────────────────────────────────────────────────────\n",
      "        test_acc            0.8654970526695251\n",
      "        test_loss           0.2814093828201294\n",
      "────────────────────────────────────────────────────────────────────────────────────────────────────────────────────────\n",
      "fold: 2\n"
     ]
    },
    {
     "name": "stderr",
     "output_type": "stream",
     "text": [
      "GPU available: True (cuda), used: True\n",
      "TPU available: False, using: 0 TPU cores\n",
      "HPU available: False, using: 0 HPUs\n",
      "LOCAL_RANK: 0 - CUDA_VISIBLE_DEVICES: [0]\n"
     ]
    },
    {
     "data": {
      "application/vnd.jupyter.widget-view+json": {
       "model_id": "73503d96949e48fc815e8a0b8d780649",
       "version_major": 2,
       "version_minor": 0
      },
      "text/plain": [
       "Testing: |                                                                                        | 0/? [00:00…"
      ]
     },
     "metadata": {},
     "output_type": "display_data"
    },
    {
     "name": "stdout",
     "output_type": "stream",
     "text": [
      "────────────────────────────────────────────────────────────────────────────────────────────────────────────────────────\n",
      "       Test metric             DataLoader 0\n",
      "────────────────────────────────────────────────────────────────────────────────────────────────────────────────────────\n",
      "        test_acc            0.9064327478408813\n",
      "        test_loss           0.2752917408943176\n",
      "────────────────────────────────────────────────────────────────────────────────────────────────────────────────────────\n",
      "fold: 3\n"
     ]
    },
    {
     "name": "stderr",
     "output_type": "stream",
     "text": [
      "GPU available: True (cuda), used: True\n",
      "TPU available: False, using: 0 TPU cores\n",
      "HPU available: False, using: 0 HPUs\n",
      "LOCAL_RANK: 0 - CUDA_VISIBLE_DEVICES: [0]\n"
     ]
    },
    {
     "data": {
      "application/vnd.jupyter.widget-view+json": {
       "model_id": "11b0cb5a03474ab7b343651fe0ac9bfa",
       "version_major": 2,
       "version_minor": 0
      },
      "text/plain": [
       "Testing: |                                                                                        | 0/? [00:00…"
      ]
     },
     "metadata": {},
     "output_type": "display_data"
    },
    {
     "name": "stdout",
     "output_type": "stream",
     "text": [
      "────────────────────────────────────────────────────────────────────────────────────────────────────────────────────────\n",
      "       Test metric             DataLoader 0\n",
      "────────────────────────────────────────────────────────────────────────────────────────────────────────────────────────\n",
      "        test_acc            0.9005848169326782\n",
      "        test_loss           0.24547657370567322\n",
      "────────────────────────────────────────────────────────────────────────────────────────────────────────────────────────\n",
      "fold: 4\n"
     ]
    },
    {
     "name": "stderr",
     "output_type": "stream",
     "text": [
      "GPU available: True (cuda), used: True\n",
      "TPU available: False, using: 0 TPU cores\n",
      "HPU available: False, using: 0 HPUs\n",
      "LOCAL_RANK: 0 - CUDA_VISIBLE_DEVICES: [0]\n"
     ]
    },
    {
     "data": {
      "application/vnd.jupyter.widget-view+json": {
       "model_id": "9ffa45a2c7964cc68f3e80695bd00e39",
       "version_major": 2,
       "version_minor": 0
      },
      "text/plain": [
       "Testing: |                                                                                        | 0/? [00:00…"
      ]
     },
     "metadata": {},
     "output_type": "display_data"
    },
    {
     "name": "stdout",
     "output_type": "stream",
     "text": [
      "────────────────────────────────────────────────────────────────────────────────────────────────────────────────────────\n",
      "       Test metric             DataLoader 0\n",
      "────────────────────────────────────────────────────────────────────────────────────────────────────────────────────────\n",
      "        test_acc            0.8538011908531189\n",
      "        test_loss           0.3516533374786377\n",
      "────────────────────────────────────────────────────────────────────────────────────────────────────────────────────────\n",
      "fold: 5\n"
     ]
    },
    {
     "name": "stderr",
     "output_type": "stream",
     "text": [
      "GPU available: True (cuda), used: True\n",
      "TPU available: False, using: 0 TPU cores\n",
      "HPU available: False, using: 0 HPUs\n",
      "LOCAL_RANK: 0 - CUDA_VISIBLE_DEVICES: [0]\n"
     ]
    },
    {
     "data": {
      "application/vnd.jupyter.widget-view+json": {
       "model_id": "ae9a770020614a36843a203114f23622",
       "version_major": 2,
       "version_minor": 0
      },
      "text/plain": [
       "Testing: |                                                                                        | 0/? [00:00…"
      ]
     },
     "metadata": {},
     "output_type": "display_data"
    },
    {
     "name": "stdout",
     "output_type": "stream",
     "text": [
      "────────────────────────────────────────────────────────────────────────────────────────────────────────────────────────\n",
      "       Test metric             DataLoader 0\n",
      "────────────────────────────────────────────────────────────────────────────────────────────────────────────────────────\n",
      "        test_acc            0.8588235378265381\n",
      "        test_loss           0.3135457932949066\n",
      "────────────────────────────────────────────────────────────────────────────────────────────────────────────────────────\n"
     ]
    }
   ],
   "source": [
    "# vitb16_31 - version v1\n",
    "res = E2E_model_evaluation(model_name=\"vit_b_16_6\", version=\"v1\")"
   ]
  },
  {
   "cell_type": "code",
   "execution_count": 16,
   "id": "76587286-94ba-48aa-921c-d10a9b6392a8",
   "metadata": {},
   "outputs": [
    {
     "name": "stdout",
     "output_type": "stream",
     "text": [
      "+---------------+--------------------+\n",
      "| Fold          | Accuracy           |\n",
      "+---------------+--------------------+\n",
      "| Fold fold_1   | 0.8654970526695251 |\n",
      "| Fold fold_2   | 0.9064327478408813 |\n",
      "| Fold fold_3   | 0.9005848169326782 |\n",
      "| Fold fold_4   | 0.8538011908531189 |\n",
      "| Fold fold_5   | 0.8588235378265381 |\n",
      "| Mean Accuracy | 0.8770278692245483 |\n",
      "+---------------+--------------------+\n"
     ]
    }
   ],
   "source": [
    "results = compute_results(res)\n",
    "print(results)"
   ]
  },
  {
   "cell_type": "code",
   "execution_count": 17,
   "id": "a8cce215-bf98-47e5-8d0a-0fe07d018be4",
   "metadata": {
    "scrolled": true
   },
   "outputs": [
    {
     "name": "stdout",
     "output_type": "stream",
     "text": [
      "fold: 1\n"
     ]
    },
    {
     "name": "stderr",
     "output_type": "stream",
     "text": [
      "GPU available: True (cuda), used: True\n",
      "TPU available: False, using: 0 TPU cores\n",
      "HPU available: False, using: 0 HPUs\n",
      "LOCAL_RANK: 0 - CUDA_VISIBLE_DEVICES: [0]\n"
     ]
    },
    {
     "data": {
      "application/vnd.jupyter.widget-view+json": {
       "model_id": "c0f8f6dfa7e8477683da34853c32addb",
       "version_major": 2,
       "version_minor": 0
      },
      "text/plain": [
       "Testing: |                                                                                        | 0/? [00:00…"
      ]
     },
     "metadata": {},
     "output_type": "display_data"
    },
    {
     "name": "stdout",
     "output_type": "stream",
     "text": [
      "────────────────────────────────────────────────────────────────────────────────────────────────────────────────────────\n",
      "       Test metric             DataLoader 0\n",
      "────────────────────────────────────────────────────────────────────────────────────────────────────────────────────────\n",
      "        test_acc            0.8830409646034241\n",
      "        test_loss           0.2770581841468811\n",
      "────────────────────────────────────────────────────────────────────────────────────────────────────────────────────────\n",
      "fold: 2\n"
     ]
    },
    {
     "name": "stderr",
     "output_type": "stream",
     "text": [
      "GPU available: True (cuda), used: True\n",
      "TPU available: False, using: 0 TPU cores\n",
      "HPU available: False, using: 0 HPUs\n",
      "LOCAL_RANK: 0 - CUDA_VISIBLE_DEVICES: [0]\n"
     ]
    },
    {
     "data": {
      "application/vnd.jupyter.widget-view+json": {
       "model_id": "d271ddcae87f42f4a00f8c9a3f8a73a0",
       "version_major": 2,
       "version_minor": 0
      },
      "text/plain": [
       "Testing: |                                                                                        | 0/? [00:00…"
      ]
     },
     "metadata": {},
     "output_type": "display_data"
    },
    {
     "name": "stdout",
     "output_type": "stream",
     "text": [
      "────────────────────────────────────────────────────────────────────────────────────────────────────────────────────────\n",
      "       Test metric             DataLoader 0\n",
      "────────────────────────────────────────────────────────────────────────────────────────────────────────────────────────\n",
      "        test_acc            0.8888888955116272\n",
      "        test_loss           0.3300187587738037\n",
      "────────────────────────────────────────────────────────────────────────────────────────────────────────────────────────\n",
      "fold: 3\n"
     ]
    },
    {
     "name": "stderr",
     "output_type": "stream",
     "text": [
      "GPU available: True (cuda), used: True\n",
      "TPU available: False, using: 0 TPU cores\n",
      "HPU available: False, using: 0 HPUs\n",
      "LOCAL_RANK: 0 - CUDA_VISIBLE_DEVICES: [0]\n"
     ]
    },
    {
     "data": {
      "application/vnd.jupyter.widget-view+json": {
       "model_id": "d131e7531b90484faa85a17aca584899",
       "version_major": 2,
       "version_minor": 0
      },
      "text/plain": [
       "Testing: |                                                                                        | 0/? [00:00…"
      ]
     },
     "metadata": {},
     "output_type": "display_data"
    },
    {
     "name": "stdout",
     "output_type": "stream",
     "text": [
      "────────────────────────────────────────────────────────────────────────────────────────────────────────────────────────\n",
      "       Test metric             DataLoader 0\n",
      "────────────────────────────────────────────────────────────────────────────────────────────────────────────────────────\n",
      "        test_acc            0.8538011908531189\n",
      "        test_loss           0.30848434567451477\n",
      "────────────────────────────────────────────────────────────────────────────────────────────────────────────────────────\n",
      "fold: 4\n"
     ]
    },
    {
     "name": "stderr",
     "output_type": "stream",
     "text": [
      "GPU available: True (cuda), used: True\n",
      "TPU available: False, using: 0 TPU cores\n",
      "HPU available: False, using: 0 HPUs\n",
      "LOCAL_RANK: 0 - CUDA_VISIBLE_DEVICES: [0]\n"
     ]
    },
    {
     "data": {
      "application/vnd.jupyter.widget-view+json": {
       "model_id": "20f5079582134302b5fcaea5c59efa3c",
       "version_major": 2,
       "version_minor": 0
      },
      "text/plain": [
       "Testing: |                                                                                        | 0/? [00:00…"
      ]
     },
     "metadata": {},
     "output_type": "display_data"
    },
    {
     "name": "stdout",
     "output_type": "stream",
     "text": [
      "────────────────────────────────────────────────────────────────────────────────────────────────────────────────────────\n",
      "       Test metric             DataLoader 0\n",
      "────────────────────────────────────────────────────────────────────────────────────────────────────────────────────────\n",
      "        test_acc            0.8421052694320679\n",
      "        test_loss           0.3487612307071686\n",
      "────────────────────────────────────────────────────────────────────────────────────────────────────────────────────────\n",
      "fold: 5\n"
     ]
    },
    {
     "name": "stderr",
     "output_type": "stream",
     "text": [
      "GPU available: True (cuda), used: True\n",
      "TPU available: False, using: 0 TPU cores\n",
      "HPU available: False, using: 0 HPUs\n",
      "LOCAL_RANK: 0 - CUDA_VISIBLE_DEVICES: [0]\n"
     ]
    },
    {
     "data": {
      "application/vnd.jupyter.widget-view+json": {
       "model_id": "06ba525ebd1743028d26524d8605364e",
       "version_major": 2,
       "version_minor": 0
      },
      "text/plain": [
       "Testing: |                                                                                        | 0/? [00:00…"
      ]
     },
     "metadata": {},
     "output_type": "display_data"
    },
    {
     "name": "stdout",
     "output_type": "stream",
     "text": [
      "────────────────────────────────────────────────────────────────────────────────────────────────────────────────────────\n",
      "       Test metric             DataLoader 0\n",
      "────────────────────────────────────────────────────────────────────────────────────────────────────────────────────────\n",
      "        test_acc            0.8647058606147766\n",
      "        test_loss           0.32205772399902344\n",
      "────────────────────────────────────────────────────────────────────────────────────────────────────────────────────────\n"
     ]
    }
   ],
   "source": [
    "# vitb16_31 - version v2\n",
    "res = E2E_model_evaluation(model_name=\"vit_b_16_6\", version=\"v2\")"
   ]
  },
  {
   "cell_type": "code",
   "execution_count": 18,
   "id": "3cafb213-e456-4d96-bb02-d335423e2d31",
   "metadata": {},
   "outputs": [
    {
     "name": "stdout",
     "output_type": "stream",
     "text": [
      "+---------------+--------------------+\n",
      "| Fold          | Accuracy           |\n",
      "+---------------+--------------------+\n",
      "| Fold fold_1   | 0.8830409646034241 |\n",
      "| Fold fold_2   | 0.8888888955116272 |\n",
      "| Fold fold_3   | 0.8538011908531189 |\n",
      "| Fold fold_4   | 0.8421052694320679 |\n",
      "| Fold fold_5   | 0.8647058606147766 |\n",
      "| Mean Accuracy | 0.8665084362030029 |\n",
      "+---------------+--------------------+\n"
     ]
    }
   ],
   "source": [
    "results = compute_results(res)\n",
    "print(results)"
   ]
  },
  {
   "cell_type": "code",
   "execution_count": null,
   "id": "fda955fa-5cd5-4822-8a75-a367d0506a2d",
   "metadata": {},
   "outputs": [],
   "source": []
  },
  {
   "cell_type": "markdown",
   "id": "06f5a764-b5ee-4a73-bff7-b1f09fbc8b73",
   "metadata": {
    "jp-MarkdownHeadingCollapsed": true
   },
   "source": [
    "## Finetuning biomarker regression model"
   ]
  },
  {
   "cell_type": "markdown",
   "id": "428646fa-6b83-4397-b5a5-7a4e4e4b3237",
   "metadata": {},
   "source": [
    "Fitting standard scaler for concepts z-score normalization:"
   ]
  },
  {
   "cell_type": "code",
   "execution_count": 9,
   "id": "28bda325-79ef-4164-bf82-1b3f508599f5",
   "metadata": {},
   "outputs": [],
   "source": [
    "from sklearn.preprocessing import StandardScaler\n",
    "\n",
    "with open(subsets_saving_path+\"/\"+\"y_train.pkl\", 'rb') as f:\n",
    "    biomarkers = pickle.load(f).iloc[:, 1:].to_numpy() #without targets\n",
    "\n",
    "SCALER = StandardScaler().fit(biomarkers)\n",
    "with open(subsets_saving_path+\"/\"+\"scaler.pkl\", 'wb') as f:\n",
    "    pickle.dump(SCALER, f)"
   ]
  },
  {
   "cell_type": "code",
   "execution_count": 12,
   "id": "f22709d4-0e53-4ebe-b2a7-7bd301d211d9",
   "metadata": {},
   "outputs": [],
   "source": [
    "with open(subsets_saving_path+\"/\"+\"y_train.pkl\", 'rb') as f:\n",
    "    biomarkers = pickle.load(f).iloc[:, 1:] #without targets"
   ]
  },
  {
   "cell_type": "code",
   "execution_count": 14,
   "id": "0bc182ea-f94f-4fa3-902f-003abea0a98e",
   "metadata": {},
   "outputs": [
    {
     "data": {
      "text/html": [
       "<div>\n",
       "<style scoped>\n",
       "    .dataframe tbody tr th:only-of-type {\n",
       "        vertical-align: middle;\n",
       "    }\n",
       "\n",
       "    .dataframe tbody tr th {\n",
       "        vertical-align: top;\n",
       "    }\n",
       "\n",
       "    .dataframe thead th {\n",
       "        text-align: right;\n",
       "    }\n",
       "</style>\n",
       "<table border=\"1\" class=\"dataframe\">\n",
       "  <thead>\n",
       "    <tr style=\"text-align: right;\">\n",
       "      <th></th>\n",
       "      <th>subtlety</th>\n",
       "      <th>calcification</th>\n",
       "      <th>margin</th>\n",
       "      <th>lobulation</th>\n",
       "      <th>spiculation</th>\n",
       "      <th>diameter</th>\n",
       "      <th>texture</th>\n",
       "      <th>sphericity</th>\n",
       "    </tr>\n",
       "  </thead>\n",
       "  <tbody>\n",
       "    <tr>\n",
       "      <th>739</th>\n",
       "      <td>4.750000</td>\n",
       "      <td>3.750000</td>\n",
       "      <td>4.750000</td>\n",
       "      <td>1.250000</td>\n",
       "      <td>1.250000</td>\n",
       "      <td>9.563974</td>\n",
       "      <td>5.000000</td>\n",
       "      <td>4.500000</td>\n",
       "    </tr>\n",
       "    <tr>\n",
       "      <th>212</th>\n",
       "      <td>3.666667</td>\n",
       "      <td>5.333333</td>\n",
       "      <td>4.000000</td>\n",
       "      <td>1.666667</td>\n",
       "      <td>1.666667</td>\n",
       "      <td>6.950641</td>\n",
       "      <td>5.000000</td>\n",
       "      <td>4.000000</td>\n",
       "    </tr>\n",
       "    <tr>\n",
       "      <th>701</th>\n",
       "      <td>5.000000</td>\n",
       "      <td>6.000000</td>\n",
       "      <td>3.000000</td>\n",
       "      <td>2.750000</td>\n",
       "      <td>2.500000</td>\n",
       "      <td>38.389619</td>\n",
       "      <td>3.500000</td>\n",
       "      <td>3.000000</td>\n",
       "    </tr>\n",
       "    <tr>\n",
       "      <th>453</th>\n",
       "      <td>3.000000</td>\n",
       "      <td>6.000000</td>\n",
       "      <td>3.666667</td>\n",
       "      <td>1.000000</td>\n",
       "      <td>1.000000</td>\n",
       "      <td>7.505375</td>\n",
       "      <td>2.666667</td>\n",
       "      <td>3.333333</td>\n",
       "    </tr>\n",
       "    <tr>\n",
       "      <th>359</th>\n",
       "      <td>4.000000</td>\n",
       "      <td>4.500000</td>\n",
       "      <td>4.250000</td>\n",
       "      <td>3.000000</td>\n",
       "      <td>1.250000</td>\n",
       "      <td>10.479321</td>\n",
       "      <td>5.000000</td>\n",
       "      <td>2.500000</td>\n",
       "    </tr>\n",
       "  </tbody>\n",
       "</table>\n",
       "</div>"
      ],
      "text/plain": [
       "     subtlety  calcification    margin  lobulation  spiculation   diameter  \\\n",
       "739  4.750000       3.750000  4.750000    1.250000     1.250000   9.563974   \n",
       "212  3.666667       5.333333  4.000000    1.666667     1.666667   6.950641   \n",
       "701  5.000000       6.000000  3.000000    2.750000     2.500000  38.389619   \n",
       "453  3.000000       6.000000  3.666667    1.000000     1.000000   7.505375   \n",
       "359  4.000000       4.500000  4.250000    3.000000     1.250000  10.479321   \n",
       "\n",
       "      texture  sphericity  \n",
       "739  5.000000    4.500000  \n",
       "212  5.000000    4.000000  \n",
       "701  3.500000    3.000000  \n",
       "453  2.666667    3.333333  \n",
       "359  5.000000    2.500000  "
      ]
     },
     "execution_count": 14,
     "metadata": {},
     "output_type": "execute_result"
    }
   ],
   "source": [
    "biomarkers.head()"
   ]
  },
  {
   "cell_type": "code",
   "execution_count": 21,
   "id": "eb5d6c60-039e-4339-99ed-fe39f646ca97",
   "metadata": {},
   "outputs": [
    {
     "data": {
      "text/plain": [
       "array([ 4.17086039,  5.48092532,  4.08928571,  1.82467532,  1.70941558,\n",
       "       13.31841242,  4.61268939,  3.8045184 ])"
      ]
     },
     "execution_count": 21,
     "metadata": {},
     "output_type": "execute_result"
    }
   ],
   "source": [
    "SCALER.mean_"
   ]
  },
  {
   "cell_type": "code",
   "execution_count": 22,
   "id": "9e2c2447-3552-433c-88c3-2d4e28cd3d03",
   "metadata": {},
   "outputs": [
    {
     "data": {
      "text/plain": [
       "array([ 0.53394931,  0.97568008,  0.6879606 ,  0.67164221,  0.79473187,\n",
       "       64.95064945,  0.57377973,  0.42182257])"
      ]
     },
     "execution_count": 22,
     "metadata": {},
     "output_type": "execute_result"
    }
   ],
   "source": [
    "SCALER.var_"
   ]
  },
  {
   "cell_type": "markdown",
   "id": "e75c5994-cf24-45df-b0fb-17cd1f12fd44",
   "metadata": {},
   "source": [
    "Finetuning was performed using slurm queuing system on the one GPU. To train model I have used python script `train_biomarker.py`."
   ]
  },
  {
   "cell_type": "markdown",
   "id": "8abba0a0-185f-4342-b3f3-2c83584fde09",
   "metadata": {},
   "source": [
    "Training was performed with 50 epochs and I tried following sets of key hiperparameters: \n",
    "<br>\n",
    "**1.** **ViT_biom_1**, 10 trainable layers, dropout=0.0 (all dropout layers), lr=3e-4 (exponential decay, $\\beta=0.95$) \n",
    "<br>\n",
    "**2.** **ViT_biom_2**, 20 trainable layers, dropout=0.0 (all dropout layers), lr=3e-4 (exponential decay, $\\beta=0.95$) \n",
    "<br>\n",
    "**3.** **ViT_biom_3**, 20 trainable layers, dropout=0.01 (all dropout layers), lr=3e-4 (exponential decay, $\\beta=0.95$) \n",
    "<br>\n",
    "**4.** **ViT_biom_4**, 30 trainable layers, dropout=0.01 (all dropout layers), lr=3e-4 (exponential decay, $\\beta=0.95$) \n",
    "<br>\n",
    "**5.** **ViT_biom_5**, 30 trainable layers, dropout=0.005 (all dropout layers), lr=3e-4 (exponential decay, $\\beta=0.95$) \n",
    "<br>\n",
    "**6.** **ViT_biom_6**, 40 trainable layers, dropout=0.0 (all dropout layers), lr=3e-4 (exponential decay, $\\beta=0.95$) \n",
    "<br>\n",
    "**7.** **ViT_biom_7**, 40 trainable layers, dropout=0.01 (all dropout layers), lr=3e-4 (exponential decay, $\\beta=0.95$) \n",
    "<br>\n",
    "**8.** **ViT_biom_8**, 40 trainable layers, dropout=0.005 (all dropout layers), lr=3e-4 (exponential decay, $\\beta=0.95$) \n",
    "<br>\n",
    "**9.** **ViT_biom_9**, 50 trainable layers, dropout=0.0 (all dropout layers), lr=3e-4 (exponential decay, $\\beta=0.95$)\n",
    "<br>\n",
    "**10.** **ViT_biom_10**, 50 trainable layers, dropout=0.01 (all dropout layers), lr=3e-4 (exponential decay, $\\beta=0.95$)\n",
    "<br>\n",
    "**11.** **ViT_biom_11**, 50 trainable layers, dropout=0.005 (all dropout layers), lr=3e-4 (exponential decay, $\\beta=0.95$)\n",
    "<br>\n",
    "**12.** **ViT_biom_12**, 50 trainable layers, dropout=0.003 (all dropout layers), lr=3e-4 (exponential decay, $\\beta=0.95$)\n",
    "<br>\n",
    "**13.** **ViT_biom_13**, 60 trainable layers, dropout=0.005 (all dropout layers), lr=3e-4 (exponential decay, $\\beta=0.95$)\n",
    "<br>\n",
    "**14.** **ViT_biom_14**, 60 trainable layers, dropout=0.0 (all dropout layers), lr=3e-4 (exponential decay, $\\beta=0.95$)\n",
    "<br>\n",
    "**15.** **ViT_biom_15**, 60 trainable layers, dropout=0.003 (all dropout layers), lr=3e-4 (exponential decay, $\\beta=0.95$)\n",
    "<br>"
   ]
  },
  {
   "cell_type": "markdown",
   "id": "8524e17f-3a7e-41ce-8b77-40e85722b501",
   "metadata": {},
   "source": [
    "After having look on validation MSE curves I chosen top 5 models with best validation MSE:  \n",
    "**ViT_biom_13**, **ViT_biom_11**, **ViT_biom_10**, **ViT_biom_4**, **ViT_biom_8**"
   ]
  },
  {
   "cell_type": "markdown",
   "id": "e5ba2527-085c-4f5e-bed8-2cfd088c546f",
   "metadata": {
    "jp-MarkdownHeadingCollapsed": true
   },
   "source": [
    "## Biomarker Model evaluation on the test set"
   ]
  },
  {
   "cell_type": "code",
   "execution_count": 5,
   "id": "c0baef52-00b6-4518-a839-077010cbb22b",
   "metadata": {},
   "outputs": [],
   "source": [
    "with open(datapath+\"/splitted_sets\"+\"/\"+\"fitted_mean_std.pkl\", 'rb') as f:\n",
    "    dict_ = pickle.load(f)\n",
    "with open(datapath+\"/splitted_sets\"+\"/\"+\"scaler.pkl\", 'rb') as f:\n",
    "    SCALER = pickle.load(f)\n",
    "    \n",
    "MEAN = dict_[\"mean\"]\n",
    "STD = dict_[\"std\"]"
   ]
  },
  {
   "cell_type": "code",
   "execution_count": 35,
   "id": "6a3866ed-b081-438f-abf4-adf664cc0aa0",
   "metadata": {},
   "outputs": [],
   "source": [
    "def biom_model_evaluation(checkpoint_name):\n",
    "    device=\"cuda\"\n",
    "    \n",
    "    test_transform = transforms.Compose([\n",
    "        transforms.Resize(256, interpolation=3),\n",
    "        transforms.CenterCrop(224),\n",
    "        transforms.Normalize(mean=MEAN, std=STD),\n",
    "    ])\n",
    "    ds_test = LIDC_Dataset_biom(\n",
    "                    datadir=datapath,\n",
    "                    transform=test_transform,\n",
    "                    label_transform=SCALER,\n",
    "                    mode=\"test\"\n",
    "                )\n",
    "    test_loader = torch.utils.data.DataLoader(ds_test, shuffle=False, batch_size=16, num_workers=8)\n",
    "    model = Biomarker_Model.load_from_checkpoint(f\"checkpoints/Biomarkers/{checkpoint_name}\").to(device)\n",
    "    \n",
    "    torch.set_float32_matmul_precision('medium')\n",
    "    trainer = pl.Trainer(accelerator=\"gpu\", devices=1, precision=\"16-mixed\")\n",
    "    model.eval()\n",
    "    res = trainer.test(model, dataloaders=test_loader)\n",
    "    return res\n",
    "\n",
    "\n",
    "def evaluation_wrapper_biom(model_nr:int):\n",
    "    MSE = []\n",
    "    for _ in range(10):\n",
    "        res = biom_model_evaluation(f\"best-checkpoint_{model_nr}.ckpt\")\n",
    "        MSE.append(res[0]['test_mse'])\n",
    "    MSE = np.array(MSE)\n",
    "    return np.mean(MSE), np.std(MSE)"
   ]
  },
  {
   "cell_type": "code",
   "execution_count": null,
   "id": "3b3d8c22-58e6-4fda-85fb-cc3145a1e0b6",
   "metadata": {
    "scrolled": true
   },
   "outputs": [],
   "source": [
    "# ViT_biom_13\n",
    "mean_mse, std = evaluation_wrapper_biom(model_nr=13)"
   ]
  },
  {
   "cell_type": "code",
   "execution_count": 37,
   "id": "207ba3f6-6b46-4bee-959a-de7d94318cee",
   "metadata": {},
   "outputs": [
    {
     "name": "stdout",
     "output_type": "stream",
     "text": [
      "Mean MSE: 0.5773425161838531, standard deviation: 0.03359373442852333\n"
     ]
    }
   ],
   "source": [
    "print(f\"Mean MSE: {mean_mse}, standard deviation: {std}\")"
   ]
  },
  {
   "cell_type": "code",
   "execution_count": null,
   "id": "92b22cb8-53ee-4a79-8edb-b913b12a7e1b",
   "metadata": {
    "scrolled": true
   },
   "outputs": [],
   "source": [
    "# ViT_biom_11\n",
    "mean_mse, std = evaluation_wrapper_biom(model_nr=11)"
   ]
  },
  {
   "cell_type": "code",
   "execution_count": 39,
   "id": "31bf82cc-b594-419a-9b68-57891b2b9062",
   "metadata": {},
   "outputs": [
    {
     "name": "stdout",
     "output_type": "stream",
     "text": [
      "Mean MSE: 0.5906020283699036, standard deviation: 0.028045997638796182\n"
     ]
    }
   ],
   "source": [
    "print(f\"Mean MSE: {mean_mse}, standard deviation: {std}\")"
   ]
  },
  {
   "cell_type": "code",
   "execution_count": null,
   "id": "d0065772-c7bd-47a3-814b-bbcb5b8902c6",
   "metadata": {
    "scrolled": true
   },
   "outputs": [],
   "source": [
    "# ViT_biom_10\n",
    "mean_mse, std = evaluation_wrapper_biom(model_nr=10)"
   ]
  },
  {
   "cell_type": "code",
   "execution_count": 41,
   "id": "2324330a-e320-45b0-9700-94a393eaa2e4",
   "metadata": {},
   "outputs": [
    {
     "name": "stdout",
     "output_type": "stream",
     "text": [
      "Mean MSE: 0.6141557216644287, standard deviation: 0.028909996747307744\n"
     ]
    }
   ],
   "source": [
    "print(f\"Mean MSE: {mean_mse}, standard deviation: {std}\")"
   ]
  },
  {
   "cell_type": "code",
   "execution_count": null,
   "id": "fcb9e6ec-d987-45be-a924-3e6c1f50568a",
   "metadata": {
    "scrolled": true
   },
   "outputs": [],
   "source": [
    "# ViT_biom_4\n",
    "mean_mse, std = evaluation_wrapper_biom(model_nr=4)"
   ]
  },
  {
   "cell_type": "code",
   "execution_count": 43,
   "id": "4e97a192-79d5-4a14-985f-0869465e00d9",
   "metadata": {},
   "outputs": [
    {
     "name": "stdout",
     "output_type": "stream",
     "text": [
      "Mean MSE: 0.623276162147522, standard deviation: 0.023270278423259114\n"
     ]
    }
   ],
   "source": [
    "print(f\"Mean MSE: {mean_mse}, standard deviation: {std}\")"
   ]
  },
  {
   "cell_type": "code",
   "execution_count": null,
   "id": "2b268dc8-4a9e-4574-ba9b-7f3cacabb067",
   "metadata": {
    "scrolled": true
   },
   "outputs": [],
   "source": [
    "# ViT_biom_8\n",
    "mean_mse, std = evaluation_wrapper_biom(model_nr=8)"
   ]
  },
  {
   "cell_type": "code",
   "execution_count": 45,
   "id": "a9b9667f-e084-4b12-a432-54409791e1b8",
   "metadata": {},
   "outputs": [
    {
     "name": "stdout",
     "output_type": "stream",
     "text": [
      "Mean MSE: 0.5965319812297821, standard deviation: 0.02622306491194194\n"
     ]
    }
   ],
   "source": [
    "print(f\"Mean MSE: {mean_mse}, standard deviation: {std}\")"
   ]
  },
  {
   "cell_type": "code",
   "execution_count": null,
   "id": "2a916db8-0f64-45f1-88e3-3c0d2e6e5255",
   "metadata": {},
   "outputs": [],
   "source": []
  }
 ],
 "metadata": {
  "kernelspec": {
   "display_name": "Python 3 (ipykernel)",
   "language": "python",
   "name": "python3"
  },
  "language_info": {
   "codemirror_mode": {
    "name": "ipython",
    "version": 3
   },
   "file_extension": ".py",
   "mimetype": "text/x-python",
   "name": "python",
   "nbconvert_exporter": "python",
   "pygments_lexer": "ipython3",
   "version": "3.10.9"
  }
 },
 "nbformat": 4,
 "nbformat_minor": 5
}
