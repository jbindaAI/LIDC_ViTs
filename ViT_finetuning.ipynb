{
 "cells": [
  {
   "cell_type": "markdown",
   "id": "b76b7613-9740-45b7-9739-2dd1e4ad8989",
   "metadata": {},
   "source": [
    "## Finetuning pre-trained in a self-supervised manner ViT transformer on LIDC dataset."
   ]
  },
  {
   "cell_type": "code",
   "execution_count": 1,
   "id": "292aebee-36e9-4e91-8d9f-ab85e85d73e4",
   "metadata": {},
   "outputs": [],
   "source": [
    "from pathlib import Path\n",
    "import pandas as pd\n",
    "from sklearn.model_selection import StratifiedKFold\n",
    "from sklearn.preprocessing import StandardScaler\n",
    "import pickle\n",
    "import torch\n",
    "from torchvision import transforms\n",
    "from pytorch_lightning import Trainer\n",
    "import pytorch_lightning as pl\n",
    "import numpy as np\n",
    "from typing import Optional, Dict\n",
    "from prettytable import PrettyTable"
   ]
  },
  {
   "cell_type": "code",
   "execution_count": 2,
   "id": "a67e7e91-c2ea-4db8-b8fe-4464bf73c380",
   "metadata": {
    "scrolled": true
   },
   "outputs": [],
   "source": [
    "%load_ext autoreload\n",
    "%autoreload 2\n",
    "    \n",
    "from my_utils.plot_utils import plot_hists\n",
    "from my_utils.norm_factors import compute_norm_factors\n",
    "from End2End_Model import End2End_Model\n",
    "from LIDC_DataModule import DataModule"
   ]
  },
  {
   "cell_type": "markdown",
   "id": "43ff76f4-dbaa-4d90-b3f0-f99fd489fbd1",
   "metadata": {},
   "source": [
    "### Dividing dataset into three sets: training, validation and test sets."
   ]
  },
  {
   "cell_type": "code",
   "execution_count": 3,
   "id": "b091f3ca-054e-4698-b07b-802b6e268fe9",
   "metadata": {},
   "outputs": [],
   "source": [
    "# Paths\n",
    "local = False\n",
    "if local:\n",
    "    datapath = \"/home/jbinda/INFORM/LIDC/dataset/\"\n",
    "    subsets_saving_path = \"/home/jbinda/INFORM/LIDC_ViTs/dataset/splitted_sets/\"\n",
    "    checkpoints_path=\"/home/jbinda/INFORM/LIDC_ViTs/ckpt/End2End/\"\n",
    "    Path(subsets_saving_path).mkdir(parents=True, exist_ok=True)\n",
    "else:\n",
    "    datapath = \"/home/dzban112/LIDC_ViTs/dataset/\"\n",
    "    subsets_saving_path = \"/home/dzban112/LIDC_ViTs/dataset/splitted_sets/\"\n",
    "    checkpoints_path=\"/home/dzban112/LIDC_ViTs/ckpt/End2End/\"\n",
    "    Path(subsets_saving_path).mkdir(parents=True, exist_ok=True)"
   ]
  },
  {
   "cell_type": "code",
   "execution_count": 6,
   "id": "991502ac-ed27-4e45-a3ae-6cabbc611445",
   "metadata": {},
   "outputs": [],
   "source": [
    "#Reading all annotations and extracting paths, target: benign, malignant.\n",
    "df = pd.read_pickle(f\"{datapath}/ALL_annotations_df.pkl\")"
   ]
  },
  {
   "cell_type": "code",
   "execution_count": 7,
   "id": "04ffc878-30f1-4139-b773-c0a8c5dffeb1",
   "metadata": {},
   "outputs": [],
   "source": [
    "skf = StratifiedKFold(n_splits=5, shuffle=True, random_state=44)\n",
    "folds = skf.split(X=df[\"path\"], y=df[\"target\"])"
   ]
  },
  {
   "cell_type": "code",
   "execution_count": 8,
   "id": "69db924b-2c3c-476f-bee5-0d01ded31c5e",
   "metadata": {},
   "outputs": [],
   "source": [
    "for i, (train_indices, test_indices) in enumerate(folds):\n",
    "    with open(subsets_saving_path+f\"train_fold_{i+1}.pkl\", 'wb') as file:\n",
    "        pickle.dump(list(train_indices), file)\n",
    "    with open(subsets_saving_path+f\"test_fold_{i+1}.pkl\", 'wb') as file:\n",
    "        pickle.dump(list(test_indices), file)"
   ]
  },
  {
   "cell_type": "code",
   "execution_count": 9,
   "id": "d47f2546-fe6e-4ddc-9a49-e83958fdcf61",
   "metadata": {},
   "outputs": [
    {
     "data": {
      "image/png": "[encoded data removed]",
      "text/plain": [
       "<Figure size 750x500 with 2 Axes>"
      ]
     },
     "metadata": {},
     "output_type": "display_data"
    }
   ],
   "source": [
    "plot_hists(fold=1, datapath=datapath, subsets_saving_path=subsets_saving_path)"
   ]
  },
  {
   "cell_type": "markdown",
   "id": "566f49da-e7e2-4094-8d0f-45fd2c516e6d",
   "metadata": {},
   "source": [
    "### Computing Normalization Factors"
   ]
  },
  {
   "cell_type": "code",
   "execution_count": 11,
   "id": "9c5c7927-4e9f-4662-8fca-6038098e423b",
   "metadata": {},
   "outputs": [
    {
     "name": "stdout",
     "output_type": "stream",
     "text": [
      "(tensor(-625.8784), tensor(363.2248))\n",
      "(tensor(-631.0611), tensor(357.2651))\n",
      "(tensor(-629.7866), tensor(362.4995))\n",
      "(tensor(-633.4309), tensor(356.7941))\n",
      "(tensor(-632.3697), tensor(356.8558))\n"
     ]
    }
   ],
   "source": [
    "def prepare_norm_factors(n_splits=5):\n",
    "    df = pd.read_pickle(f\"{datapath}/ALL_annotations_df.pkl\")\n",
    "    fitted_factors = {}\n",
    "    for fold in range(1, n_splits+1):\n",
    "        # Computing mean and std of image pixels values.\n",
    "        with open(datapath+f\"/splitted_sets/train_fold_{fold}.pkl\", 'rb') as file:\n",
    "            train_indices = pickle.load(file)\n",
    "            X_train = df.iloc[train_indices][\"path\"]\n",
    "            mean, std = compute_norm_factors(X_train, datapath)\n",
    "            \n",
    "            # Creating instance of biomarker scaler\n",
    "            biomarkers = df.iloc[train_indices][[\"subtlety\", \"calcification\",\n",
    "                                                 \"margin\", \"lobulation\",\n",
    "                                                 \"spiculation\", \"diameter\",\n",
    "                                                 \"texture\", \"sphericity\"]].to_numpy() #without targets\n",
    "            scaler = StandardScaler().fit(biomarkers)\n",
    "\n",
    "            # Saving in dictionary object:\n",
    "            fitted_factors[f\"fold_{fold}\"] = (mean, std, scaler)\n",
    "        \n",
    "\n",
    "    with open(subsets_saving_path+\"/\"+\"fitted_factors.pkl\", 'wb') as f:\n",
    "        pickle.dump(fitted_factors, f)\n",
    "    \n",
    "    return fitted_factors\n",
    "\n",
    "fitted_factors = prepare_norm_factors(n_splits=5)\n",
    "\n",
    "print(fitted_factors[\"fold_1\"][0:2])\n",
    "print(fitted_factors[\"fold_2\"][0:2])\n",
    "print(fitted_factors[\"fold_3\"][0:2])\n",
    "print(fitted_factors[\"fold_4\"][0:2])\n",
    "print(fitted_factors[\"fold_5\"][0:2])"
   ]
  },
  {
   "cell_type": "markdown",
   "id": "8ca3f99c-549f-4586-b5b7-9c2a9ee9966f",
   "metadata": {},
   "source": [
    "## Finetuning End2End Model"
   ]
  },
  {
   "cell_type": "markdown",
   "id": "3df6e7b8-1ac8-4b0e-81be-fa5388257e2c",
   "metadata": {},
   "source": [
    "Finetuning was performed with GPU accelaration. To train model I have used python script `train_End2End.py`.\n",
    "Using first fold I have searched for the best hyperparameters and hyperparameters yielding the best model, were used to train model on five folds."
   ]
  },
  {
   "cell_type": "markdown",
   "id": "467855ac-19bb-4914-9372-e195b2c8c6d0",
   "metadata": {},
   "source": [
    "## End2End model evaluation on validation sets"
   ]
  },
  {
   "cell_type": "code",
   "execution_count": 4,
   "id": "5e6664db-8c02-4fbf-a6f8-31ea879b23bd",
   "metadata": {},
   "outputs": [],
   "source": [
    "def E2E_model_evaluation(model_name:str, version:Optional[str]=None, depth:int=1):\n",
    "    res={}\n",
    "    for fold in range(1,6):\n",
    "        print(f\"fold: {fold}\")\n",
    "        dm = DataModule(\n",
    "            fold=fold,\n",
    "            datapath=datapath,\n",
    "            batch_size=16,\n",
    "            num_workers=8,\n",
    "            task=\"Classification\",\n",
    "            depth=depth\n",
    "        )\n",
    "\n",
    "        if version is None:\n",
    "            ckpt_path = checkpoints_path+model_name+f\"_{fold}\"+\".ckpt\"\n",
    "        else:\n",
    "            ckpt_path = checkpoints_path+model_name+f\"_{fold}\"+f\"-{version}\"+\".ckpt\"\n",
    "        model = End2End_Model.load_from_checkpoint(ckpt_path)\n",
    "        torch.set_float32_matmul_precision('medium')\n",
    "        trainer = pl.Trainer(accelerator=\"gpu\", devices=1, precision=32, logger=False)\n",
    "        model.eval()\n",
    "        res[f\"fold_{fold}\"] = trainer.test(model, dm)\n",
    "    return res\n",
    "\n",
    "\n",
    "def compute_results(raw_results:Dict[str, list]):\n",
    "    ACC = []\n",
    "    folds = []\n",
    "    mean_ACC = 0\n",
    "    n = 0\n",
    "    for fold in raw_results.keys():\n",
    "        cur_ACC = raw_results[fold][0][\"val_acc\"]\n",
    "        ACC.append(cur_ACC)\n",
    "        folds.append(f\"Fold {fold}\")\n",
    "        mean_ACC += cur_ACC\n",
    "        n += 1\n",
    "    mean_ACC = mean_ACC/n\n",
    "\n",
    "    df = pd.DataFrame({\"Fold\": folds, \"Accuracy\": ACC})\n",
    "    df.loc[len(df)] = ['Mean Accuracy', mean_ACC]\n",
    "    \n",
    "    table = PrettyTable()\n",
    "    table.field_names = df.columns.tolist()\n",
    "\n",
    "    for row in df.itertuples(index=False):\n",
    "        table.add_row(row)\n",
    "\n",
    "    # Optionally, align columns\n",
    "    for field in df.columns:\n",
    "        table.align[field] = 'l'  # 'l' for left align, 'r' for right alig\n",
    "    \n",
    "    return table"
   ]
  },
  {
   "cell_type": "markdown",
   "id": "d398916e-914c-40db-985a-76d290b00ffd",
   "metadata": {
    "jp-MarkdownHeadingCollapsed": true
   },
   "source": [
    "#### DINO_vitb8"
   ]
  },
  {
   "cell_type": "code",
   "execution_count": null,
   "id": "b7d006f6-5f0a-4f69-a43d-fff1a7b6ea78",
   "metadata": {
    "scrolled": true
   },
   "outputs": [],
   "source": [
    "# dino_vitb8_38 - version 0\n",
    "res = E2E_model_evaluation(model_name=\"dino_vitb8_38\")"
   ]
  },
  {
   "cell_type": "code",
   "execution_count": 8,
   "id": "3f10ab17-ef85-4b28-a9d9-b9e2b399a6f7",
   "metadata": {},
   "outputs": [
    {
     "name": "stdout",
     "output_type": "stream",
     "text": [
      "+---------------+--------------------+\n",
      "| Fold          | Accuracy           |\n",
      "+---------------+--------------------+\n",
      "| Fold fold_1   | 0.9064327478408813 |\n",
      "| Fold fold_2   | 0.9239766001701355 |\n",
      "| Fold fold_3   | 0.8947368264198303 |\n",
      "| Fold fold_4   | 0.9005848169326782 |\n",
      "| Fold fold_5   | 0.8823529481887817 |\n",
      "| Mean Accuracy | 0.9016167879104614 |\n",
      "+---------------+--------------------+\n"
     ]
    }
   ],
   "source": [
    "results = compute_results(res)\n",
    "print(results)"
   ]
  },
  {
   "cell_type": "code",
   "execution_count": null,
   "id": "cda6e672-8122-4236-9df2-98d1d636419c",
   "metadata": {
    "scrolled": true
   },
   "outputs": [],
   "source": [
    "# dino_vitb8_38 - version v1\n",
    "res = E2E_model_evaluation(model_name=\"dino_vitb8_38\", version=\"v1\")"
   ]
  },
  {
   "cell_type": "code",
   "execution_count": 14,
   "id": "2a05b867-9358-4cd4-9a5b-4d7e40670349",
   "metadata": {},
   "outputs": [
    {
     "name": "stdout",
     "output_type": "stream",
     "text": [
      "+---------------+--------------------+\n",
      "| Fold          | Accuracy           |\n",
      "+---------------+--------------------+\n",
      "| Fold fold_1   | 0.8947368264198303 |\n",
      "| Fold fold_2   | 0.9005848169326782 |\n",
      "| Fold fold_3   | 0.9122806787490845 |\n",
      "| Fold fold_4   | 0.8654970526695251 |\n",
      "| Fold fold_5   | 0.8705882430076599 |\n",
      "| Mean Accuracy | 0.8887375235557556 |\n",
      "+---------------+--------------------+\n"
     ]
    }
   ],
   "source": [
    "results = compute_results(res)\n",
    "print(results)"
   ]
  },
  {
   "cell_type": "code",
   "execution_count": null,
   "id": "1181ed19-2e70-477a-95d2-f20661b3c64b",
   "metadata": {
    "scrolled": true
   },
   "outputs": [],
   "source": [
    "# dino_vitb8_38 - version v2\n",
    "res = E2E_model_evaluation(model_name=\"dino_vitb8_38\", version=\"v2\")"
   ]
  },
  {
   "cell_type": "code",
   "execution_count": 12,
   "id": "214558f9-8138-4960-97e2-81c667bc3116",
   "metadata": {},
   "outputs": [
    {
     "name": "stdout",
     "output_type": "stream",
     "text": [
      "+---------------+--------------------+\n",
      "| Fold          | Accuracy           |\n",
      "+---------------+--------------------+\n",
      "| Fold fold_1   | 0.8830409646034241 |\n",
      "| Fold fold_2   | 0.9005848169326782 |\n",
      "| Fold fold_3   | 0.9122806787490845 |\n",
      "| Fold fold_4   | 0.8771929740905762 |\n",
      "| Fold fold_5   | 0.8882352709770203 |\n",
      "| Mean Accuracy | 0.8922669410705566 |\n",
      "+---------------+--------------------+\n"
     ]
    }
   ],
   "source": [
    "results = compute_results(res)\n",
    "print(results)"
   ]
  },
  {
   "cell_type": "markdown",
   "id": "59b88f59-81b7-4bbd-8c44-3cfafbc54332",
   "metadata": {
    "jp-MarkdownHeadingCollapsed": true
   },
   "source": [
    "#### DINO_vits8"
   ]
  },
  {
   "cell_type": "code",
   "execution_count": null,
   "id": "7c14e13f-e51e-4bfb-b1eb-082b057df314",
   "metadata": {
    "scrolled": true
   },
   "outputs": [],
   "source": [
    "# dino_vits8_39 - version 0\n",
    "res = E2E_model_evaluation(model_name=\"dino_vits8_39\")"
   ]
  },
  {
   "cell_type": "code",
   "execution_count": 16,
   "id": "58e5d6bd-1121-4629-a36c-09e84f48cfce",
   "metadata": {},
   "outputs": [
    {
     "name": "stdout",
     "output_type": "stream",
     "text": [
      "+---------------+--------------------+\n",
      "| Fold          | Accuracy           |\n",
      "+---------------+--------------------+\n",
      "| Fold fold_1   | 0.8888888955116272 |\n",
      "| Fold fold_2   | 0.9181286692619324 |\n",
      "| Fold fold_3   | 0.8888888955116272 |\n",
      "| Fold fold_4   | 0.8830409646034241 |\n",
      "| Fold fold_5   | 0.8764705657958984 |\n",
      "| Mean Accuracy | 0.8910835981369019 |\n",
      "+---------------+--------------------+\n"
     ]
    }
   ],
   "source": [
    "results = compute_results(res)\n",
    "print(results)"
   ]
  },
  {
   "cell_type": "code",
   "execution_count": null,
   "id": "38ea11b8-a611-4eef-ab26-1dc2eb36c4b3",
   "metadata": {
    "scrolled": true
   },
   "outputs": [],
   "source": [
    "# dino_vits8_39 - version v1\n",
    "res = E2E_model_evaluation(model_name=\"dino_vits8_39\", version=\"v1\")"
   ]
  },
  {
   "cell_type": "code",
   "execution_count": 18,
   "id": "b9249732-0845-4a6b-9fc1-b79fce221a43",
   "metadata": {},
   "outputs": [
    {
     "name": "stdout",
     "output_type": "stream",
     "text": [
      "+---------------+--------------------+\n",
      "| Fold          | Accuracy           |\n",
      "+---------------+--------------------+\n",
      "| Fold fold_1   | 0.9122806787490845 |\n",
      "| Fold fold_2   | 0.9064327478408813 |\n",
      "| Fold fold_3   | 0.8888888955116272 |\n",
      "| Fold fold_4   | 0.9181286692619324 |\n",
      "| Fold fold_5   | 0.8588235378265381 |\n",
      "| Mean Accuracy | 0.8969109058380127 |\n",
      "+---------------+--------------------+\n"
     ]
    }
   ],
   "source": [
    "results = compute_results(res)\n",
    "print(results)"
   ]
  },
  {
   "cell_type": "code",
   "execution_count": null,
   "id": "5020a652-76be-4ae2-bfab-d2beb477543c",
   "metadata": {
    "scrolled": true
   },
   "outputs": [],
   "source": [
    "# dino_vits8_39 - version v2\n",
    "res = E2E_model_evaluation(model_name=\"dino_vits8_39\", version=\"v2\")"
   ]
  },
  {
   "cell_type": "code",
   "execution_count": 20,
   "id": "1e6aacad-fbca-47af-9eed-0e12d9696da5",
   "metadata": {},
   "outputs": [
    {
     "name": "stdout",
     "output_type": "stream",
     "text": [
      "+---------------+--------------------+\n",
      "| Fold          | Accuracy           |\n",
      "+---------------+--------------------+\n",
      "| Fold fold_1   | 0.8421052694320679 |\n",
      "| Fold fold_2   | 0.9064327478408813 |\n",
      "| Fold fold_3   | 0.9005848169326782 |\n",
      "| Fold fold_4   | 0.9005848169326782 |\n",
      "| Fold fold_5   | 0.8882352709770203 |\n",
      "| Mean Accuracy | 0.8875885844230652 |\n",
      "+---------------+--------------------+\n"
     ]
    }
   ],
   "source": [
    "results = compute_results(res)\n",
    "print(results)"
   ]
  },
  {
   "cell_type": "markdown",
   "id": "f9061acd-068c-434e-ab71-8577483ce04a",
   "metadata": {
    "jp-MarkdownHeadingCollapsed": true
   },
   "source": [
    "#### DINO_vits16"
   ]
  },
  {
   "cell_type": "code",
   "execution_count": null,
   "id": "a9b63ac3-4890-4dd2-8c84-9bdeb569a8cb",
   "metadata": {},
   "outputs": [],
   "source": [
    "# dino_vits16_32 - version 0\n",
    "res = E2E_model_evaluation(model_name=\"dino_vits16_32\")"
   ]
  },
  {
   "cell_type": "code",
   "execution_count": 21,
   "id": "01bd146e-d983-4b43-a4bc-ebdadaf7049a",
   "metadata": {},
   "outputs": [
    {
     "name": "stdout",
     "output_type": "stream",
     "text": [
      "+---------------+--------------------+\n",
      "| Fold          | Accuracy           |\n",
      "+---------------+--------------------+\n",
      "| Fold fold_1   | 0.9005848169326782 |\n",
      "| Fold fold_2   | 0.8654970526695251 |\n",
      "| Fold fold_3   | 0.871345043182373  |\n",
      "| Fold fold_4   | 0.9005848169326782 |\n",
      "| Fold fold_5   | 0.8941176533699036 |\n",
      "| Mean Accuracy | 0.8864258766174317 |\n",
      "+---------------+--------------------+\n"
     ]
    }
   ],
   "source": [
    "results = compute_results(res)\n",
    "print(results)"
   ]
  },
  {
   "cell_type": "code",
   "execution_count": null,
   "id": "2065e99f-fa0c-4ebd-a010-6c4f6793abd4",
   "metadata": {
    "scrolled": true
   },
   "outputs": [],
   "source": [
    "# dino_vits16_32 - version v1\n",
    "res = E2E_model_evaluation(model_name=\"dino_vits16_32\", version=\"v1\")"
   ]
  },
  {
   "cell_type": "code",
   "execution_count": 17,
   "id": "7ae1acfa-81b0-4fca-a4fc-d4a2958b25a6",
   "metadata": {},
   "outputs": [
    {
     "name": "stdout",
     "output_type": "stream",
     "text": [
      "+---------------+--------------------+\n",
      "| Fold          | Accuracy           |\n",
      "+---------------+--------------------+\n",
      "| Fold fold_1   | 0.9064327478408813 |\n",
      "| Fold fold_2   | 0.9005848169326782 |\n",
      "| Fold fold_3   | 0.8888888955116272 |\n",
      "| Fold fold_4   | 0.871345043182373  |\n",
      "| Fold fold_5   | 0.8941176533699036 |\n",
      "| Mean Accuracy | 0.8922738313674927 |\n",
      "+---------------+--------------------+\n"
     ]
    }
   ],
   "source": [
    "results = compute_results(res)\n",
    "print(results)"
   ]
  },
  {
   "cell_type": "code",
   "execution_count": null,
   "id": "3cc13781-3915-410e-9855-b6b4b9b942ba",
   "metadata": {
    "scrolled": true
   },
   "outputs": [],
   "source": [
    "# dino_vits16_32 - version v2\n",
    "res = E2E_model_evaluation(model_name=\"dino_vits16_32\", version=\"v2\")"
   ]
  },
  {
   "cell_type": "code",
   "execution_count": 23,
   "id": "165f1623-a1dd-457c-99aa-871a01b07090",
   "metadata": {},
   "outputs": [
    {
     "name": "stdout",
     "output_type": "stream",
     "text": [
      "+---------------+--------------------+\n",
      "| Fold          | Accuracy           |\n",
      "+---------------+--------------------+\n",
      "| Fold fold_1   | 0.9239766001701355 |\n",
      "| Fold fold_2   | 0.8830409646034241 |\n",
      "| Fold fold_3   | 0.8654970526695251 |\n",
      "| Fold fold_4   | 0.871345043182373  |\n",
      "| Fold fold_5   | 0.8823529481887817 |\n",
      "| Mean Accuracy | 0.8852425217628479 |\n",
      "+---------------+--------------------+\n"
     ]
    }
   ],
   "source": [
    "results = compute_results(res)\n",
    "print(results)"
   ]
  },
  {
   "cell_type": "markdown",
   "id": "021fa840-3c50-4ad3-8057-687bd3d55ac0",
   "metadata": {
    "jp-MarkdownHeadingCollapsed": true
   },
   "source": [
    "#### DINO_vitb16"
   ]
  },
  {
   "cell_type": "code",
   "execution_count": null,
   "id": "3532e212-a730-47cf-8912-f5d0a014fd6e",
   "metadata": {
    "scrolled": true
   },
   "outputs": [],
   "source": [
    "# dino_vitb16_35 - version 0\n",
    "res = E2E_model_evaluation(model_name=\"dino_vitb16_35\")"
   ]
  },
  {
   "cell_type": "code",
   "execution_count": 8,
   "id": "ef9f331e-7c00-4078-a28d-f283c9f19203",
   "metadata": {},
   "outputs": [
    {
     "name": "stdout",
     "output_type": "stream",
     "text": [
      "+---------------+--------------------+\n",
      "| Fold          | Accuracy           |\n",
      "+---------------+--------------------+\n",
      "| Fold fold_1   | 0.8888888955116272 |\n",
      "| Fold fold_2   | 0.9122806787490845 |\n",
      "| Fold fold_3   | 0.859649121761322  |\n",
      "| Fold fold_4   | 0.9181286692619324 |\n",
      "| Fold fold_5   | 0.8999999761581421 |\n",
      "| Mean Accuracy | 0.8957894682884217 |\n",
      "+---------------+--------------------+\n"
     ]
    }
   ],
   "source": [
    "results = compute_results(res)\n",
    "print(results)"
   ]
  },
  {
   "cell_type": "code",
   "execution_count": null,
   "id": "14297155-130b-4e38-8f97-ae9bed924bb5",
   "metadata": {
    "scrolled": true
   },
   "outputs": [],
   "source": [
    "# dino_vitb16_35 - version v1\n",
    "res = E2E_model_evaluation(model_name=\"dino_vitb16_35\", version=\"v1\")"
   ]
  },
  {
   "cell_type": "code",
   "execution_count": 10,
   "id": "fdace0ad-5abe-49a1-b280-41571948881c",
   "metadata": {},
   "outputs": [
    {
     "name": "stdout",
     "output_type": "stream",
     "text": [
      "+---------------+--------------------+\n",
      "| Fold          | Accuracy           |\n",
      "+---------------+--------------------+\n",
      "| Fold fold_1   | 0.9064327478408813 |\n",
      "| Fold fold_2   | 0.8947368264198303 |\n",
      "| Fold fold_3   | 0.859649121761322  |\n",
      "| Fold fold_4   | 0.9239766001701355 |\n",
      "| Fold fold_5   | 0.8823529481887817 |\n",
      "| Mean Accuracy | 0.8934296488761901 |\n",
      "+---------------+--------------------+\n"
     ]
    }
   ],
   "source": [
    "results = compute_results(res)\n",
    "print(results)"
   ]
  },
  {
   "cell_type": "code",
   "execution_count": 11,
   "id": "a9c81b0b-faec-4e7e-a8f6-3346d520a367",
   "metadata": {},
   "outputs": [
    {
     "name": "stdout",
     "output_type": "stream",
     "text": [
      "Testing DataLoader 0: 100%|█████████████████████████████████████████████████████████████████████████████████| 11/11 [00:03<00:00,  2.85it/s]\n",
      "────────────────────────────────────────────────────────────────────────────────────────────────────────────────────────\n",
      "       Test metric             DataLoader 0\n",
      "────────────────────────────────────────────────────────────────────────────────────────────────────────────────────────\n",
      "         val_acc            0.8764705657958984\n",
      "        val_loss            0.28596988320350647\n",
      "────────────────────────────────────────────────────────────────────────────────────────────────────────────────────────\n"
     ]
    }
   ],
   "source": [
    "# dino_vitb16_35 - version v2\n",
    "res = E2E_model_evaluation(model_name=\"dino_vitb16_35\", version=\"v2\")"
   ]
  },
  {
   "cell_type": "code",
   "execution_count": 12,
   "id": "e8a69e5c-db1a-421f-b6be-25e5c3a445b8",
   "metadata": {},
   "outputs": [
    {
     "name": "stdout",
     "output_type": "stream",
     "text": [
      "+---------------+--------------------+\n",
      "| Fold          | Accuracy           |\n",
      "+---------------+--------------------+\n",
      "| Fold fold_1   | 0.9239766001701355 |\n",
      "| Fold fold_2   | 0.8888888955116272 |\n",
      "| Fold fold_3   | 0.8654970526695251 |\n",
      "| Fold fold_4   | 0.8888888955116272 |\n",
      "| Fold fold_5   | 0.8764705657958984 |\n",
      "| Mean Accuracy | 0.8887444019317627 |\n",
      "+---------------+--------------------+\n"
     ]
    }
   ],
   "source": [
    "results = compute_results(res)\n",
    "print(results)"
   ]
  },
  {
   "cell_type": "markdown",
   "id": "e3d40ea5-a989-44e0-a703-20ed919d3300",
   "metadata": {
    "jp-MarkdownHeadingCollapsed": true
   },
   "source": [
    "#### SL ViTb16"
   ]
  },
  {
   "cell_type": "code",
   "execution_count": null,
   "id": "9d78513b-5d2c-41c1-9de2-a6acfea678ec",
   "metadata": {
    "scrolled": true
   },
   "outputs": [],
   "source": [
    "# vitb16_9 - version 0\n",
    "res = E2E_model_evaluation(model_name=\"vit_b_16_9\")"
   ]
  },
  {
   "cell_type": "code",
   "execution_count": 27,
   "id": "2a67d27e-0f5b-41db-813f-e6d3a18c3b64",
   "metadata": {},
   "outputs": [
    {
     "name": "stdout",
     "output_type": "stream",
     "text": [
      "+---------------+--------------------+\n",
      "| Fold          | Accuracy           |\n",
      "+---------------+--------------------+\n",
      "| Fold fold_1   | 0.9064327478408813 |\n",
      "| Fold fold_2   | 0.8947368264198303 |\n",
      "| Fold fold_3   | 0.9005848169326782 |\n",
      "| Fold fold_4   | 0.8888888955116272 |\n",
      "| Fold fold_5   | 0.8882352709770203 |\n",
      "| Mean Accuracy | 0.8957757115364074 |\n",
      "+---------------+--------------------+\n"
     ]
    }
   ],
   "source": [
    "results = compute_results(res)\n",
    "print(results)"
   ]
  },
  {
   "cell_type": "code",
   "execution_count": null,
   "id": "715479c8-0864-4d1b-8cee-3b97f2fc6760",
   "metadata": {
    "scrolled": true
   },
   "outputs": [],
   "source": [
    "# vitb16_9 - version v1\n",
    "res = E2E_model_evaluation(model_name=\"vit_b_16_9\", version=\"v1\")"
   ]
  },
  {
   "cell_type": "code",
   "execution_count": 29,
   "id": "76587286-94ba-48aa-921c-d10a9b6392a8",
   "metadata": {},
   "outputs": [
    {
     "name": "stdout",
     "output_type": "stream",
     "text": [
      "+---------------+--------------------+\n",
      "| Fold          | Accuracy           |\n",
      "+---------------+--------------------+\n",
      "| Fold fold_1   | 0.9064327478408813 |\n",
      "| Fold fold_2   | 0.8830409646034241 |\n",
      "| Fold fold_3   | 0.9005848169326782 |\n",
      "| Fold fold_4   | 0.9005848169326782 |\n",
      "| Fold fold_5   | 0.8882352709770203 |\n",
      "| Mean Accuracy | 0.8957757234573365 |\n",
      "+---------------+--------------------+\n"
     ]
    }
   ],
   "source": [
    "results = compute_results(res)\n",
    "print(results)"
   ]
  },
  {
   "cell_type": "code",
   "execution_count": null,
   "id": "a8cce215-bf98-47e5-8d0a-0fe07d018be4",
   "metadata": {
    "scrolled": true
   },
   "outputs": [],
   "source": [
    "# vitb16_9 - version v2\n",
    "res = E2E_model_evaluation(model_name=\"vit_b_16_9\", version=\"v2\")"
   ]
  },
  {
   "cell_type": "code",
   "execution_count": 31,
   "id": "3cafb213-e456-4d96-bb02-d335423e2d31",
   "metadata": {},
   "outputs": [
    {
     "name": "stdout",
     "output_type": "stream",
     "text": [
      "+---------------+--------------------+\n",
      "| Fold          | Accuracy           |\n",
      "+---------------+--------------------+\n",
      "| Fold fold_1   | 0.9181286692619324 |\n",
      "| Fold fold_2   | 0.9005848169326782 |\n",
      "| Fold fold_3   | 0.8947368264198303 |\n",
      "| Fold fold_4   | 0.9181286692619324 |\n",
      "| Fold fold_5   | 0.8882352709770203 |\n",
      "| Mean Accuracy | 0.9039628505706787 |\n",
      "+---------------+--------------------+\n"
     ]
    }
   ],
   "source": [
    "results = compute_results(res)\n",
    "print(results)"
   ]
  },
  {
   "cell_type": "markdown",
   "id": "19b19c07-5b23-4ca4-8213-e48449081765",
   "metadata": {
    "jp-MarkdownHeadingCollapsed": true
   },
   "source": [
    "#### 3Dvit_16 - without inflation/centering strategy\n",
    "There are two types of models. Models trained on input stack of slices with depth 21 and models trained on stack with depth 5. Depth 21 yielded models with better looking learning curve, but to make fair comparison with other weight initiation strategies I evaluated also model trained with depth equal 5."
   ]
  },
  {
   "cell_type": "markdown",
   "id": "5a26396d-d91a-404c-88c5-27bf78c00249",
   "metadata": {
    "jp-MarkdownHeadingCollapsed": true
   },
   "source": [
    "##### Depth equal to 21"
   ]
  },
  {
   "cell_type": "code",
   "execution_count": null,
   "id": "2e42296b-874f-46ce-a71f-37891ee18b88",
   "metadata": {
    "scrolled": true
   },
   "outputs": [],
   "source": [
    "# 3Dvit_16 - version 0 ; model trained without inflation/centering strategy\n",
    "res = E2E_model_evaluation(model_name=\"3Dvit_16_16\", depth=21)"
   ]
  },
  {
   "cell_type": "code",
   "execution_count": 10,
   "id": "2e2c0b5a-8107-428b-960d-5ff4d4d3e9e4",
   "metadata": {},
   "outputs": [
    {
     "name": "stdout",
     "output_type": "stream",
     "text": [
      "+---------------+--------------------+\n",
      "| Fold          | Accuracy           |\n",
      "+---------------+--------------------+\n",
      "| Fold fold_1   | 0.847953200340271  |\n",
      "| Fold fold_2   | 0.8771929740905762 |\n",
      "| Fold fold_3   | 0.8421052694320679 |\n",
      "| Fold fold_4   | 0.8538011908531189 |\n",
      "| Fold fold_5   | 0.8705882430076599 |\n",
      "| Mean Accuracy | 0.8583281755447387 |\n",
      "+---------------+--------------------+\n"
     ]
    }
   ],
   "source": [
    "results = compute_results(res)\n",
    "print(results)"
   ]
  },
  {
   "cell_type": "code",
   "execution_count": null,
   "id": "dc84cafb-676a-4382-8696-acd5bc39f565",
   "metadata": {
    "scrolled": true
   },
   "outputs": [],
   "source": [
    "# 3Dvit_16 - version 1 ; model trained without inflation/centering strategy\n",
    "res = E2E_model_evaluation(model_name=\"3Dvit_16_16\", depth=21, version=\"v1\")"
   ]
  },
  {
   "cell_type": "code",
   "execution_count": 13,
   "id": "16ed588a-f334-4421-a4fc-54f52037755e",
   "metadata": {},
   "outputs": [
    {
     "name": "stdout",
     "output_type": "stream",
     "text": [
      "+---------------+--------------------+\n",
      "| Fold          | Accuracy           |\n",
      "+---------------+--------------------+\n",
      "| Fold fold_1   | 0.8830409646034241 |\n",
      "| Fold fold_2   | 0.871345043182373  |\n",
      "| Fold fold_3   | 0.8304093480110168 |\n",
      "| Fold fold_4   | 0.8538011908531189 |\n",
      "| Fold fold_5   | 0.8647058606147766 |\n",
      "| Mean Accuracy | 0.8606604814529419 |\n",
      "+---------------+--------------------+\n"
     ]
    }
   ],
   "source": [
    "results = compute_results(res)\n",
    "print(results)"
   ]
  },
  {
   "cell_type": "code",
   "execution_count": null,
   "id": "d928328d-6a24-4f95-b8a9-29530eac3311",
   "metadata": {
    "scrolled": true
   },
   "outputs": [],
   "source": [
    "# 3Dvit_16 - version 2 ; model trained without inflation/centering strategy\n",
    "res = E2E_model_evaluation(model_name=\"3Dvit_16_16\", depth=21 , version=\"v2\")"
   ]
  },
  {
   "cell_type": "code",
   "execution_count": 15,
   "id": "929996b9-5fe5-4ed2-b001-471830c95706",
   "metadata": {},
   "outputs": [
    {
     "name": "stdout",
     "output_type": "stream",
     "text": [
      "+---------------+--------------------+\n",
      "| Fold          | Accuracy           |\n",
      "+---------------+--------------------+\n",
      "| Fold fold_1   | 0.847953200340271  |\n",
      "| Fold fold_2   | 0.8654970526695251 |\n",
      "| Fold fold_3   | 0.8304093480110168 |\n",
      "| Fold fold_4   | 0.859649121761322  |\n",
      "| Fold fold_5   | 0.8588235378265381 |\n",
      "| Mean Accuracy | 0.8524664521217347 |\n",
      "+---------------+--------------------+\n"
     ]
    }
   ],
   "source": [
    "results = compute_results(res)\n",
    "print(results)"
   ]
  },
  {
   "cell_type": "markdown",
   "id": "7d232f7f-150d-4197-89a1-dd33c609c8e1",
   "metadata": {
    "jp-MarkdownHeadingCollapsed": true
   },
   "source": [
    "##### Depth equal to 5"
   ]
  },
  {
   "cell_type": "code",
   "execution_count": null,
   "id": "834b6497-6128-466b-9370-d89c17b07001",
   "metadata": {
    "scrolled": true
   },
   "outputs": [],
   "source": [
    "# 3Dvit_19 - version 0 ; model trained without inflation/centering strategy\n",
    "res = E2E_model_evaluation(model_name=\"3Dvit_16_19\", depth=5)"
   ]
  },
  {
   "cell_type": "code",
   "execution_count": 6,
   "id": "226a65d5-ad16-432d-aff8-5d7aec85cc81",
   "metadata": {},
   "outputs": [
    {
     "name": "stdout",
     "output_type": "stream",
     "text": [
      "+---------------+--------------------+\n",
      "| Fold          | Accuracy           |\n",
      "+---------------+--------------------+\n",
      "| Fold fold_1   | 0.859649121761322  |\n",
      "| Fold fold_2   | 0.7836257219314575 |\n",
      "| Fold fold_3   | 0.8245614171028137 |\n",
      "| Fold fold_4   | 0.847953200340271  |\n",
      "| Fold fold_5   | 0.8588235378265381 |\n",
      "| Mean Accuracy | 0.8349225997924805 |\n",
      "+---------------+--------------------+\n"
     ]
    }
   ],
   "source": [
    "results = compute_results(res)\n",
    "print(results)"
   ]
  },
  {
   "cell_type": "code",
   "execution_count": null,
   "id": "a5e8c90d-11c0-449b-9b91-21128362d929",
   "metadata": {
    "scrolled": true
   },
   "outputs": [],
   "source": [
    "# 3Dvit_19 - version 1 ; model trained without inflation/centering strategy\n",
    "res = E2E_model_evaluation(model_name=\"3Dvit_16_19\", depth=5, version=\"v1\")"
   ]
  },
  {
   "cell_type": "code",
   "execution_count": 8,
   "id": "9c8dcdb5-345b-4dda-8689-ae500a71f597",
   "metadata": {},
   "outputs": [
    {
     "name": "stdout",
     "output_type": "stream",
     "text": [
      "+---------------+--------------------+\n",
      "| Fold          | Accuracy           |\n",
      "+---------------+--------------------+\n",
      "| Fold fold_1   | 0.8830409646034241 |\n",
      "| Fold fold_2   | 0.8362573385238647 |\n",
      "| Fold fold_3   | 0.8304093480110168 |\n",
      "| Fold fold_4   | 0.859649121761322  |\n",
      "| Fold fold_5   | 0.8470588326454163 |\n",
      "| Mean Accuracy | 0.8512831211090088 |\n",
      "+---------------+--------------------+\n"
     ]
    }
   ],
   "source": [
    "results = compute_results(res)\n",
    "print(results)"
   ]
  },
  {
   "cell_type": "code",
   "execution_count": null,
   "id": "bfdded09-4ab8-4fc7-b84c-d7e6be4a0016",
   "metadata": {
    "scrolled": true
   },
   "outputs": [],
   "source": [
    "# 3Dvit_19 - version 2 ; model trained without inflation/centering strategy\n",
    "res = E2E_model_evaluation(model_name=\"3Dvit_16_19\", depth=5, version=\"v2\")"
   ]
  },
  {
   "cell_type": "code",
   "execution_count": 10,
   "id": "81083ab5-9405-44d8-b74b-b8a6681efba2",
   "metadata": {},
   "outputs": [
    {
     "name": "stdout",
     "output_type": "stream",
     "text": [
      "+---------------+--------------------+\n",
      "| Fold          | Accuracy           |\n",
      "+---------------+--------------------+\n",
      "| Fold fold_1   | 0.8830409646034241 |\n",
      "| Fold fold_2   | 0.8070175647735596 |\n",
      "| Fold fold_3   | 0.8362573385238647 |\n",
      "| Fold fold_4   | 0.8654970526695251 |\n",
      "| Fold fold_5   | 0.8529411554336548 |\n",
      "| Mean Accuracy | 0.8489508152008056 |\n",
      "+---------------+--------------------+\n"
     ]
    }
   ],
   "source": [
    "results = compute_results(res)\n",
    "print(results)"
   ]
  },
  {
   "cell_type": "markdown",
   "id": "038490fc-b581-4525-8dc4-8002fab51fb1",
   "metadata": {
    "jp-MarkdownHeadingCollapsed": true
   },
   "source": [
    "#### 3Dvit_16 - with inflation strategy"
   ]
  },
  {
   "cell_type": "code",
   "execution_count": null,
   "id": "855f105a-34de-4a86-8371-4e6b5d80cda8",
   "metadata": {
    "scrolled": true
   },
   "outputs": [],
   "source": [
    "# 3Dvit_16 - version 0 ; model trained with inflation strategy\n",
    "res = E2E_model_evaluation(model_name=\"3Dvit_16_17\", depth=5)"
   ]
  },
  {
   "cell_type": "code",
   "execution_count": 18,
   "id": "ffe20ceb-b7b6-4c5c-a1fb-ae28cbf1645c",
   "metadata": {},
   "outputs": [
    {
     "name": "stdout",
     "output_type": "stream",
     "text": [
      "+---------------+--------------------+\n",
      "| Fold          | Accuracy           |\n",
      "+---------------+--------------------+\n",
      "| Fold fold_1   | 0.9005848169326782 |\n",
      "| Fold fold_2   | 0.8771929740905762 |\n",
      "| Fold fold_3   | 0.871345043182373  |\n",
      "| Fold fold_4   | 0.8888888955116272 |\n",
      "| Fold fold_5   | 0.8999999761581421 |\n",
      "| Mean Accuracy | 0.8876023411750793 |\n",
      "+---------------+--------------------+\n"
     ]
    }
   ],
   "source": [
    "results = compute_results(res)\n",
    "print(results)"
   ]
  },
  {
   "cell_type": "code",
   "execution_count": null,
   "id": "b405317e-f1ed-4180-86c9-eb8ecabd3349",
   "metadata": {
    "scrolled": true
   },
   "outputs": [],
   "source": [
    "# 3Dvit_16 - version 1 ; model trained with inflation strategy\n",
    "res = E2E_model_evaluation(model_name=\"3Dvit_16_17\", depth=5, version=\"v1\")"
   ]
  },
  {
   "cell_type": "code",
   "execution_count": 20,
   "id": "e4982010-88ca-485d-8b11-88e0b7ba028c",
   "metadata": {},
   "outputs": [
    {
     "name": "stdout",
     "output_type": "stream",
     "text": [
      "+---------------+--------------------+\n",
      "| Fold          | Accuracy           |\n",
      "+---------------+--------------------+\n",
      "| Fold fold_1   | 0.8947368264198303 |\n",
      "| Fold fold_2   | 0.9064327478408813 |\n",
      "| Fold fold_3   | 0.871345043182373  |\n",
      "| Fold fold_4   | 0.871345043182373  |\n",
      "| Fold fold_5   | 0.8941176533699036 |\n",
      "| Mean Accuracy | 0.8875954627990723 |\n",
      "+---------------+--------------------+\n"
     ]
    }
   ],
   "source": [
    "results = compute_results(res)\n",
    "print(results)"
   ]
  },
  {
   "cell_type": "code",
   "execution_count": null,
   "id": "e3299c8d-3c4e-41ad-afa0-8ad643fc705d",
   "metadata": {
    "scrolled": true
   },
   "outputs": [],
   "source": [
    "# 3Dvit_16 - version 2 ; model trained with inflation strategy\n",
    "res = E2E_model_evaluation(model_name=\"3Dvit_16_17\", depth=5, version=\"v2\")"
   ]
  },
  {
   "cell_type": "code",
   "execution_count": 22,
   "id": "fa63f1cf-25cd-4b2b-8ef0-5b5e3719c68f",
   "metadata": {},
   "outputs": [
    {
     "name": "stdout",
     "output_type": "stream",
     "text": [
      "+---------------+--------------------+\n",
      "| Fold          | Accuracy           |\n",
      "+---------------+--------------------+\n",
      "| Fold fold_1   | 0.8947368264198303 |\n",
      "| Fold fold_2   | 0.8830409646034241 |\n",
      "| Fold fold_3   | 0.871345043182373  |\n",
      "| Fold fold_4   | 0.9005848169326782 |\n",
      "| Fold fold_5   | 0.8882352709770203 |\n",
      "| Mean Accuracy | 0.8875885844230652 |\n",
      "+---------------+--------------------+\n"
     ]
    }
   ],
   "source": [
    "results = compute_results(res)\n",
    "print(results)"
   ]
  },
  {
   "cell_type": "markdown",
   "id": "59d1f53e-d192-4e43-801b-1e368bbc03a8",
   "metadata": {
    "jp-MarkdownHeadingCollapsed": true
   },
   "source": [
    "#### 3Dvit_16 - with centering strategy"
   ]
  },
  {
   "cell_type": "code",
   "execution_count": null,
   "id": "4e3e3c45-14e3-4e16-9527-f8e862ae147b",
   "metadata": {
    "scrolled": true
   },
   "outputs": [],
   "source": [
    "# 3Dvit_16 - version 0 ; model trained with centering strategy\n",
    "res = E2E_model_evaluation(model_name=\"3Dvit_16_18\", depth=5)"
   ]
  },
  {
   "cell_type": "code",
   "execution_count": 25,
   "id": "bcef5572-0d5e-411f-8455-8f4c8284ab20",
   "metadata": {},
   "outputs": [
    {
     "name": "stdout",
     "output_type": "stream",
     "text": [
      "+---------------+--------------------+\n",
      "| Fold          | Accuracy           |\n",
      "+---------------+--------------------+\n",
      "| Fold fold_1   | 0.8830409646034241 |\n",
      "| Fold fold_2   | 0.8888888955116272 |\n",
      "| Fold fold_3   | 0.9122806787490845 |\n",
      "| Fold fold_4   | 0.8947368264198303 |\n",
      "| Fold fold_5   | 0.8823529481887817 |\n",
      "| Mean Accuracy | 0.8922600626945496 |\n",
      "+---------------+--------------------+\n"
     ]
    }
   ],
   "source": [
    "results = compute_results(res)\n",
    "print(results)"
   ]
  },
  {
   "cell_type": "code",
   "execution_count": null,
   "id": "4fe9e1a9-6f21-49dc-9514-03f64c3f7e63",
   "metadata": {
    "scrolled": true
   },
   "outputs": [],
   "source": [
    "# 3Dvit_16 - version 1 ; model trained with centering strategy\n",
    "res = E2E_model_evaluation(model_name=\"3Dvit_16_18\", depth=5, version=\"v1\")"
   ]
  },
  {
   "cell_type": "code",
   "execution_count": 27,
   "id": "a9c7b2ec-0fe7-4f16-b109-50922a983721",
   "metadata": {},
   "outputs": [
    {
     "name": "stdout",
     "output_type": "stream",
     "text": [
      "+---------------+--------------------+\n",
      "| Fold          | Accuracy           |\n",
      "+---------------+--------------------+\n",
      "| Fold fold_1   | 0.8947368264198303 |\n",
      "| Fold fold_2   | 0.8888888955116272 |\n",
      "| Fold fold_3   | 0.8888888955116272 |\n",
      "| Fold fold_4   | 0.9064327478408813 |\n",
      "| Fold fold_5   | 0.8941176533699036 |\n",
      "| Mean Accuracy | 0.8946130037307739 |\n",
      "+---------------+--------------------+\n"
     ]
    }
   ],
   "source": [
    "results = compute_results(res)\n",
    "print(results)"
   ]
  },
  {
   "cell_type": "code",
   "execution_count": null,
   "id": "a8e27604-02b8-456d-8856-da424d73223b",
   "metadata": {
    "scrolled": true
   },
   "outputs": [],
   "source": [
    "# 3Dvit_16 - version 1 ; model trained with centering strategy\n",
    "res = E2E_model_evaluation(model_name=\"3Dvit_16_18\", depth=5, version=\"v2\")"
   ]
  },
  {
   "cell_type": "code",
   "execution_count": 29,
   "id": "c175683c-aa4b-4ba6-bac7-a3cdb8a890e7",
   "metadata": {},
   "outputs": [
    {
     "name": "stdout",
     "output_type": "stream",
     "text": [
      "+---------------+--------------------+\n",
      "| Fold          | Accuracy           |\n",
      "+---------------+--------------------+\n",
      "| Fold fold_1   | 0.8947368264198303 |\n",
      "| Fold fold_2   | 0.8771929740905762 |\n",
      "| Fold fold_3   | 0.8947368264198303 |\n",
      "| Fold fold_4   | 0.8888888955116272 |\n",
      "| Fold fold_5   | 0.8823529481887817 |\n",
      "| Mean Accuracy | 0.8875816941261292 |\n",
      "+---------------+--------------------+\n"
     ]
    }
   ],
   "source": [
    "results = compute_results(res)\n",
    "print(results)"
   ]
  },
  {
   "cell_type": "code",
   "execution_count": null,
   "id": "96b8644a-fd52-4954-a035-5bdcdb9b2909",
   "metadata": {},
   "outputs": [],
   "source": []
  },
  {
   "cell_type": "code",
   "execution_count": null,
   "id": "2e9a7520-d343-4046-b4f3-7c5028b126f6",
   "metadata": {},
   "outputs": [],
   "source": []
  },
  {
   "cell_type": "code",
   "execution_count": null,
   "id": "71e50cbc-933f-442c-b7c0-d2d3c004930a",
   "metadata": {},
   "outputs": [],
   "source": []
  },
  {
   "cell_type": "code",
   "execution_count": null,
   "id": "a9a5e023-8f89-46de-9909-320211345abf",
   "metadata": {},
   "outputs": [],
   "source": []
  },
  {
   "cell_type": "markdown",
   "id": "06f5a764-b5ee-4a73-bff7-b1f09fbc8b73",
   "metadata": {
    "jp-MarkdownHeadingCollapsed": true
   },
   "source": [
    "## Finetuning biomarker regression model - TO DO !!"
   ]
  },
  {
   "cell_type": "markdown",
   "id": "428646fa-6b83-4397-b5a5-7a4e4e4b3237",
   "metadata": {},
   "source": [
    "Fitting standard scaler for concepts z-score normalization:"
   ]
  },
  {
   "cell_type": "code",
   "execution_count": 9,
   "id": "28bda325-79ef-4164-bf82-1b3f508599f5",
   "metadata": {},
   "outputs": [],
   "source": [
    "from sklearn.preprocessing import StandardScaler\n",
    "\n",
    "with open(subsets_saving_path+\"/\"+\"y_train.pkl\", 'rb') as f:\n",
    "    biomarkers = pickle.load(f).iloc[:, 1:].to_numpy() #without targets\n",
    "\n",
    "SCALER = StandardScaler().fit(biomarkers)\n",
    "with open(subsets_saving_path+\"/\"+\"scaler.pkl\", 'wb') as f:\n",
    "    pickle.dump(SCALER, f)"
   ]
  },
  {
   "cell_type": "code",
   "execution_count": 12,
   "id": "f22709d4-0e53-4ebe-b2a7-7bd301d211d9",
   "metadata": {},
   "outputs": [],
   "source": [
    "with open(subsets_saving_path+\"/\"+\"y_train.pkl\", 'rb') as f:\n",
    "    biomarkers = pickle.load(f).iloc[:, 1:] #without targets"
   ]
  },
  {
   "cell_type": "code",
   "execution_count": 14,
   "id": "0bc182ea-f94f-4fa3-902f-003abea0a98e",
   "metadata": {},
   "outputs": [
    {
     "data": {
      "text/html": [
       "<div>\n",
       "<style scoped>\n",
       "    .dataframe tbody tr th:only-of-type {\n",
       "        vertical-align: middle;\n",
       "    }\n",
       "\n",
       "    .dataframe tbody tr th {\n",
       "        vertical-align: top;\n",
       "    }\n",
       "\n",
       "    .dataframe thead th {\n",
       "        text-align: right;\n",
       "    }\n",
       "</style>\n",
       "<table border=\"1\" class=\"dataframe\">\n",
       "  <thead>\n",
       "    <tr style=\"text-align: right;\">\n",
       "      <th></th>\n",
       "      <th>subtlety</th>\n",
       "      <th>calcification</th>\n",
       "      <th>margin</th>\n",
       "      <th>lobulation</th>\n",
       "      <th>spiculation</th>\n",
       "      <th>diameter</th>\n",
       "      <th>texture</th>\n",
       "      <th>sphericity</th>\n",
       "    </tr>\n",
       "  </thead>\n",
       "  <tbody>\n",
       "    <tr>\n",
       "      <th>739</th>\n",
       "      <td>4.750000</td>\n",
       "      <td>3.750000</td>\n",
       "      <td>4.750000</td>\n",
       "      <td>1.250000</td>\n",
       "      <td>1.250000</td>\n",
       "      <td>9.563974</td>\n",
       "      <td>5.000000</td>\n",
       "      <td>4.500000</td>\n",
       "    </tr>\n",
       "    <tr>\n",
       "      <th>212</th>\n",
       "      <td>3.666667</td>\n",
       "      <td>5.333333</td>\n",
       "      <td>4.000000</td>\n",
       "      <td>1.666667</td>\n",
       "      <td>1.666667</td>\n",
       "      <td>6.950641</td>\n",
       "      <td>5.000000</td>\n",
       "      <td>4.000000</td>\n",
       "    </tr>\n",
       "    <tr>\n",
       "      <th>701</th>\n",
       "      <td>5.000000</td>\n",
       "      <td>6.000000</td>\n",
       "      <td>3.000000</td>\n",
       "      <td>2.750000</td>\n",
       "      <td>2.500000</td>\n",
       "      <td>38.389619</td>\n",
       "      <td>3.500000</td>\n",
       "      <td>3.000000</td>\n",
       "    </tr>\n",
       "    <tr>\n",
       "      <th>453</th>\n",
       "      <td>3.000000</td>\n",
       "      <td>6.000000</td>\n",
       "      <td>3.666667</td>\n",
       "      <td>1.000000</td>\n",
       "      <td>1.000000</td>\n",
       "      <td>7.505375</td>\n",
       "      <td>2.666667</td>\n",
       "      <td>3.333333</td>\n",
       "    </tr>\n",
       "    <tr>\n",
       "      <th>359</th>\n",
       "      <td>4.000000</td>\n",
       "      <td>4.500000</td>\n",
       "      <td>4.250000</td>\n",
       "      <td>3.000000</td>\n",
       "      <td>1.250000</td>\n",
       "      <td>10.479321</td>\n",
       "      <td>5.000000</td>\n",
       "      <td>2.500000</td>\n",
       "    </tr>\n",
       "  </tbody>\n",
       "</table>\n",
       "</div>"
      ],
      "text/plain": [
       "     subtlety  calcification    margin  lobulation  spiculation   diameter  \\\n",
       "739  4.750000       3.750000  4.750000    1.250000     1.250000   9.563974   \n",
       "212  3.666667       5.333333  4.000000    1.666667     1.666667   6.950641   \n",
       "701  5.000000       6.000000  3.000000    2.750000     2.500000  38.389619   \n",
       "453  3.000000       6.000000  3.666667    1.000000     1.000000   7.505375   \n",
       "359  4.000000       4.500000  4.250000    3.000000     1.250000  10.479321   \n",
       "\n",
       "      texture  sphericity  \n",
       "739  5.000000    4.500000  \n",
       "212  5.000000    4.000000  \n",
       "701  3.500000    3.000000  \n",
       "453  2.666667    3.333333  \n",
       "359  5.000000    2.500000  "
      ]
     },
     "execution_count": 14,
     "metadata": {},
     "output_type": "execute_result"
    }
   ],
   "source": [
    "biomarkers.head()"
   ]
  },
  {
   "cell_type": "code",
   "execution_count": 21,
   "id": "eb5d6c60-039e-4339-99ed-fe39f646ca97",
   "metadata": {},
   "outputs": [
    {
     "data": {
      "text/plain": [
       "array([ 4.17086039,  5.48092532,  4.08928571,  1.82467532,  1.70941558,\n",
       "       13.31841242,  4.61268939,  3.8045184 ])"
      ]
     },
     "execution_count": 21,
     "metadata": {},
     "output_type": "execute_result"
    }
   ],
   "source": [
    "SCALER.mean_"
   ]
  },
  {
   "cell_type": "code",
   "execution_count": 22,
   "id": "9e2c2447-3552-433c-88c3-2d4e28cd3d03",
   "metadata": {},
   "outputs": [
    {
     "data": {
      "text/plain": [
       "array([ 0.53394931,  0.97568008,  0.6879606 ,  0.67164221,  0.79473187,\n",
       "       64.95064945,  0.57377973,  0.42182257])"
      ]
     },
     "execution_count": 22,
     "metadata": {},
     "output_type": "execute_result"
    }
   ],
   "source": [
    "SCALER.var_"
   ]
  },
  {
   "cell_type": "markdown",
   "id": "e75c5994-cf24-45df-b0fb-17cd1f12fd44",
   "metadata": {},
   "source": [
    "Finetuning was performed using slurm queuing system on the one GPU. To train model I have used python script `train_biomarker.py`."
   ]
  },
  {
   "cell_type": "markdown",
   "id": "8abba0a0-185f-4342-b3f3-2c83584fde09",
   "metadata": {},
   "source": [
    "Training was performed with 50 epochs and I tried following sets of key hiperparameters: \n",
    "<br>\n",
    "**1.** **ViT_biom_1**, 10 trainable layers, dropout=0.0 (all dropout layers), lr=3e-4 (exponential decay, $\\beta=0.95$) \n",
    "<br>\n",
    "**2.** **ViT_biom_2**, 20 trainable layers, dropout=0.0 (all dropout layers), lr=3e-4 (exponential decay, $\\beta=0.95$) \n",
    "<br>\n",
    "**3.** **ViT_biom_3**, 20 trainable layers, dropout=0.01 (all dropout layers), lr=3e-4 (exponential decay, $\\beta=0.95$) \n",
    "<br>\n",
    "**4.** **ViT_biom_4**, 30 trainable layers, dropout=0.01 (all dropout layers), lr=3e-4 (exponential decay, $\\beta=0.95$) \n",
    "<br>\n",
    "**5.** **ViT_biom_5**, 30 trainable layers, dropout=0.005 (all dropout layers), lr=3e-4 (exponential decay, $\\beta=0.95$) \n",
    "<br>\n",
    "**6.** **ViT_biom_6**, 40 trainable layers, dropout=0.0 (all dropout layers), lr=3e-4 (exponential decay, $\\beta=0.95$) \n",
    "<br>\n",
    "**7.** **ViT_biom_7**, 40 trainable layers, dropout=0.01 (all dropout layers), lr=3e-4 (exponential decay, $\\beta=0.95$) \n",
    "<br>\n",
    "**8.** **ViT_biom_8**, 40 trainable layers, dropout=0.005 (all dropout layers), lr=3e-4 (exponential decay, $\\beta=0.95$) \n",
    "<br>\n",
    "**9.** **ViT_biom_9**, 50 trainable layers, dropout=0.0 (all dropout layers), lr=3e-4 (exponential decay, $\\beta=0.95$)\n",
    "<br>\n",
    "**10.** **ViT_biom_10**, 50 trainable layers, dropout=0.01 (all dropout layers), lr=3e-4 (exponential decay, $\\beta=0.95$)\n",
    "<br>\n",
    "**11.** **ViT_biom_11**, 50 trainable layers, dropout=0.005 (all dropout layers), lr=3e-4 (exponential decay, $\\beta=0.95$)\n",
    "<br>\n",
    "**12.** **ViT_biom_12**, 50 trainable layers, dropout=0.003 (all dropout layers), lr=3e-4 (exponential decay, $\\beta=0.95$)\n",
    "<br>\n",
    "**13.** **ViT_biom_13**, 60 trainable layers, dropout=0.005 (all dropout layers), lr=3e-4 (exponential decay, $\\beta=0.95$)\n",
    "<br>\n",
    "**14.** **ViT_biom_14**, 60 trainable layers, dropout=0.0 (all dropout layers), lr=3e-4 (exponential decay, $\\beta=0.95$)\n",
    "<br>\n",
    "**15.** **ViT_biom_15**, 60 trainable layers, dropout=0.003 (all dropout layers), lr=3e-4 (exponential decay, $\\beta=0.95$)\n",
    "<br>"
   ]
  },
  {
   "cell_type": "markdown",
   "id": "8524e17f-3a7e-41ce-8b77-40e85722b501",
   "metadata": {},
   "source": [
    "After having look on validation MSE curves I chosen top 5 models with best validation MSE:  \n",
    "**ViT_biom_13**, **ViT_biom_11**, **ViT_biom_10**, **ViT_biom_4**, **ViT_biom_8**"
   ]
  },
  {
   "cell_type": "markdown",
   "id": "e5ba2527-085c-4f5e-bed8-2cfd088c546f",
   "metadata": {
    "jp-MarkdownHeadingCollapsed": true
   },
   "source": [
    "## Biomarker Model evaluation on validation sets - TO DO !!"
   ]
  },
  {
   "cell_type": "code",
   "execution_count": 5,
   "id": "c0baef52-00b6-4518-a839-077010cbb22b",
   "metadata": {},
   "outputs": [],
   "source": [
    "with open(datapath+\"/splitted_sets\"+\"/\"+\"fitted_mean_std.pkl\", 'rb') as f:\n",
    "    dict_ = pickle.load(f)\n",
    "with open(datapath+\"/splitted_sets\"+\"/\"+\"scaler.pkl\", 'rb') as f:\n",
    "    SCALER = pickle.load(f)\n",
    "    \n",
    "MEAN = dict_[\"mean\"]\n",
    "STD = dict_[\"std\"]"
   ]
  },
  {
   "cell_type": "code",
   "execution_count": 35,
   "id": "6a3866ed-b081-438f-abf4-adf664cc0aa0",
   "metadata": {},
   "outputs": [],
   "source": [
    "def biom_model_evaluation(checkpoint_name):\n",
    "    device=\"cuda\"\n",
    "    \n",
    "    test_transform = transforms.Compose([\n",
    "        transforms.Resize(256, interpolation=3),\n",
    "        transforms.CenterCrop(224),\n",
    "        transforms.Normalize(mean=MEAN, std=STD),\n",
    "    ])\n",
    "    ds_test = LIDC_Dataset_biom(\n",
    "                    datadir=datapath,\n",
    "                    transform=test_transform,\n",
    "                    label_transform=SCALER,\n",
    "                    mode=\"test\"\n",
    "                )\n",
    "    test_loader = torch.utils.data.DataLoader(ds_test, shuffle=False, batch_size=16, num_workers=8)\n",
    "    model = Biomarker_Model.load_from_checkpoint(f\"checkpoints/Biomarkers/{checkpoint_name}\").to(device)\n",
    "    \n",
    "    torch.set_float32_matmul_precision('medium')\n",
    "    trainer = pl.Trainer(accelerator=\"gpu\", devices=1, precision=\"16-mixed\")\n",
    "    model.eval()\n",
    "    res = trainer.test(model, dataloaders=test_loader)\n",
    "    return res\n",
    "\n",
    "\n",
    "def evaluation_wrapper_biom(model_nr:int):\n",
    "    MSE = []\n",
    "    for _ in range(10):\n",
    "        res = biom_model_evaluation(f\"best-checkpoint_{model_nr}.ckpt\")\n",
    "        MSE.append(res[0]['test_mse'])\n",
    "    MSE = np.array(MSE)\n",
    "    return np.mean(MSE), np.std(MSE)"
   ]
  },
  {
   "cell_type": "code",
   "execution_count": null,
   "id": "3b3d8c22-58e6-4fda-85fb-cc3145a1e0b6",
   "metadata": {
    "scrolled": true
   },
   "outputs": [],
   "source": [
    "# ViT_biom_13\n",
    "mean_mse, std = evaluation_wrapper_biom(model_nr=13)"
   ]
  },
  {
   "cell_type": "code",
   "execution_count": 37,
   "id": "207ba3f6-6b46-4bee-959a-de7d94318cee",
   "metadata": {},
   "outputs": [
    {
     "name": "stdout",
     "output_type": "stream",
     "text": [
      "Mean MSE: 0.5773425161838531, standard deviation: 0.03359373442852333\n"
     ]
    }
   ],
   "source": [
    "print(f\"Mean MSE: {mean_mse}, standard deviation: {std}\")"
   ]
  },
  {
   "cell_type": "code",
   "execution_count": null,
   "id": "92b22cb8-53ee-4a79-8edb-b913b12a7e1b",
   "metadata": {
    "scrolled": true
   },
   "outputs": [],
   "source": [
    "# ViT_biom_11\n",
    "mean_mse, std = evaluation_wrapper_biom(model_nr=11)"
   ]
  },
  {
   "cell_type": "code",
   "execution_count": 39,
   "id": "31bf82cc-b594-419a-9b68-57891b2b9062",
   "metadata": {},
   "outputs": [
    {
     "name": "stdout",
     "output_type": "stream",
     "text": [
      "Mean MSE: 0.5906020283699036, standard deviation: 0.028045997638796182\n"
     ]
    }
   ],
   "source": [
    "print(f\"Mean MSE: {mean_mse}, standard deviation: {std}\")"
   ]
  },
  {
   "cell_type": "code",
   "execution_count": null,
   "id": "d0065772-c7bd-47a3-814b-bbcb5b8902c6",
   "metadata": {
    "scrolled": true
   },
   "outputs": [],
   "source": [
    "# ViT_biom_10\n",
    "mean_mse, std = evaluation_wrapper_biom(model_nr=10)"
   ]
  },
  {
   "cell_type": "code",
   "execution_count": 41,
   "id": "2324330a-e320-45b0-9700-94a393eaa2e4",
   "metadata": {},
   "outputs": [
    {
     "name": "stdout",
     "output_type": "stream",
     "text": [
      "Mean MSE: 0.6141557216644287, standard deviation: 0.028909996747307744\n"
     ]
    }
   ],
   "source": [
    "print(f\"Mean MSE: {mean_mse}, standard deviation: {std}\")"
   ]
  },
  {
   "cell_type": "code",
   "execution_count": null,
   "id": "fcb9e6ec-d987-45be-a924-3e6c1f50568a",
   "metadata": {
    "scrolled": true
   },
   "outputs": [],
   "source": [
    "# ViT_biom_4\n",
    "mean_mse, std = evaluation_wrapper_biom(model_nr=4)"
   ]
  },
  {
   "cell_type": "code",
   "execution_count": 43,
   "id": "4e97a192-79d5-4a14-985f-0869465e00d9",
   "metadata": {},
   "outputs": [
    {
     "name": "stdout",
     "output_type": "stream",
     "text": [
      "Mean MSE: 0.623276162147522, standard deviation: 0.023270278423259114\n"
     ]
    }
   ],
   "source": [
    "print(f\"Mean MSE: {mean_mse}, standard deviation: {std}\")"
   ]
  },
  {
   "cell_type": "code",
   "execution_count": null,
   "id": "2b268dc8-4a9e-4574-ba9b-7f3cacabb067",
   "metadata": {
    "scrolled": true
   },
   "outputs": [],
   "source": [
    "# ViT_biom_8\n",
    "mean_mse, std = evaluation_wrapper_biom(model_nr=8)"
   ]
  },
  {
   "cell_type": "code",
   "execution_count": 45,
   "id": "a9b9667f-e084-4b12-a432-54409791e1b8",
   "metadata": {},
   "outputs": [
    {
     "name": "stdout",
     "output_type": "stream",
     "text": [
      "Mean MSE: 0.5965319812297821, standard deviation: 0.02622306491194194\n"
     ]
    }
   ],
   "source": [
    "print(f\"Mean MSE: {mean_mse}, standard deviation: {std}\")"
   ]
  },
  {
   "cell_type": "code",
   "execution_count": null,
   "id": "2a916db8-0f64-45f1-88e3-3c0d2e6e5255",
   "metadata": {},
   "outputs": [],
   "source": []
  }
 ],
 "metadata": {
  "kernelspec": {
   "display_name": "Python 3 (ipykernel)",
   "language": "python",
   "name": "python3"
  },
  "language_info": {
   "codemirror_mode": {
    "name": "ipython",
    "version": 3
   },
   "file_extension": ".py",
   "mimetype": "text/x-python",
   "name": "python",
   "nbconvert_exporter": "python",
   "pygments_lexer": "ipython3",
   "version": "3.10.9"
  }
 },
 "nbformat": 4,
 "nbformat_minor": 5
}
