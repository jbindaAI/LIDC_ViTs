{
 "cells": [
  {
   "cell_type": "markdown",
   "id": "b76b7613-9740-45b7-9739-2dd1e4ad8989",
   "metadata": {},
   "source": [
    "## Fine-tuning pre-trained ViTs and evaluating them on the LIDC-IDRI dataset."
   ]
  },
  {
   "cell_type": "code",
   "execution_count": 2,
   "id": "292aebee-36e9-4e91-8d9f-ab85e85d73e4",
   "metadata": {},
   "outputs": [],
   "source": [
    "from pathlib import Path\n",
    "import pandas as pd\n",
    "from sklearn.model_selection import StratifiedKFold\n",
    "from sklearn.preprocessing import StandardScaler\n",
    "import pickle\n",
    "import torch\n",
    "from torchvision import transforms\n",
    "from pytorch_lightning import Trainer\n",
    "import pytorch_lightning as pl\n",
    "import numpy as np\n",
    "from typing import Optional, Dict\n",
    "from prettytable import PrettyTable"
   ]
  },
  {
   "cell_type": "code",
   "execution_count": 5,
   "id": "a67e7e91-c2ea-4db8-b8fe-4464bf73c380",
   "metadata": {
    "scrolled": true
   },
   "outputs": [
    {
     "name": "stdout",
     "output_type": "stream",
     "text": [
      "The autoreload extension is already loaded. To reload it, use:\n",
      "  %reload_ext autoreload\n"
     ]
    }
   ],
   "source": [
    "%load_ext autoreload\n",
    "%autoreload 2\n",
    "    \n",
    "from my_utils.plot_utils import plot_hists\n",
    "from my_utils.norm_factors import compute_norm_factors\n",
    "from End2End_Model import End2End_Model\n",
    "from Biomarker_Model import Biomarker_Model\n",
    "from LIDC_DataModule import DataModule"
   ]
  },
  {
   "cell_type": "markdown",
   "id": "43ff76f4-dbaa-4d90-b3f0-f99fd489fbd1",
   "metadata": {},
   "source": [
    "### Dividing dataset into three sets: training, validation and test sets."
   ]
  },
  {
   "cell_type": "code",
   "execution_count": 6,
   "id": "b091f3ca-054e-4698-b07b-802b6e268fe9",
   "metadata": {},
   "outputs": [],
   "source": [
    "# Paths\n",
    "local = False\n",
    "if local:\n",
    "    datapath = \"/home/jbinda/INFORM/LIDC/dataset/\"\n",
    "    subsets_saving_path = \"/home/jbinda/INFORM/LIDC_ViTs/dataset/splitted_sets/\"\n",
    "    checkpoints_path=\"/home/jbinda/INFORM/LIDC_ViTs/ckpt/\"\n",
    "    Path(subsets_saving_path).mkdir(parents=True, exist_ok=True)\n",
    "else:\n",
    "    datapath = \"/home/dzban112/LIDC_ViTs/dataset/\"\n",
    "    subsets_saving_path = \"/home/dzban112/LIDC_ViTs/dataset/splitted_sets/\"\n",
    "    checkpoints_path=\"/home/dzban112/LIDC_ViTs/ckpt/\"\n",
    "    Path(subsets_saving_path).mkdir(parents=True, exist_ok=True)"
   ]
  },
  {
   "cell_type": "code",
   "execution_count": 7,
   "id": "991502ac-ed27-4e45-a3ae-6cabbc611445",
   "metadata": {},
   "outputs": [],
   "source": [
    "#Reading all annotations and extracting paths, target: benign, malignant.\n",
    "df = pd.read_pickle(f\"{datapath}/ALL_annotations_df.pkl\")"
   ]
  },
  {
   "cell_type": "code",
   "execution_count": 8,
   "id": "04ffc878-30f1-4139-b773-c0a8c5dffeb1",
   "metadata": {},
   "outputs": [],
   "source": [
    "skf = StratifiedKFold(n_splits=5, shuffle=True, random_state=44)\n",
    "folds = skf.split(X=df[\"path\"], y=df[\"target\"])"
   ]
  },
  {
   "cell_type": "code",
   "execution_count": 9,
   "id": "69db924b-2c3c-476f-bee5-0d01ded31c5e",
   "metadata": {},
   "outputs": [],
   "source": [
    "for i, (train_indices, test_indices) in enumerate(folds):\n",
    "    with open(subsets_saving_path+f\"train_fold_{i+1}.pkl\", 'wb') as file:\n",
    "        pickle.dump(list(train_indices), file)\n",
    "    with open(subsets_saving_path+f\"test_fold_{i+1}.pkl\", 'wb') as file:\n",
    "        pickle.dump(list(test_indices), file)"
   ]
  },
  {
   "cell_type": "code",
   "execution_count": 10,
   "id": "d47f2546-fe6e-4ddc-9a49-e83958fdcf61",
   "metadata": {},
   "outputs": [
    {
     "data": {
      "image/png": "[encoded data removed]",
      "text/plain": [
       "<Figure size 750x500 with 2 Axes>"
      ]
     },
     "metadata": {},
     "output_type": "display_data"
    }
   ],
   "source": [
    "plot_hists(fold=1, datapath=datapath, subsets_saving_path=subsets_saving_path)"
   ]
  },
  {
   "cell_type": "markdown",
   "id": "566f49da-e7e2-4094-8d0f-45fd2c516e6d",
   "metadata": {},
   "source": [
    "### Computing Normalization Factors"
   ]
  },
  {
   "cell_type": "code",
   "execution_count": 11,
   "id": "9c5c7927-4e9f-4662-8fca-6038098e423b",
   "metadata": {},
   "outputs": [
    {
     "name": "stdout",
     "output_type": "stream",
     "text": [
      "(tensor(-635.5035), tensor(357.7024))\n",
      "(tensor(-630.2654), tensor(359.1476))\n",
      "(tensor(-629.6009), tensor(363.2001))\n",
      "(tensor(-637.0364), tensor(353.1784))\n",
      "(tensor(-633.3669), tensor(357.5357))\n"
     ]
    }
   ],
   "source": [
    "def prepare_norm_factors(n_splits=5):\n",
    "    df = pd.read_pickle(f\"{datapath}/ALL_annotations_df.pkl\")\n",
    "    fitted_factors = {}\n",
    "    for fold in range(1, n_splits+1):\n",
    "        # Computing mean and std of image pixels values.\n",
    "        with open(datapath+f\"/splitted_sets/train_fold_{fold}.pkl\", 'rb') as file:\n",
    "            train_indices = pickle.load(file)\n",
    "            X_train = df.iloc[train_indices][\"path\"]\n",
    "            mean, std = compute_norm_factors(X_train, datapath)\n",
    "            \n",
    "            # Creating instance of biomarker scaler\n",
    "            biomarkers = df.iloc[train_indices][[\"subtlety\", \"calcification\",\n",
    "                                                 \"margin\", \"lobulation\",\n",
    "                                                 \"spiculation\", \"diameter\",\n",
    "                                                 \"texture\", \"sphericity\"]].to_numpy() #without targets\n",
    "            scaler = StandardScaler().fit(biomarkers)\n",
    "\n",
    "            # Saving in dictionary object:\n",
    "            fitted_factors[f\"fold_{fold}\"] = (mean, std, scaler)\n",
    "        \n",
    "\n",
    "    with open(subsets_saving_path+\"/\"+\"fitted_factors.pkl\", 'wb') as f:\n",
    "        pickle.dump(fitted_factors, f)\n",
    "    \n",
    "    return fitted_factors\n",
    "\n",
    "fitted_factors = prepare_norm_factors(n_splits=5)\n",
    "\n",
    "print(fitted_factors[\"fold_1\"][0:2])\n",
    "print(fitted_factors[\"fold_2\"][0:2])\n",
    "print(fitted_factors[\"fold_3\"][0:2])\n",
    "print(fitted_factors[\"fold_4\"][0:2])\n",
    "print(fitted_factors[\"fold_5\"][0:2])"
   ]
  },
  {
   "cell_type": "markdown",
   "id": "8ca3f99c-549f-4586-b5b7-9c2a9ee9966f",
   "metadata": {
    "jp-MarkdownHeadingCollapsed": true
   },
   "source": [
    "## Fine-tuning End2End Model"
   ]
  },
  {
   "cell_type": "markdown",
   "id": "3df6e7b8-1ac8-4b0e-81be-fa5388257e2c",
   "metadata": {},
   "source": [
    "Finetuning was performed with GPU accelaration. To train model I have used python script `train_End2End.py`.\n",
    "Using first fold I have searched for the best hyperparameters and hyperparameters yielding the best model, were used to train model on five folds."
   ]
  },
  {
   "cell_type": "markdown",
   "id": "467855ac-19bb-4914-9372-e195b2c8c6d0",
   "metadata": {},
   "source": [
    "## End2End model evaluation on validation sets"
   ]
  },
  {
   "cell_type": "code",
   "execution_count": 10,
   "id": "5e6664db-8c02-4fbf-a6f8-31ea879b23bd",
   "metadata": {},
   "outputs": [],
   "source": [
    "def E2E_model_evaluation(model_name:str, version:Optional[str]=None):\n",
    "    res={}\n",
    "    for fold in range(1,6):\n",
    "        print(f\"fold: {fold}\")\n",
    "        dm = DataModule(\n",
    "            fold=fold,\n",
    "            datapath=datapath,\n",
    "            batch_size=16,\n",
    "            num_workers=8,\n",
    "            task=\"Classification\"\n",
    "        )\n",
    "\n",
    "        if version is None:\n",
    "            ckpt_path = checkpoints_path+\"End2End/\"+model_name+f\"_{fold}\"+\".ckpt\"\n",
    "        else:\n",
    "            ckpt_path = checkpoints_path+\"End2End/\"+model_name+f\"_{fold}\"+f\"-{version}\"+\".ckpt\"\n",
    "        model = End2End_Model.load_from_checkpoint(ckpt_path)\n",
    "        torch.set_float32_matmul_precision('medium')\n",
    "        trainer = pl.Trainer(accelerator=\"gpu\", devices=1, precision=32, logger=False)\n",
    "        model.eval()\n",
    "        res[f\"fold_{fold}\"] = trainer.test(model, dm)\n",
    "    return res\n",
    "\n",
    "\n",
    "def compute_results(raw_results:Dict[str, list]):\n",
    "    ACC = []\n",
    "    folds = []\n",
    "    mean_ACC = 0\n",
    "    n = 0\n",
    "    for fold in raw_results.keys():\n",
    "        cur_ACC = raw_results[fold][0][\"val_acc\"]\n",
    "        ACC.append(cur_ACC)\n",
    "        folds.append(f\"Fold {fold}\")\n",
    "        mean_ACC += cur_ACC\n",
    "        n += 1\n",
    "    mean_ACC = mean_ACC/n\n",
    "\n",
    "    df = pd.DataFrame({\"Fold\": folds, \"Accuracy\": ACC})\n",
    "    df.loc[len(df)] = ['Mean Accuracy', mean_ACC]\n",
    "    \n",
    "    table = PrettyTable()\n",
    "    table.field_names = df.columns.tolist()\n",
    "\n",
    "    for row in df.itertuples(index=False):\n",
    "        table.add_row(row)\n",
    "\n",
    "    for field in df.columns:\n",
    "        table.align[field] = 'l'\n",
    "    \n",
    "    return table"
   ]
  },
  {
   "cell_type": "markdown",
   "id": "ee668e62-dd32-42c9-8fe3-48dd242ce3e7",
   "metadata": {},
   "source": [
    "#### DINO_vitb8"
   ]
  },
  {
   "cell_type": "code",
   "execution_count": null,
   "id": "b7d006f6-5f0a-4f69-a43d-fff1a7b6ea78",
   "metadata": {
    "scrolled": true
   },
   "outputs": [],
   "source": [
    "# dino_vitb8_38 - version 0\n",
    "res = E2E_model_evaluation(model_name=\"dino_vitb8_38\")"
   ]
  },
  {
   "cell_type": "code",
   "execution_count": 8,
   "id": "3f10ab17-ef85-4b28-a9d9-b9e2b399a6f7",
   "metadata": {},
   "outputs": [
    {
     "name": "stdout",
     "output_type": "stream",
     "text": [
      "+---------------+--------------------+\n",
      "| Fold          | Accuracy           |\n",
      "+---------------+--------------------+\n",
      "| Fold fold_1   | 0.9064327478408813 |\n",
      "| Fold fold_2   | 0.9239766001701355 |\n",
      "| Fold fold_3   | 0.8947368264198303 |\n",
      "| Fold fold_4   | 0.9005848169326782 |\n",
      "| Fold fold_5   | 0.8823529481887817 |\n",
      "| Mean Accuracy | 0.9016167879104614 |\n",
      "+---------------+--------------------+\n"
     ]
    }
   ],
   "source": [
    "results = compute_results(res)\n",
    "print(results)"
   ]
  },
  {
   "cell_type": "code",
   "execution_count": null,
   "id": "cda6e672-8122-4236-9df2-98d1d636419c",
   "metadata": {
    "scrolled": true
   },
   "outputs": [],
   "source": [
    "# dino_vitb8_38 - version v1\n",
    "res = E2E_model_evaluation(model_name=\"dino_vitb8_38\", version=\"v1\")"
   ]
  },
  {
   "cell_type": "code",
   "execution_count": 14,
   "id": "2a05b867-9358-4cd4-9a5b-4d7e40670349",
   "metadata": {},
   "outputs": [
    {
     "name": "stdout",
     "output_type": "stream",
     "text": [
      "+---------------+--------------------+\n",
      "| Fold          | Accuracy           |\n",
      "+---------------+--------------------+\n",
      "| Fold fold_1   | 0.8947368264198303 |\n",
      "| Fold fold_2   | 0.9005848169326782 |\n",
      "| Fold fold_3   | 0.9122806787490845 |\n",
      "| Fold fold_4   | 0.8654970526695251 |\n",
      "| Fold fold_5   | 0.8705882430076599 |\n",
      "| Mean Accuracy | 0.8887375235557556 |\n",
      "+---------------+--------------------+\n"
     ]
    }
   ],
   "source": [
    "results = compute_results(res)\n",
    "print(results)"
   ]
  },
  {
   "cell_type": "code",
   "execution_count": null,
   "id": "1181ed19-2e70-477a-95d2-f20661b3c64b",
   "metadata": {
    "scrolled": true
   },
   "outputs": [],
   "source": [
    "# dino_vitb8_38 - version v2\n",
    "res = E2E_model_evaluation(model_name=\"dino_vitb8_38\", version=\"v2\")"
   ]
  },
  {
   "cell_type": "code",
   "execution_count": 12,
   "id": "214558f9-8138-4960-97e2-81c667bc3116",
   "metadata": {},
   "outputs": [
    {
     "name": "stdout",
     "output_type": "stream",
     "text": [
      "+---------------+--------------------+\n",
      "| Fold          | Accuracy           |\n",
      "+---------------+--------------------+\n",
      "| Fold fold_1   | 0.8830409646034241 |\n",
      "| Fold fold_2   | 0.9005848169326782 |\n",
      "| Fold fold_3   | 0.9122806787490845 |\n",
      "| Fold fold_4   | 0.8771929740905762 |\n",
      "| Fold fold_5   | 0.8882352709770203 |\n",
      "| Mean Accuracy | 0.8922669410705566 |\n",
      "+---------------+--------------------+\n"
     ]
    }
   ],
   "source": [
    "results = compute_results(res)\n",
    "print(results)"
   ]
  },
  {
   "cell_type": "markdown",
   "id": "59b88f59-81b7-4bbd-8c44-3cfafbc54332",
   "metadata": {
    "jp-MarkdownHeadingCollapsed": true
   },
   "source": [
    "#### DINO_vits8"
   ]
  },
  {
   "cell_type": "code",
   "execution_count": null,
   "id": "7c14e13f-e51e-4bfb-b1eb-082b057df314",
   "metadata": {
    "scrolled": true
   },
   "outputs": [],
   "source": [
    "# dino_vits8_39 - version 0\n",
    "res = E2E_model_evaluation(model_name=\"dino_vits8_39\")"
   ]
  },
  {
   "cell_type": "code",
   "execution_count": 16,
   "id": "58e5d6bd-1121-4629-a36c-09e84f48cfce",
   "metadata": {},
   "outputs": [
    {
     "name": "stdout",
     "output_type": "stream",
     "text": [
      "+---------------+--------------------+\n",
      "| Fold          | Accuracy           |\n",
      "+---------------+--------------------+\n",
      "| Fold fold_1   | 0.8888888955116272 |\n",
      "| Fold fold_2   | 0.9181286692619324 |\n",
      "| Fold fold_3   | 0.8888888955116272 |\n",
      "| Fold fold_4   | 0.8830409646034241 |\n",
      "| Fold fold_5   | 0.8764705657958984 |\n",
      "| Mean Accuracy | 0.8910835981369019 |\n",
      "+---------------+--------------------+\n"
     ]
    }
   ],
   "source": [
    "results = compute_results(res)\n",
    "print(results)"
   ]
  },
  {
   "cell_type": "code",
   "execution_count": null,
   "id": "38ea11b8-a611-4eef-ab26-1dc2eb36c4b3",
   "metadata": {
    "scrolled": true
   },
   "outputs": [],
   "source": [
    "# dino_vits8_39 - version v1\n",
    "res = E2E_model_evaluation(model_name=\"dino_vits8_39\", version=\"v1\")"
   ]
  },
  {
   "cell_type": "code",
   "execution_count": 18,
   "id": "b9249732-0845-4a6b-9fc1-b79fce221a43",
   "metadata": {},
   "outputs": [
    {
     "name": "stdout",
     "output_type": "stream",
     "text": [
      "+---------------+--------------------+\n",
      "| Fold          | Accuracy           |\n",
      "+---------------+--------------------+\n",
      "| Fold fold_1   | 0.9122806787490845 |\n",
      "| Fold fold_2   | 0.9064327478408813 |\n",
      "| Fold fold_3   | 0.8888888955116272 |\n",
      "| Fold fold_4   | 0.9181286692619324 |\n",
      "| Fold fold_5   | 0.8588235378265381 |\n",
      "| Mean Accuracy | 0.8969109058380127 |\n",
      "+---------------+--------------------+\n"
     ]
    }
   ],
   "source": [
    "results = compute_results(res)\n",
    "print(results)"
   ]
  },
  {
   "cell_type": "code",
   "execution_count": null,
   "id": "5020a652-76be-4ae2-bfab-d2beb477543c",
   "metadata": {
    "scrolled": true
   },
   "outputs": [],
   "source": [
    "# dino_vits8_39 - version v2\n",
    "res = E2E_model_evaluation(model_name=\"dino_vits8_39\", version=\"v2\")"
   ]
  },
  {
   "cell_type": "code",
   "execution_count": 20,
   "id": "1e6aacad-fbca-47af-9eed-0e12d9696da5",
   "metadata": {},
   "outputs": [
    {
     "name": "stdout",
     "output_type": "stream",
     "text": [
      "+---------------+--------------------+\n",
      "| Fold          | Accuracy           |\n",
      "+---------------+--------------------+\n",
      "| Fold fold_1   | 0.8421052694320679 |\n",
      "| Fold fold_2   | 0.9064327478408813 |\n",
      "| Fold fold_3   | 0.9005848169326782 |\n",
      "| Fold fold_4   | 0.9005848169326782 |\n",
      "| Fold fold_5   | 0.8882352709770203 |\n",
      "| Mean Accuracy | 0.8875885844230652 |\n",
      "+---------------+--------------------+\n"
     ]
    }
   ],
   "source": [
    "results = compute_results(res)\n",
    "print(results)"
   ]
  },
  {
   "cell_type": "markdown",
   "id": "f9061acd-068c-434e-ab71-8577483ce04a",
   "metadata": {
    "jp-MarkdownHeadingCollapsed": true
   },
   "source": [
    "#### DINO_vits16"
   ]
  },
  {
   "cell_type": "code",
   "execution_count": null,
   "id": "a9b63ac3-4890-4dd2-8c84-9bdeb569a8cb",
   "metadata": {},
   "outputs": [],
   "source": [
    "# dino_vits16_32 - version 0\n",
    "res = E2E_model_evaluation(model_name=\"dino_vits16_32\")"
   ]
  },
  {
   "cell_type": "code",
   "execution_count": 21,
   "id": "01bd146e-d983-4b43-a4bc-ebdadaf7049a",
   "metadata": {},
   "outputs": [
    {
     "name": "stdout",
     "output_type": "stream",
     "text": [
      "+---------------+--------------------+\n",
      "| Fold          | Accuracy           |\n",
      "+---------------+--------------------+\n",
      "| Fold fold_1   | 0.9005848169326782 |\n",
      "| Fold fold_2   | 0.8654970526695251 |\n",
      "| Fold fold_3   | 0.871345043182373  |\n",
      "| Fold fold_4   | 0.9005848169326782 |\n",
      "| Fold fold_5   | 0.8941176533699036 |\n",
      "| Mean Accuracy | 0.8864258766174317 |\n",
      "+---------------+--------------------+\n"
     ]
    }
   ],
   "source": [
    "results = compute_results(res)\n",
    "print(results)"
   ]
  },
  {
   "cell_type": "code",
   "execution_count": null,
   "id": "2065e99f-fa0c-4ebd-a010-6c4f6793abd4",
   "metadata": {
    "scrolled": true
   },
   "outputs": [],
   "source": [
    "# dino_vits16_32 - version v1\n",
    "res = E2E_model_evaluation(model_name=\"dino_vits16_32\", version=\"v1\")"
   ]
  },
  {
   "cell_type": "code",
   "execution_count": 17,
   "id": "7ae1acfa-81b0-4fca-a4fc-d4a2958b25a6",
   "metadata": {},
   "outputs": [
    {
     "name": "stdout",
     "output_type": "stream",
     "text": [
      "+---------------+--------------------+\n",
      "| Fold          | Accuracy           |\n",
      "+---------------+--------------------+\n",
      "| Fold fold_1   | 0.9064327478408813 |\n",
      "| Fold fold_2   | 0.9005848169326782 |\n",
      "| Fold fold_3   | 0.8888888955116272 |\n",
      "| Fold fold_4   | 0.871345043182373  |\n",
      "| Fold fold_5   | 0.8941176533699036 |\n",
      "| Mean Accuracy | 0.8922738313674927 |\n",
      "+---------------+--------------------+\n"
     ]
    }
   ],
   "source": [
    "results = compute_results(res)\n",
    "print(results)"
   ]
  },
  {
   "cell_type": "code",
   "execution_count": null,
   "id": "3cc13781-3915-410e-9855-b6b4b9b942ba",
   "metadata": {
    "scrolled": true
   },
   "outputs": [],
   "source": [
    "# dino_vits16_32 - version v2\n",
    "res = E2E_model_evaluation(model_name=\"dino_vits16_32\", version=\"v2\")"
   ]
  },
  {
   "cell_type": "code",
   "execution_count": 23,
   "id": "165f1623-a1dd-457c-99aa-871a01b07090",
   "metadata": {},
   "outputs": [
    {
     "name": "stdout",
     "output_type": "stream",
     "text": [
      "+---------------+--------------------+\n",
      "| Fold          | Accuracy           |\n",
      "+---------------+--------------------+\n",
      "| Fold fold_1   | 0.9239766001701355 |\n",
      "| Fold fold_2   | 0.8830409646034241 |\n",
      "| Fold fold_3   | 0.8654970526695251 |\n",
      "| Fold fold_4   | 0.871345043182373  |\n",
      "| Fold fold_5   | 0.8823529481887817 |\n",
      "| Mean Accuracy | 0.8852425217628479 |\n",
      "+---------------+--------------------+\n"
     ]
    }
   ],
   "source": [
    "results = compute_results(res)\n",
    "print(results)"
   ]
  },
  {
   "cell_type": "markdown",
   "id": "021fa840-3c50-4ad3-8057-687bd3d55ac0",
   "metadata": {
    "jp-MarkdownHeadingCollapsed": true
   },
   "source": [
    "#### DINO_vitb16"
   ]
  },
  {
   "cell_type": "code",
   "execution_count": null,
   "id": "3532e212-a730-47cf-8912-f5d0a014fd6e",
   "metadata": {
    "scrolled": true
   },
   "outputs": [],
   "source": [
    "# dino_vitb16_35 - version 0\n",
    "res = E2E_model_evaluation(model_name=\"dino_vitb16_35\")"
   ]
  },
  {
   "cell_type": "code",
   "execution_count": 8,
   "id": "ef9f331e-7c00-4078-a28d-f283c9f19203",
   "metadata": {},
   "outputs": [
    {
     "name": "stdout",
     "output_type": "stream",
     "text": [
      "+---------------+--------------------+\n",
      "| Fold          | Accuracy           |\n",
      "+---------------+--------------------+\n",
      "| Fold fold_1   | 0.8888888955116272 |\n",
      "| Fold fold_2   | 0.9122806787490845 |\n",
      "| Fold fold_3   | 0.859649121761322  |\n",
      "| Fold fold_4   | 0.9181286692619324 |\n",
      "| Fold fold_5   | 0.8999999761581421 |\n",
      "| Mean Accuracy | 0.8957894682884217 |\n",
      "+---------------+--------------------+\n"
     ]
    }
   ],
   "source": [
    "results = compute_results(res)\n",
    "print(results)"
   ]
  },
  {
   "cell_type": "code",
   "execution_count": null,
   "id": "14297155-130b-4e38-8f97-ae9bed924bb5",
   "metadata": {
    "scrolled": true
   },
   "outputs": [],
   "source": [
    "# dino_vitb16_35 - version v1\n",
    "res = E2E_model_evaluation(model_name=\"dino_vitb16_35\", version=\"v1\")"
   ]
  },
  {
   "cell_type": "code",
   "execution_count": 10,
   "id": "fdace0ad-5abe-49a1-b280-41571948881c",
   "metadata": {},
   "outputs": [
    {
     "name": "stdout",
     "output_type": "stream",
     "text": [
      "+---------------+--------------------+\n",
      "| Fold          | Accuracy           |\n",
      "+---------------+--------------------+\n",
      "| Fold fold_1   | 0.9064327478408813 |\n",
      "| Fold fold_2   | 0.8947368264198303 |\n",
      "| Fold fold_3   | 0.859649121761322  |\n",
      "| Fold fold_4   | 0.9239766001701355 |\n",
      "| Fold fold_5   | 0.8823529481887817 |\n",
      "| Mean Accuracy | 0.8934296488761901 |\n",
      "+---------------+--------------------+\n"
     ]
    }
   ],
   "source": [
    "results = compute_results(res)\n",
    "print(results)"
   ]
  },
  {
   "cell_type": "code",
   "execution_count": null,
   "id": "a9c81b0b-faec-4e7e-a8f6-3346d520a367",
   "metadata": {
    "scrolled": true
   },
   "outputs": [],
   "source": [
    "# dino_vitb16_35 - version v2\n",
    "res = E2E_model_evaluation(model_name=\"dino_vitb16_35\", version=\"v2\")"
   ]
  },
  {
   "cell_type": "code",
   "execution_count": 12,
   "id": "e8a69e5c-db1a-421f-b6be-25e5c3a445b8",
   "metadata": {},
   "outputs": [
    {
     "name": "stdout",
     "output_type": "stream",
     "text": [
      "+---------------+--------------------+\n",
      "| Fold          | Accuracy           |\n",
      "+---------------+--------------------+\n",
      "| Fold fold_1   | 0.9239766001701355 |\n",
      "| Fold fold_2   | 0.8888888955116272 |\n",
      "| Fold fold_3   | 0.8654970526695251 |\n",
      "| Fold fold_4   | 0.8888888955116272 |\n",
      "| Fold fold_5   | 0.8764705657958984 |\n",
      "| Mean Accuracy | 0.8887444019317627 |\n",
      "+---------------+--------------------+\n"
     ]
    }
   ],
   "source": [
    "results = compute_results(res)\n",
    "print(results)"
   ]
  },
  {
   "cell_type": "markdown",
   "id": "6c2cdeec-5b89-45bf-8bc4-7f9827a58dad",
   "metadata": {
    "jp-MarkdownHeadingCollapsed": true
   },
   "source": [
    "#### DINOv2_vitb14"
   ]
  },
  {
   "cell_type": "code",
   "execution_count": null,
   "id": "a5431233-ad75-43d2-a2ed-0b187e5f0ef5",
   "metadata": {
    "scrolled": true
   },
   "outputs": [],
   "source": [
    "# dinov2_vitb14_reg_1 - version 0\n",
    "res = E2E_model_evaluation(model_name=\"dinov2_vitb14_reg_1\")"
   ]
  },
  {
   "cell_type": "code",
   "execution_count": 7,
   "id": "e31f8d40-2950-4e53-9558-249aa0a8c1ce",
   "metadata": {},
   "outputs": [
    {
     "name": "stdout",
     "output_type": "stream",
     "text": [
      "+---------------+--------------------+\n",
      "| Fold          | Accuracy           |\n",
      "+---------------+--------------------+\n",
      "| Fold fold_1   | 0.9181286692619324 |\n",
      "| Fold fold_2   | 0.8888888955116272 |\n",
      "| Fold fold_3   | 0.9181286692619324 |\n",
      "| Fold fold_4   | 0.9064327478408813 |\n",
      "| Fold fold_5   | 0.8882352709770203 |\n",
      "| Mean Accuracy | 0.9039628505706787 |\n",
      "+---------------+--------------------+\n"
     ]
    }
   ],
   "source": [
    "results = compute_results(res)\n",
    "print(results)"
   ]
  },
  {
   "cell_type": "code",
   "execution_count": null,
   "id": "adf523f0-7202-4fdc-a9d6-1ecbe9f8ce95",
   "metadata": {
    "scrolled": true
   },
   "outputs": [],
   "source": [
    "# dinov2_vitb14_reg_1 - version v1\n",
    "res = E2E_model_evaluation(model_name=\"dinov2_vitb14_reg_1\", version=\"v1\")"
   ]
  },
  {
   "cell_type": "code",
   "execution_count": 10,
   "id": "ede435a3-376e-40d0-b22c-ca7cc9a09763",
   "metadata": {},
   "outputs": [
    {
     "name": "stdout",
     "output_type": "stream",
     "text": [
      "+---------------+--------------------+\n",
      "| Fold          | Accuracy           |\n",
      "+---------------+--------------------+\n",
      "| Fold fold_1   | 0.8830409646034241 |\n",
      "| Fold fold_2   | 0.8947368264198303 |\n",
      "| Fold fold_3   | 0.8888888955116272 |\n",
      "| Fold fold_4   | 0.9122806787490845 |\n",
      "| Fold fold_5   | 0.8705882430076599 |\n",
      "| Mean Accuracy | 0.8899071216583252 |\n",
      "+---------------+--------------------+\n"
     ]
    }
   ],
   "source": [
    "results = compute_results(res)\n",
    "print(results)"
   ]
  },
  {
   "cell_type": "code",
   "execution_count": null,
   "id": "ed134cd1-ca7c-4b9a-85f2-4ef4f2bdaca2",
   "metadata": {
    "scrolled": true
   },
   "outputs": [],
   "source": [
    "# dinov2_vitb14_reg_1 - version v2\n",
    "res = E2E_model_evaluation(model_name=\"dinov2_vitb14_reg_1\", version=\"v2\")"
   ]
  },
  {
   "cell_type": "code",
   "execution_count": 12,
   "id": "f3eb58a9-2761-420a-91dd-b5e1c69cd329",
   "metadata": {},
   "outputs": [
    {
     "name": "stdout",
     "output_type": "stream",
     "text": [
      "+---------------+--------------------+\n",
      "| Fold          | Accuracy           |\n",
      "+---------------+--------------------+\n",
      "| Fold fold_1   | 0.8888888955116272 |\n",
      "| Fold fold_2   | 0.8947368264198303 |\n",
      "| Fold fold_3   | 0.9064327478408813 |\n",
      "| Fold fold_4   | 0.8888888955116272 |\n",
      "| Fold fold_5   | 0.8999999761581421 |\n",
      "| Mean Accuracy | 0.8957894682884217 |\n",
      "+---------------+--------------------+\n"
     ]
    }
   ],
   "source": [
    "results = compute_results(res)\n",
    "print(results)"
   ]
  },
  {
   "cell_type": "markdown",
   "id": "49167bb8-4e92-4efc-b80d-52df49c83da1",
   "metadata": {
    "jp-MarkdownHeadingCollapsed": true
   },
   "source": [
    "#### DINOv2_vits14_reg_4"
   ]
  },
  {
   "cell_type": "code",
   "execution_count": null,
   "id": "b06f7ebc-b3db-41d7-ad69-480379182b3a",
   "metadata": {
    "scrolled": true
   },
   "outputs": [],
   "source": [
    "# dinov2_vits14_reg_4 - version 0\n",
    "res = E2E_model_evaluation(model_name=\"dinov2_vits14_reg_4\")"
   ]
  },
  {
   "cell_type": "code",
   "execution_count": 14,
   "id": "a03a83a2-94c2-44bc-9622-9c6ed3e7ba07",
   "metadata": {},
   "outputs": [
    {
     "name": "stdout",
     "output_type": "stream",
     "text": [
      "+---------------+--------------------+\n",
      "| Fold          | Accuracy           |\n",
      "+---------------+--------------------+\n",
      "| Fold fold_1   | 0.9005848169326782 |\n",
      "| Fold fold_2   | 0.9122806787490845 |\n",
      "| Fold fold_3   | 0.8771929740905762 |\n",
      "| Fold fold_4   | 0.9064327478408813 |\n",
      "| Fold fold_5   | 0.8764705657958984 |\n",
      "| Mean Accuracy | 0.8945923566818237 |\n",
      "+---------------+--------------------+\n"
     ]
    }
   ],
   "source": [
    "results = compute_results(res)\n",
    "print(results)"
   ]
  },
  {
   "cell_type": "code",
   "execution_count": null,
   "id": "4a48afdb-f260-4f70-88af-8840e81ff9ef",
   "metadata": {
    "scrolled": true
   },
   "outputs": [],
   "source": [
    "# dinov2_vits14_reg_4 - version v1\n",
    "res = E2E_model_evaluation(model_name=\"dinov2_vits14_reg_4\", version=\"v1\")"
   ]
  },
  {
   "cell_type": "code",
   "execution_count": 16,
   "id": "e5c29c80-092d-44cb-ac50-bc83bb4d5d71",
   "metadata": {},
   "outputs": [
    {
     "name": "stdout",
     "output_type": "stream",
     "text": [
      "+---------------+--------------------+\n",
      "| Fold          | Accuracy           |\n",
      "+---------------+--------------------+\n",
      "| Fold fold_1   | 0.9064327478408813 |\n",
      "| Fold fold_2   | 0.8947368264198303 |\n",
      "| Fold fold_3   | 0.8947368264198303 |\n",
      "| Fold fold_4   | 0.9181286692619324 |\n",
      "| Fold fold_5   | 0.8705882430076599 |\n",
      "| Mean Accuracy | 0.8969246625900269 |\n",
      "+---------------+--------------------+\n"
     ]
    }
   ],
   "source": [
    "results = compute_results(res)\n",
    "print(results)"
   ]
  },
  {
   "cell_type": "code",
   "execution_count": null,
   "id": "24796ac1-0c60-456a-ad21-dcd825569fa1",
   "metadata": {
    "scrolled": true
   },
   "outputs": [],
   "source": [
    "# dinov2_vits14_reg_4 - version v2\n",
    "res = E2E_model_evaluation(model_name=\"dinov2_vits14_reg_4\", version=\"v2\")"
   ]
  },
  {
   "cell_type": "code",
   "execution_count": 18,
   "id": "8e5a5bd8-90e0-4c15-897f-8c75d804750f",
   "metadata": {},
   "outputs": [
    {
     "name": "stdout",
     "output_type": "stream",
     "text": [
      "+---------------+--------------------+\n",
      "| Fold          | Accuracy           |\n",
      "+---------------+--------------------+\n",
      "| Fold fold_1   | 0.8947368264198303 |\n",
      "| Fold fold_2   | 0.8830409646034241 |\n",
      "| Fold fold_3   | 0.8830409646034241 |\n",
      "| Fold fold_4   | 0.9122806787490845 |\n",
      "| Fold fold_5   | 0.8882352709770203 |\n",
      "| Mean Accuracy | 0.8922669410705566 |\n",
      "+---------------+--------------------+\n"
     ]
    }
   ],
   "source": [
    "results = compute_results(res)\n",
    "print(results)"
   ]
  },
  {
   "cell_type": "markdown",
   "id": "e3d40ea5-a989-44e0-a703-20ed919d3300",
   "metadata": {
    "jp-MarkdownHeadingCollapsed": true
   },
   "source": [
    "#### SL ViTb16"
   ]
  },
  {
   "cell_type": "code",
   "execution_count": null,
   "id": "9d78513b-5d2c-41c1-9de2-a6acfea678ec",
   "metadata": {
    "scrolled": true
   },
   "outputs": [],
   "source": [
    "# vitb16_9 - version 0\n",
    "res = E2E_model_evaluation(model_name=\"vit_b_16_9\")"
   ]
  },
  {
   "cell_type": "code",
   "execution_count": 27,
   "id": "2a67d27e-0f5b-41db-813f-e6d3a18c3b64",
   "metadata": {},
   "outputs": [
    {
     "name": "stdout",
     "output_type": "stream",
     "text": [
      "+---------------+--------------------+\n",
      "| Fold          | Accuracy           |\n",
      "+---------------+--------------------+\n",
      "| Fold fold_1   | 0.9064327478408813 |\n",
      "| Fold fold_2   | 0.8947368264198303 |\n",
      "| Fold fold_3   | 0.9005848169326782 |\n",
      "| Fold fold_4   | 0.8888888955116272 |\n",
      "| Fold fold_5   | 0.8882352709770203 |\n",
      "| Mean Accuracy | 0.8957757115364074 |\n",
      "+---------------+--------------------+\n"
     ]
    }
   ],
   "source": [
    "results = compute_results(res)\n",
    "print(results)"
   ]
  },
  {
   "cell_type": "code",
   "execution_count": null,
   "id": "715479c8-0864-4d1b-8cee-3b97f2fc6760",
   "metadata": {
    "scrolled": true
   },
   "outputs": [],
   "source": [
    "# vitb16_9 - version v1\n",
    "res = E2E_model_evaluation(model_name=\"vit_b_16_9\", version=\"v1\")"
   ]
  },
  {
   "cell_type": "code",
   "execution_count": 29,
   "id": "76587286-94ba-48aa-921c-d10a9b6392a8",
   "metadata": {},
   "outputs": [
    {
     "name": "stdout",
     "output_type": "stream",
     "text": [
      "+---------------+--------------------+\n",
      "| Fold          | Accuracy           |\n",
      "+---------------+--------------------+\n",
      "| Fold fold_1   | 0.9064327478408813 |\n",
      "| Fold fold_2   | 0.8830409646034241 |\n",
      "| Fold fold_3   | 0.9005848169326782 |\n",
      "| Fold fold_4   | 0.9005848169326782 |\n",
      "| Fold fold_5   | 0.8882352709770203 |\n",
      "| Mean Accuracy | 0.8957757234573365 |\n",
      "+---------------+--------------------+\n"
     ]
    }
   ],
   "source": [
    "results = compute_results(res)\n",
    "print(results)"
   ]
  },
  {
   "cell_type": "code",
   "execution_count": null,
   "id": "a8cce215-bf98-47e5-8d0a-0fe07d018be4",
   "metadata": {
    "scrolled": true
   },
   "outputs": [],
   "source": [
    "# vitb16_9 - version v2\n",
    "res = E2E_model_evaluation(model_name=\"vit_b_16_9\", version=\"v2\")"
   ]
  },
  {
   "cell_type": "code",
   "execution_count": 31,
   "id": "3cafb213-e456-4d96-bb02-d335423e2d31",
   "metadata": {},
   "outputs": [
    {
     "name": "stdout",
     "output_type": "stream",
     "text": [
      "+---------------+--------------------+\n",
      "| Fold          | Accuracy           |\n",
      "+---------------+--------------------+\n",
      "| Fold fold_1   | 0.9181286692619324 |\n",
      "| Fold fold_2   | 0.9005848169326782 |\n",
      "| Fold fold_3   | 0.8947368264198303 |\n",
      "| Fold fold_4   | 0.9181286692619324 |\n",
      "| Fold fold_5   | 0.8882352709770203 |\n",
      "| Mean Accuracy | 0.9039628505706787 |\n",
      "+---------------+--------------------+\n"
     ]
    }
   ],
   "source": [
    "results = compute_results(res)\n",
    "print(results)"
   ]
  },
  {
   "cell_type": "markdown",
   "id": "06f5a764-b5ee-4a73-bff7-b1f09fbc8b73",
   "metadata": {
    "jp-MarkdownHeadingCollapsed": true
   },
   "source": [
    "## Fine-tuning biomarker regression model"
   ]
  },
  {
   "cell_type": "markdown",
   "id": "019a6708-4af0-4d78-bf7f-f0c996fe2ad5",
   "metadata": {},
   "source": [
    "Finetuning was performed with GPU accelaration. To train model I have used python script `train_biomarker.py`.\n",
    "Using first fold I have searched for the best hyperparameters and hyperparameters yielding the best model, were used to train model on five folds."
   ]
  },
  {
   "cell_type": "markdown",
   "id": "e5ba2527-085c-4f5e-bed8-2cfd088c546f",
   "metadata": {
    "jp-MarkdownHeadingCollapsed": true
   },
   "source": [
    "## Biomarker Model evaluation on validation sets"
   ]
  },
  {
   "cell_type": "code",
   "execution_count": 19,
   "id": "0b6e4804-0469-494d-9343-d5977e86e88a",
   "metadata": {},
   "outputs": [],
   "source": [
    "def biom_model_evaluation(model_name:str, version:Optional[str]=None):\n",
    "    res={}\n",
    "    for fold in range(1,6):\n",
    "        print(f\"fold: {fold}\")\n",
    "        dm = DataModule(\n",
    "            fold=fold,\n",
    "            datapath=datapath,\n",
    "            batch_size=16,\n",
    "            num_workers=8,\n",
    "            task=\"Regression\"\n",
    "        )\n",
    "\n",
    "        if version is None:\n",
    "            ckpt_path = checkpoints_path+\"Biomarkers/\"+model_name+f\"_{fold}\"+\".ckpt\"\n",
    "        else:\n",
    "            ckpt_path = checkpoints_path+\"Biomarkers/\"+model_name+f\"_{fold}\"+f\"-{version}\"+\".ckpt\"\n",
    "        model = Biomarker_Model.load_from_checkpoint(ckpt_path)\n",
    "        torch.set_float32_matmul_precision('medium')\n",
    "        trainer = pl.Trainer(accelerator=\"gpu\", devices=1, precision=32, logger=False)\n",
    "        model.eval()\n",
    "        res[f\"fold_{fold}\"] = trainer.test(model, dm)\n",
    "    return res\n",
    "\n",
    "\n",
    "def compute_biom_results(raw_results:Dict[str, list]):\n",
    "    MSE = []\n",
    "    RMSE = []\n",
    "    folds = []\n",
    "    mean_MSE = 0\n",
    "    mean_RMSE = 0\n",
    "    n = 0\n",
    "    for fold in raw_results.keys():\n",
    "        cur_MSE = raw_results[fold][0][\"val_mse\"]\n",
    "        cur_RMSE = raw_results[fold][0][\"val_rmse\"]\n",
    "        MSE.append(cur_MSE)\n",
    "        RMSE.append(cur_RMSE)\n",
    "        folds.append(f\"Fold {fold}\")\n",
    "        mean_MSE += cur_MSE\n",
    "        mean_RMSE += cur_RMSE\n",
    "        n += 1\n",
    "    mean_MSE = mean_MSE/n\n",
    "    mean_RMSE = mean_RMSE/n\n",
    "\n",
    "    df = pd.DataFrame({\"Fold\": folds, \"MSE\": MSE, \"RMSE\": RMSE})\n",
    "    df.loc[len(df)] = ['Mean', mean_MSE, mean_RMSE]\n",
    "    \n",
    "    table = PrettyTable()\n",
    "    table.field_names = df.columns.tolist()\n",
    "\n",
    "    for row in df.itertuples(index=False):\n",
    "        table.add_row(row)\n",
    "\n",
    "    for field in df.columns:\n",
    "        table.align[field] = 'l'\n",
    "    \n",
    "    return table"
   ]
  },
  {
   "cell_type": "markdown",
   "id": "b145f5bc-0a45-4c93-b00a-d722e25cbcf2",
   "metadata": {
    "jp-MarkdownHeadingCollapsed": true
   },
   "source": [
    "#### DINO_vits8"
   ]
  },
  {
   "cell_type": "code",
   "execution_count": null,
   "id": "b111b3f5-17bc-4c11-ae59-235c37e56ebf",
   "metadata": {},
   "outputs": [],
   "source": [
    "# dino_vits8_20 - version 0\n",
    "res = biom_model_evaluation(model_name=\"dino_vits8_20\")"
   ]
  },
  {
   "cell_type": "code",
   "execution_count": 27,
   "id": "9507d4b8-38c0-49cd-9517-35672ea2445b",
   "metadata": {},
   "outputs": [
    {
     "name": "stdout",
     "output_type": "stream",
     "text": [
      "+-------------+---------------------+--------------------+\n",
      "| Fold        | MSE                 | RMSE               |\n",
      "+-------------+---------------------+--------------------+\n",
      "| Fold fold_1 | 0.47772809863090515 | 0.6838443875312805 |\n",
      "| Fold fold_2 | 0.4925924241542816  | 0.6967159509658813 |\n",
      "| Fold fold_3 | 0.4817977845668793  | 0.6909966468811035 |\n",
      "| Fold fold_4 | 0.437734991312027   | 0.657689094543457  |\n",
      "| Fold fold_5 | 0.4804145395755768  | 0.6858134269714355 |\n",
      "| Mean        | 0.47405356764793394 | 0.6830119013786315 |\n",
      "+-------------+---------------------+--------------------+\n"
     ]
    }
   ],
   "source": [
    "results = compute_biom_results(res)\n",
    "print(results)"
   ]
  },
  {
   "cell_type": "code",
   "execution_count": null,
   "id": "234126d6-c136-4d8e-a2cd-15d0d08cfb31",
   "metadata": {},
   "outputs": [],
   "source": [
    "# dino_vits8_20 - version v1\n",
    "res = biom_model_evaluation(model_name=\"dino_vits8_20\", version=\"v1\")"
   ]
  },
  {
   "cell_type": "code",
   "execution_count": 29,
   "id": "d6f2f5c5-0c15-4d33-affd-5ee444f840eb",
   "metadata": {},
   "outputs": [
    {
     "name": "stdout",
     "output_type": "stream",
     "text": [
      "+-------------+---------------------+--------------------+\n",
      "| Fold        | MSE                 | RMSE               |\n",
      "+-------------+---------------------+--------------------+\n",
      "| Fold fold_1 | 0.46627411246299744 | 0.6764076948165894 |\n",
      "| Fold fold_2 | 0.48672375082969666 | 0.6917068958282471 |\n",
      "| Fold fold_3 | 0.47457051277160645 | 0.6858831644058228 |\n",
      "| Fold fold_4 | 0.4468400776386261  | 0.6648386716842651 |\n",
      "| Fold fold_5 | 0.48623496294021606 | 0.6912744045257568 |\n",
      "| Mean        | 0.47212868332862856 | 0.6820221662521362 |\n",
      "+-------------+---------------------+--------------------+\n"
     ]
    }
   ],
   "source": [
    "results = compute_biom_results(res)\n",
    "print(results)"
   ]
  },
  {
   "cell_type": "code",
   "execution_count": null,
   "id": "e9d9f318-2493-43ca-a12d-b08d7d70f866",
   "metadata": {},
   "outputs": [],
   "source": [
    "# dino_vits8_20 - version v2\n",
    "res = biom_model_evaluation(model_name=\"dino_vits8_20\", version=\"v2\")"
   ]
  },
  {
   "cell_type": "code",
   "execution_count": 31,
   "id": "54072c45-b42b-40b2-a2c4-cf7822d7b3f5",
   "metadata": {},
   "outputs": [
    {
     "name": "stdout",
     "output_type": "stream",
     "text": [
      "+-------------+---------------------+--------------------+\n",
      "| Fold        | MSE                 | RMSE               |\n",
      "+-------------+---------------------+--------------------+\n",
      "| Fold fold_1 | 0.47864189743995667 | 0.6841988563537598 |\n",
      "| Fold fold_2 | 0.5027711391448975  | 0.7041217088699341 |\n",
      "| Fold fold_3 | 0.4644819498062134  | 0.6785911321640015 |\n",
      "| Fold fold_4 | 0.44567278027534485 | 0.6636403799057007 |\n",
      "| Fold fold_5 | 0.48993876576423645 | 0.6939759254455566 |\n",
      "| Mean        | 0.4763013064861298  | 0.6849056005477905 |\n",
      "+-------------+---------------------+--------------------+\n"
     ]
    }
   ],
   "source": [
    "results = compute_biom_results(res)\n",
    "print(results)"
   ]
  },
  {
   "cell_type": "markdown",
   "id": "0e8fa543-c257-45e7-9e8c-d72a5801c418",
   "metadata": {
    "jp-MarkdownHeadingCollapsed": true
   },
   "source": [
    "#### DINO_vitb8"
   ]
  },
  {
   "cell_type": "code",
   "execution_count": null,
   "id": "0be97d30-b804-4e2f-8245-9a3d408615b8",
   "metadata": {
    "scrolled": true
   },
   "outputs": [],
   "source": [
    "# dino_vitb8_22 - version 0\n",
    "res = biom_model_evaluation(model_name=\"dino_vitb8_22\")"
   ]
  },
  {
   "cell_type": "code",
   "execution_count": 33,
   "id": "c83873c6-6aad-40aa-a701-e23bb9bc9ab8",
   "metadata": {},
   "outputs": [
    {
     "name": "stdout",
     "output_type": "stream",
     "text": [
      "+-------------+---------------------+--------------------+\n",
      "| Fold        | MSE                 | RMSE               |\n",
      "+-------------+---------------------+--------------------+\n",
      "| Fold fold_1 | 0.4548805058002472  | 0.6630585193634033 |\n",
      "| Fold fold_2 | 0.431853711605072   | 0.6501020789146423 |\n",
      "| Fold fold_3 | 0.42006585001945496 | 0.6449114680290222 |\n",
      "| Fold fold_4 | 0.40646445751190186 | 0.6336378455162048 |\n",
      "| Fold fold_5 | 0.40543287992477417 | 0.6314957737922668 |\n",
      "| Mean        | 0.42373948097229003 | 0.6446411371231079 |\n",
      "+-------------+---------------------+--------------------+\n"
     ]
    }
   ],
   "source": [
    "results = compute_biom_results(res)\n",
    "print(results)"
   ]
  },
  {
   "cell_type": "code",
   "execution_count": null,
   "id": "7fca052d-e5fb-462c-93e0-cffaa31850bf",
   "metadata": {},
   "outputs": [],
   "source": [
    "# dino_vitb8_22 - version v1\n",
    "res = biom_model_evaluation(model_name=\"dino_vitb8_22\", version=\"v1\")"
   ]
  },
  {
   "cell_type": "code",
   "execution_count": 35,
   "id": "5b3716dc-965f-451a-a5bd-4ec8e3004011",
   "metadata": {},
   "outputs": [
    {
     "name": "stdout",
     "output_type": "stream",
     "text": [
      "+-------------+--------------------+--------------------+\n",
      "| Fold        | MSE                | RMSE               |\n",
      "+-------------+--------------------+--------------------+\n",
      "| Fold fold_1 | 0.4477558135986328 | 0.6606637835502625 |\n",
      "| Fold fold_2 | 0.4270491898059845 | 0.6478157043457031 |\n",
      "| Fold fold_3 | 0.4170427918434143 | 0.6431949734687805 |\n",
      "| Fold fold_4 | 0.4030633568763733 | 0.6321068406105042 |\n",
      "| Fold fold_5 | 0.4004560112953186 | 0.6284404993057251 |\n",
      "| Mean        | 0.4190734326839447 | 0.6424443602561951 |\n",
      "+-------------+--------------------+--------------------+\n"
     ]
    }
   ],
   "source": [
    "results = compute_biom_results(res)\n",
    "print(results)"
   ]
  },
  {
   "cell_type": "code",
   "execution_count": null,
   "id": "8a76ff16-4da0-4bba-a1f3-b54eaad58d08",
   "metadata": {},
   "outputs": [],
   "source": [
    "# dino_vitb8_22 - version v2\n",
    "res = biom_model_evaluation(model_name=\"dino_vitb8_22\", version=\"v2\")"
   ]
  },
  {
   "cell_type": "code",
   "execution_count": 37,
   "id": "b9a0e075-9831-4f1d-8558-9e69262286df",
   "metadata": {},
   "outputs": [
    {
     "name": "stdout",
     "output_type": "stream",
     "text": [
      "+-------------+---------------------+--------------------+\n",
      "| Fold        | MSE                 | RMSE               |\n",
      "+-------------+---------------------+--------------------+\n",
      "| Fold fold_1 | 0.4480020999908447  | 0.6606625318527222 |\n",
      "| Fold fold_2 | 0.4396868646144867  | 0.6572553515434265 |\n",
      "| Fold fold_3 | 0.42537322640419006 | 0.6493530869483948 |\n",
      "| Fold fold_4 | 0.3977943956851959  | 0.6271524429321289 |\n",
      "| Fold fold_5 | 0.40917542576789856 | 0.6344937682151794 |\n",
      "| Mean        | 0.4240064024925232  | 0.6457834362983703 |\n",
      "+-------------+---------------------+--------------------+\n"
     ]
    }
   ],
   "source": [
    "results = compute_biom_results(res)\n",
    "print(results)"
   ]
  },
  {
   "cell_type": "markdown",
   "id": "674b1c37-0cf1-4a0b-871e-4ca9b96b58df",
   "metadata": {
    "jp-MarkdownHeadingCollapsed": true
   },
   "source": [
    "#### DINO_vits16"
   ]
  },
  {
   "cell_type": "code",
   "execution_count": null,
   "id": "05be60c9-4998-4101-b0a5-72cae2df86f6",
   "metadata": {
    "scrolled": true
   },
   "outputs": [],
   "source": [
    "# dino_vits16_21 - version 0\n",
    "res = biom_model_evaluation(model_name=\"dino_vits16_21\")"
   ]
  },
  {
   "cell_type": "code",
   "execution_count": 39,
   "id": "817df836-91a4-43e7-975e-842db810e3e1",
   "metadata": {},
   "outputs": [
    {
     "name": "stdout",
     "output_type": "stream",
     "text": [
      "+-------------+---------------------+--------------------+\n",
      "| Fold        | MSE                 | RMSE               |\n",
      "+-------------+---------------------+--------------------+\n",
      "| Fold fold_1 | 0.49294963479042053 | 0.6982766389846802 |\n",
      "| Fold fold_2 | 0.5367931723594666  | 0.7286670207977295 |\n",
      "| Fold fold_3 | 0.46141350269317627 | 0.6767612099647522 |\n",
      "| Fold fold_4 | 0.470838725566864   | 0.6825510263442993 |\n",
      "| Fold fold_5 | 0.49312978982925415 | 0.6954806447029114 |\n",
      "| Mean        | 0.4910249650478363  | 0.6963473081588745 |\n",
      "+-------------+---------------------+--------------------+\n"
     ]
    }
   ],
   "source": [
    "results = compute_biom_results(res)\n",
    "print(results)"
   ]
  },
  {
   "cell_type": "code",
   "execution_count": null,
   "id": "4393b442-131d-45ff-a812-4693046e4256",
   "metadata": {},
   "outputs": [],
   "source": [
    "# dino_vits16_21 - version v1\n",
    "res = biom_model_evaluation(model_name=\"dino_vits16_21\", version=\"v1\")"
   ]
  },
  {
   "cell_type": "code",
   "execution_count": 41,
   "id": "fed7af66-d94d-417f-b1c9-fed918001ee7",
   "metadata": {},
   "outputs": [
    {
     "name": "stdout",
     "output_type": "stream",
     "text": [
      "+-------------+---------------------+--------------------+\n",
      "| Fold        | MSE                 | RMSE               |\n",
      "+-------------+---------------------+--------------------+\n",
      "| Fold fold_1 | 0.5102280378341675  | 0.7090757489204407 |\n",
      "| Fold fold_2 | 0.5190607905387878  | 0.7162201404571533 |\n",
      "| Fold fold_3 | 0.4497787356376648  | 0.6675020456314087 |\n",
      "| Fold fold_4 | 0.46578091382980347 | 0.6788238883018494 |\n",
      "| Fold fold_5 | 0.49255266785621643 | 0.6955915093421936 |\n",
      "| Mean        | 0.487480229139328   | 0.6934426665306092 |\n",
      "+-------------+---------------------+--------------------+\n"
     ]
    }
   ],
   "source": [
    "results = compute_biom_results(res)\n",
    "print(results)"
   ]
  },
  {
   "cell_type": "code",
   "execution_count": null,
   "id": "97496031-0f8e-4180-912f-65a779f13c51",
   "metadata": {},
   "outputs": [],
   "source": [
    "# dino_vits16_21 - version v2\n",
    "res = biom_model_evaluation(model_name=\"dino_vits16_21\", version=\"v2\")"
   ]
  },
  {
   "cell_type": "code",
   "execution_count": 43,
   "id": "a0248a55-8f83-464c-9e95-f1b98e21225c",
   "metadata": {},
   "outputs": [
    {
     "name": "stdout",
     "output_type": "stream",
     "text": [
      "+-------------+---------------------+--------------------+\n",
      "| Fold        | MSE                 | RMSE               |\n",
      "+-------------+---------------------+--------------------+\n",
      "| Fold fold_1 | 0.4972267746925354  | 0.7007282376289368 |\n",
      "| Fold fold_2 | 0.5260489583015442  | 0.721137523651123  |\n",
      "| Fold fold_3 | 0.44932350516319275 | 0.6678690910339355 |\n",
      "| Fold fold_4 | 0.4724162518978119  | 0.6823030710220337 |\n",
      "| Fold fold_5 | 0.49456363916397095 | 0.6974434852600098 |\n",
      "| Mean        | 0.48791582584381105 | 0.6938962817192078 |\n",
      "+-------------+---------------------+--------------------+\n"
     ]
    }
   ],
   "source": [
    "results = compute_biom_results(res)\n",
    "print(results)"
   ]
  },
  {
   "cell_type": "markdown",
   "id": "3598d4bf-bd7a-495b-9f21-bdde3e0c8a2d",
   "metadata": {
    "jp-MarkdownHeadingCollapsed": true
   },
   "source": [
    "#### DINO_vitb16"
   ]
  },
  {
   "cell_type": "code",
   "execution_count": null,
   "id": "ea46e3b6-7bf1-45e1-952f-76ff1d40376f",
   "metadata": {},
   "outputs": [],
   "source": [
    "# dino_vitb16_23 - version 0\n",
    "res = biom_model_evaluation(model_name=\"dino_vitb16_23\")"
   ]
  },
  {
   "cell_type": "code",
   "execution_count": 45,
   "id": "58d86a6d-5405-4f0c-97e0-bb5a3fd3e140",
   "metadata": {},
   "outputs": [
    {
     "name": "stdout",
     "output_type": "stream",
     "text": [
      "+-------------+---------------------+--------------------+\n",
      "| Fold        | MSE                 | RMSE               |\n",
      "+-------------+---------------------+--------------------+\n",
      "| Fold fold_1 | 0.4608401358127594  | 0.6715735793113708 |\n",
      "| Fold fold_2 | 0.46194809675216675 | 0.6742401123046875 |\n",
      "| Fold fold_3 | 0.42323508858680725 | 0.6471384167671204 |\n",
      "| Fold fold_4 | 0.38727903366088867 | 0.6189811825752258 |\n",
      "| Fold fold_5 | 0.44304144382476807 | 0.6589334607124329 |\n",
      "| Mean        | 0.435268759727478   | 0.6541733503341675 |\n",
      "+-------------+---------------------+--------------------+\n"
     ]
    }
   ],
   "source": [
    "results = compute_biom_results(res)\n",
    "print(results)"
   ]
  },
  {
   "cell_type": "code",
   "execution_count": null,
   "id": "23b06894-4fcc-41b1-bcc6-abf37255c6af",
   "metadata": {
    "scrolled": true
   },
   "outputs": [],
   "source": [
    "# dino_vitb16_23 - version v1\n",
    "res = biom_model_evaluation(model_name=\"dino_vitb16_23\", version=\"v1\")"
   ]
  },
  {
   "cell_type": "code",
   "execution_count": 47,
   "id": "0e2b8ca7-6146-4e1c-b52a-88f7d9114386",
   "metadata": {},
   "outputs": [
    {
     "name": "stdout",
     "output_type": "stream",
     "text": [
      "+-------------+---------------------+--------------------+\n",
      "| Fold        | MSE                 | RMSE               |\n",
      "+-------------+---------------------+--------------------+\n",
      "| Fold fold_1 | 0.4586869478225708  | 0.670350193977356  |\n",
      "| Fold fold_2 | 0.4612713158130646  | 0.6737255454063416 |\n",
      "| Fold fold_3 | 0.4214211106300354  | 0.6458151340484619 |\n",
      "| Fold fold_4 | 0.38610562682151794 | 0.6180040836334229 |\n",
      "| Fold fold_5 | 0.4385327994823456  | 0.6557394862174988 |\n",
      "| Mean        | 0.43320356011390687 | 0.6527268886566162 |\n",
      "+-------------+---------------------+--------------------+\n"
     ]
    }
   ],
   "source": [
    "results = compute_biom_results(res)\n",
    "print(results)"
   ]
  },
  {
   "cell_type": "code",
   "execution_count": null,
   "id": "ac646b62-d171-42ee-9e23-1d0fc06bb185",
   "metadata": {},
   "outputs": [],
   "source": [
    "# dino_vitb16_23 - version v2\n",
    "res = biom_model_evaluation(model_name=\"dino_vitb16_23\", version=\"v2\")"
   ]
  },
  {
   "cell_type": "code",
   "execution_count": 49,
   "id": "dba624f5-0fa0-41f9-8450-e13410576c91",
   "metadata": {},
   "outputs": [
    {
     "name": "stdout",
     "output_type": "stream",
     "text": [
      "+-------------+---------------------+--------------------+\n",
      "| Fold        | MSE                 | RMSE               |\n",
      "+-------------+---------------------+--------------------+\n",
      "| Fold fold_1 | 0.4523272216320038  | 0.665888249874115  |\n",
      "| Fold fold_2 | 0.4372449219226837  | 0.6554130911827087 |\n",
      "| Fold fold_3 | 0.41876962780952454 | 0.6437686085700989 |\n",
      "| Fold fold_4 | 0.3852725923061371  | 0.6172862648963928 |\n",
      "| Fold fold_5 | 0.44119030237197876 | 0.6581307053565979 |\n",
      "| Mean        | 0.42696093320846557 | 0.6480973839759827 |\n",
      "+-------------+---------------------+--------------------+\n"
     ]
    }
   ],
   "source": [
    "results = compute_biom_results(res)\n",
    "print(results)"
   ]
  },
  {
   "cell_type": "markdown",
   "id": "0c258b8b-c12b-4f6c-8846-c436287e7cb2",
   "metadata": {
    "jp-MarkdownHeadingCollapsed": true
   },
   "source": [
    "#### SL ViTb16"
   ]
  },
  {
   "cell_type": "code",
   "execution_count": null,
   "id": "e7a9326a-a5bd-45ec-a9d1-6f681526482d",
   "metadata": {},
   "outputs": [],
   "source": [
    "# vit_b_16_24 - version 0\n",
    "res = biom_model_evaluation(model_name=\"vit_b_16_24\")"
   ]
  },
  {
   "cell_type": "code",
   "execution_count": 51,
   "id": "d16f909e-5ffe-4d24-b70a-3faaa7ea944e",
   "metadata": {},
   "outputs": [
    {
     "name": "stdout",
     "output_type": "stream",
     "text": [
      "+-------------+---------------------+--------------------+\n",
      "| Fold        | MSE                 | RMSE               |\n",
      "+-------------+---------------------+--------------------+\n",
      "| Fold fold_1 | 0.4219968914985657  | 0.6414162516593933 |\n",
      "| Fold fold_2 | 0.4275776743888855  | 0.6475473046302795 |\n",
      "| Fold fold_3 | 0.3998645842075348  | 0.6286083459854126 |\n",
      "| Fold fold_4 | 0.38622865080833435 | 0.6184868216514587 |\n",
      "| Fold fold_5 | 0.4048093855381012  | 0.630445122718811  |\n",
      "| Mean        | 0.4080954372882843  | 0.6333007693290711 |\n",
      "+-------------+---------------------+--------------------+\n"
     ]
    }
   ],
   "source": [
    "results = compute_biom_results(res)\n",
    "print(results)"
   ]
  },
  {
   "cell_type": "code",
   "execution_count": null,
   "id": "5bea3f03-bf3b-4393-925d-81057b8b4b3a",
   "metadata": {},
   "outputs": [],
   "source": [
    "# vit_b_16_24 - version v1\n",
    "res = biom_model_evaluation(model_name=\"vit_b_16_24\", version=\"v1\")"
   ]
  },
  {
   "cell_type": "code",
   "execution_count": 53,
   "id": "8a57d262-e8bc-4224-b124-efa8f301b823",
   "metadata": {},
   "outputs": [
    {
     "name": "stdout",
     "output_type": "stream",
     "text": [
      "+-------------+---------------------+--------------------+\n",
      "| Fold        | MSE                 | RMSE               |\n",
      "+-------------+---------------------+--------------------+\n",
      "| Fold fold_1 | 0.42907193303108215 | 0.6445633769035339 |\n",
      "| Fold fold_2 | 0.41226789355278015 | 0.6368703842163086 |\n",
      "| Fold fold_3 | 0.40877029299736023 | 0.6356061697006226 |\n",
      "| Fold fold_4 | 0.38617587089538574 | 0.6181685328483582 |\n",
      "| Fold fold_5 | 0.3927106559276581  | 0.6209197640419006 |\n",
      "| Mean        | 0.40579932928085327 | 0.6312256455421448 |\n",
      "+-------------+---------------------+--------------------+\n"
     ]
    }
   ],
   "source": [
    "results = compute_biom_results(res)\n",
    "print(results)"
   ]
  },
  {
   "cell_type": "code",
   "execution_count": null,
   "id": "93549727-c601-4a0b-891a-5586592b630b",
   "metadata": {},
   "outputs": [],
   "source": [
    "# vit_b_16_24 - version v2\n",
    "res = biom_model_evaluation(model_name=\"vit_b_16_24\", version=\"v2\")"
   ]
  },
  {
   "cell_type": "code",
   "execution_count": 55,
   "id": "64b2eb05-1f9e-44cf-83d6-1fc7142d50af",
   "metadata": {},
   "outputs": [
    {
     "name": "stdout",
     "output_type": "stream",
     "text": [
      "+-------------+---------------------+--------------------+\n",
      "| Fold        | MSE                 | RMSE               |\n",
      "+-------------+---------------------+--------------------+\n",
      "| Fold fold_1 | 0.4304415285587311  | 0.6456624269485474 |\n",
      "| Fold fold_2 | 0.41659653186798096 | 0.6385087370872498 |\n",
      "| Fold fold_3 | 0.4193733036518097  | 0.6435497999191284 |\n",
      "| Fold fold_4 | 0.38416606187820435 | 0.6162351965904236 |\n",
      "| Fold fold_5 | 0.39789634943008423 | 0.6250723600387573 |\n",
      "| Mean        | 0.4096947550773621  | 0.6338057041168212 |\n",
      "+-------------+---------------------+--------------------+\n"
     ]
    }
   ],
   "source": [
    "results = compute_biom_results(res)\n",
    "print(results)"
   ]
  }
 ],
 "metadata": {
  "kernelspec": {
   "display_name": "Python 3 (ipykernel)",
   "language": "python",
   "name": "python3"
  },
  "language_info": {
   "codemirror_mode": {
    "name": "ipython",
    "version": 3
   },
   "file_extension": ".py",
   "mimetype": "text/x-python",
   "name": "python",
   "nbconvert_exporter": "python",
   "pygments_lexer": "ipython3",
   "version": "3.12.2"
  }
 },
 "nbformat": 4,
 "nbformat_minor": 5
}
